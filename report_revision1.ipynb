{
 "cells": [
  {
   "cell_type": "markdown",
   "metadata": {},
   "source": [
    "#Identifying Fraud from Enron Data Set\n",
    "\n",
    "<em><small>Uirá Caiado. June 21, 2015</small></em>\n",
    "\n",
    "----------"
   ]
  },
  {
   "cell_type": "markdown",
   "metadata": {},
   "source": [
    "###Abstract\n",
    "\n",
    "I explore the public Enron financial and email dataset to identify Enron Employees who may have committed fraud. My goal is to build a machine learning algorithm to solve this chalange."
   ]
  },
  {
   "cell_type": "markdown",
   "metadata": {},
   "source": [
    "###Introduction\n",
    "\n",
    "#####Some Background\n",
    "\n",
    "According to <a href=\"https://en.wikipedia.org/wiki/Enron\">Wikipedia</a>, Enron was an energy, commodities, and services company that had employed approximately 20,000 staff. It was one of the largest companies in the United States, with claimed revenues of nearly $111 billion during 2000.\n",
    "\n",
    "Also, it was one of the largest business scandals in American history, falling into bankruptcy in 2001 after was revealed widespread corporate fraud. As pointed out in the Udacity <a href=\"https://docs.google.com/document/d/10GYepNkDj-Kc_Sf6to3WX_q_SdymPOBJf3H-pq7a62g/pub\">project description</a>, in the resulting Federal investigation, there was a significant amount of typically confidential information entered into the public record, including emails and financial data for top executives.\n",
    "\n",
    "Given that there is a list of people who were somewhat involved in the scandal, here called person of interest (POI), I will try to develop a machine learning algorithm to identify those people with an acceptable accuracy."
   ]
  },
  {
   "cell_type": "markdown",
   "metadata": {},
   "source": [
    "##### How I Dealt With This Task\n",
    "\n",
    "To explore and iterate over each step of this project, I created a bunch of libraries to make my life easier and avoid cluttering this report with too much code. Here is a short description of each library used:\n",
    "\n",
    "1. __dataset.py__: Load and handle the data used in this project.\n",
    "2. __eda_new.py__: Explore the dataset and plot some charts. It is used in \"Understanding the Dataset\" section.\n",
    "3. __featureSelection.py__: Reshape the data to be used by Sklearn library, engineer new features and select the best ones.\n",
    "4. __classifiers.py__: Load and train different classifiers from Sklearn library. Uses `validation` library to evaluate each classifier and print a report.\n",
    "5. __validation.py__: An adapted version of `test_classifier` function from Udacity's `tester` library that implements Skleran's  `StratifiedShuffleSplit` method to croos-validate the classifier passed."
   ]
  },
  {
   "cell_type": "markdown",
   "metadata": {},
   "source": [
    "###Building a baseline\n",
    "\n",
    "##### Creating my first classification model\n",
    "\n",
    "Thinking about the typical workflow for Machine learning tasks, it could be:\n",
    "\n",
    "1. Exploring and understanding the input data\n",
    "2. Cleaning the dataset\n",
    "3. Analyzing how best to present it to the learning algorithm\n",
    "4. Choosing the right model and learning algorithm\n",
    "5. Measuring the performance correctly\n",
    "\n",
    "As pointed out by the Udacity code reviewer, \"Machine Learning can be very iterative\". After all, if the chosen algorithm didn't perform well, I will have to execute at least the 3 to 5 steps again.\n",
    "\n",
    "Let's start by creating a baseline for the next steps. For now, I will use the sklearn's standard implementation of `KNeighbors` algorithm and loop over each step to see which decisions result in better performance. The parameter of the ML method can be seen below:"
   ]
  },
  {
   "cell_type": "code",
   "execution_count": 22,
   "metadata": {
    "collapsed": false
   },
   "outputs": [
    {
     "data": {
      "text/plain": [
       "Pipeline(steps=[('KNeighbors', KNeighborsClassifier(algorithm='auto', leaf_size=30, metric='minkowski',\n",
       "           metric_params=None, n_neighbors=5, p=2, weights='uniform'))])"
      ]
     },
     "execution_count": 22,
     "metadata": {},
     "output_type": "execute_result"
    }
   ],
   "source": [
    "#use Classifier class from classifiers to load sklearn´s KNeighbors\n",
    "import classifiers\n",
    "clf = classifiers.Classifier(\"KNeighbors\", usePCA = False)\n",
    "clf.clf"
   ]
  },
  {
   "cell_type": "markdown",
   "metadata": {},
   "source": [
    "#####Evaluating it\n",
    "\n",
    "As mentioned above, one of the core steps in a machine learn task is evaluation. In the next sessions I always will report $3$ performance metrics: accuracy, precision and recall. I will discuss the details of each one later. Roughtly, accuracy is the fraction of examples that the model classifies correctly. The __recall__ is how many POIs was classified from all POIs in the dataset. __Precision__ means that, from all data points classified as POIs, how many were classified correctly. The equation for each metric is:\n",
    "\n",
    "- __accuracy__: $\\left ( TruePositives + TrueNegatives \\right )\\div \\left ( Positives + Negatives \\right )$\n",
    "- __precision__: $\\left ( TruePositives \\right )\\div \\left ( TruePositives + FalseNegatives \\right )$\n",
    "- __recall__: $\\left ( TruePositives \\right )\\div \\left ( TruePositives + FalsePositives \\right )$\n",
    "\n",
    "Below I am going replace the \"NaN\" values with zeros using `fill_and_remove` method from `dateset` library. Then,  I will split the data into a features and labels array using featureSelection's `getFeaturesAndLabels`. \n",
    "\n",
    "Finally, I will cross-validate it using `StratifiedShuffleSplit` with `folds=1000` and `random_state = 42`.  The last one is used to ensure that I will get the same result every time. I will explain why I am using this validation method in the last session.\n",
    "\n",
    "Here are the metrics for my baseline when using all data avaliable:"
   ]
  },
  {
   "cell_type": "code",
   "execution_count": 20,
   "metadata": {
    "collapsed": false
   },
   "outputs": [
    {
     "data": {
      "text/plain": [
       "<module 'featureSelection' from 'featureSelection.py'>"
      ]
     },
     "execution_count": 20,
     "metadata": {},
     "output_type": "execute_result"
    }
   ],
   "source": [
    "#exclude it from the final version\n",
    "import dataset; reload(dataset);\n",
    "import featureSelection; reload(featureSelection)"
   ]
  },
  {
   "cell_type": "code",
   "execution_count": 23,
   "metadata": {
    "collapsed": false
   },
   "outputs": [
    {
     "name": "stdout",
     "output_type": "stream",
     "text": [
      "\n",
      "Classifier Used\n",
      "------------------\n",
      "Pipeline(steps=[('KNeighbors', KNeighborsClassifier(algorithm='auto', leaf_size=30, metric='minkowski',\n",
      "           metric_params=None, n_neighbors=5, p=2, weights='uniform'))])\n",
      "\n",
      "Classification Report\n",
      "------------------\n",
      "Accuracy: 0.87307\tPrecision: 0.56667\tRecall: 0.20400\tF1: 0.30000\tF2: 0.23394\n",
      "\n",
      "Confusion Matrix\n",
      "------------------\n",
      "Total predictions: 15000\tTrue positives:  408\tFalse positives:  312\n",
      "\t\t\t\tFalse negatives: 1592\tTrue negatives: 12688\n",
      "\n"
     ]
    }
   ],
   "source": [
    "#create the objects used thoughout the project\n",
    "o_enron = dataset.LoadEnron()\n",
    "o_features = featureSelection.Features()\n",
    "#create a list of all features available in the dataset. I am excluding email address because \n",
    "#it is a string and poi because it is what I want to predict\n",
    "features_list = [x for x in o_enron.df.columns if x not in ['email_address','poi']]\n",
    "#fillna NaNs and reshape the data as numpy arrays\n",
    "o_enron.fill_and_remove(l_features= features_list, b_remove=False)\n",
    "labels, features= o_features.getFeaturesAndLabels(o_enron, l_columns = features_list)\n",
    "#train ML and print a report\n",
    "clf.crossValidation(features, labels)"
   ]
  },
  {
   "cell_type": "markdown",
   "metadata": {},
   "source": [
    "###Understanding the Dataset\n",
    "\n",
    "#####Data Exploration\n",
    "\n",
    "The data set is relatively small, and the number of identified POIs is even smaller. There are 146 different data points, or people, in this collection, but just 18 were classified as POIs. Each data point has 21 features, although more than half of these features didn't display any information for 40% or more of all dataset, as shown below."
   ]
  },
  {
   "cell_type": "code",
   "execution_count": 28,
   "metadata": {
    "collapsed": false
   },
   "outputs": [
    {
     "data": {
      "image/png": "[encoded data removed]",
      "text/plain": [
       "<matplotlib.figure.Figure at 0x1ab53dd8>"
      ]
     },
     "metadata": {},
     "output_type": "display_data"
    }
   ],
   "source": [
    "#create and eda instance and plot the percentage of Nans in dataset\n",
    "import eda_new; reload(eda_new);\n",
    "o_stats = eda_new.Eda()\n",
    "o_stats.NanAtFetaures(o_enron);"
   ]
  },
  {
   "cell_type": "markdown",
   "metadata": {},
   "source": [
    "Related to the features, I can categorize them into four groups:\n",
    "- *Metadata*: 2 in total. If it is POI and email address. POI is what I want to predicted\n",
    "- *Payments*: 10 in total. One is the summation and others are Salary, Bonus...\n",
    "- *Stock Value*: 4 in total. One is also summation. for instance, Restricted stock options, Excercise stock options...\n",
    "- *Emails*: 5 in total. Examples are \"from POI to this person\", \"from messages\"...\n",
    "\n",
    "According to the documentary [The smartest guys in the room](https://www.youtube.com/watch?v=pRWXW87YrlM), the executives involved in the scandal used to exercise their option positions early. Later I will check if it can be a useful to identify POIs. Also, I don´t know if I will use the summations in Payments and Stock Value features. Maybe to look for outliers or to build new features. Excluding the both features, the POI features (that is the target) and the email address, it leaves me with 18 features to use.\n",
    "\n",
    "Despite all the missing data, it still would be complex to analyze all possible correlations between these features. Here is where machine learning (ML) comes to play. Quonting this [book](http://www.amazon.com/Building-Machine-Learning-Systems-Python/dp/1782161406), ML teaches machines how to carry out tasks by themselves, providing them with a couple of examples."
   ]
  },
  {
   "cell_type": "markdown",
   "metadata": {},
   "source": [
    "#####Outlier Investigation\n",
    "\n",
    "The point here is those examples mentioned. They should be VALID examples if I want to build a good estimator or classifier. Then, first of all, I need to look for outliers. Let's check it by looking some of the features."
   ]
  },
  {
   "cell_type": "code",
   "execution_count": 29,
   "metadata": {
    "collapsed": false
   },
   "outputs": [
    {
     "data": {
      "image/png": "[encoded data removed]",
      "text/plain": [
       "<matplotlib.figure.Figure at 0x1abef358>"
      ]
     },
     "metadata": {},
     "output_type": "display_data"
    }
   ],
   "source": [
    "#\n",
    "o_stats.scatter(\"salary\", \"bonus\", o_enron)"
   ]
  },
  {
   "cell_type": "markdown",
   "metadata": {},
   "source": [
    "Here can be easily visualized that there is some data far away from the most of the data points. First, I am going to check who is in the top $10$% of the \"salary\" feature.\n"
   ]
  },
  {
   "cell_type": "code",
   "execution_count": 33,
   "metadata": {
    "collapsed": false
   },
   "outputs": [
    {
     "data": {
      "text/html": [
       "<div>\n",
       "<table border=\"1\" class=\"dataframe\">\n",
       "  <thead>\n",
       "    <tr style=\"text-align: right;\">\n",
       "      <th></th>\n",
       "      <th>salary</th>\n",
       "      <th>poi</th>\n",
       "    </tr>\n",
       "  </thead>\n",
       "  <tbody>\n",
       "    <tr>\n",
       "      <th>TOTAL</th>\n",
       "      <td>26704229</td>\n",
       "      <td>False</td>\n",
       "    </tr>\n",
       "  </tbody>\n",
       "</table>\n",
       "</div>"
      ],
      "text/plain": [
       "         salary    poi\n",
       "TOTAL  26704229  False"
      ]
     },
     "execution_count": 33,
     "metadata": {},
     "output_type": "execute_result"
    }
   ],
   "source": [
    "#\n",
    "o_stats.getDecile('salary', o_enron)"
   ]
  },
  {
   "cell_type": "markdown",
   "metadata": {},
   "source": [
    "Hm... a summation. It is clear invalid. I will exclude this data point and run the scatter plot again "
   ]
  },
  {
   "cell_type": "code",
   "execution_count": 30,
   "metadata": {
    "collapsed": false
   },
   "outputs": [
    {
     "data": {
      "image/png": "[encoded data removed]",
      "text/plain": [
       "<matplotlib.figure.Figure at 0x1b3e6518>"
      ]
     },
     "metadata": {},
     "output_type": "display_data"
    }
   ],
   "source": [
    "#\n",
    "o_enron.excludeOutliers(l_outliers =  [\"TOTAL\"])\n",
    "o_stats.scatter(\"salary\", \"bonus\", o_enron)"
   ]
  },
  {
   "cell_type": "markdown",
   "metadata": {},
   "source": [
    "Much better. Looking at the last decile of each feature, I can see that neither salary or bonus seems hold real outliers. Curiously, the biggest bonus wasn't to a POI."
   ]
  },
  {
   "cell_type": "code",
   "execution_count": 31,
   "metadata": {
    "collapsed": false
   },
   "outputs": [
    {
     "data": {
      "text/html": [
       "<div>\n",
       "<table border=\"1\" class=\"dataframe\">\n",
       "  <thead>\n",
       "    <tr style=\"text-align: right;\">\n",
       "      <th></th>\n",
       "      <th>salary</th>\n",
       "      <th>poi</th>\n",
       "    </tr>\n",
       "  </thead>\n",
       "  <tbody>\n",
       "    <tr>\n",
       "      <th>SKILLING JEFFREY K</th>\n",
       "      <td>1111258</td>\n",
       "      <td>True</td>\n",
       "    </tr>\n",
       "  </tbody>\n",
       "</table>\n",
       "</div>"
      ],
      "text/plain": [
       "                     salary   poi\n",
       "SKILLING JEFFREY K  1111258  True"
      ]
     },
     "execution_count": 31,
     "metadata": {},
     "output_type": "execute_result"
    }
   ],
   "source": [
    "#\n",
    "o_stats.getDecile('salary', o_enron)"
   ]
  },
  {
   "cell_type": "code",
   "execution_count": 32,
   "metadata": {
    "collapsed": false
   },
   "outputs": [
    {
     "data": {
      "text/html": [
       "<div>\n",
       "<table border=\"1\" class=\"dataframe\">\n",
       "  <thead>\n",
       "    <tr style=\"text-align: right;\">\n",
       "      <th></th>\n",
       "      <th>bonus</th>\n",
       "      <th>poi</th>\n",
       "    </tr>\n",
       "  </thead>\n",
       "  <tbody>\n",
       "    <tr>\n",
       "      <th>LAVORATO JOHN J</th>\n",
       "      <td>8000000</td>\n",
       "      <td>False</td>\n",
       "    </tr>\n",
       "  </tbody>\n",
       "</table>\n",
       "</div>"
      ],
      "text/plain": [
       "                   bonus    poi\n",
       "LAVORATO JOHN J  8000000  False"
      ]
     },
     "execution_count": 32,
     "metadata": {},
     "output_type": "execute_result"
    }
   ],
   "source": [
    "#\n",
    "o_stats.getDecile('bonus', o_enron)"
   ]
  },
  {
   "cell_type": "markdown",
   "metadata": {},
   "source": [
    "Well... Let's look if there is another outlier. First, I will use the summations to check other features. Any difference between the values I will show in a line called \"Delta\"."
   ]
  },
  {
   "cell_type": "code",
   "execution_count": 34,
   "metadata": {
    "collapsed": false
   },
   "outputs": [
    {
     "data": {
      "text/html": [
       "<div>\n",
       "<table border=\"1\" class=\"dataframe\">\n",
       "  <thead>\n",
       "    <tr style=\"text-align: right;\">\n",
       "      <th></th>\n",
       "      <th>BELFER ROBERT</th>\n",
       "    </tr>\n",
       "  </thead>\n",
       "  <tbody>\n",
       "    <tr>\n",
       "      <th>poi</th>\n",
       "      <td>0</td>\n",
       "    </tr>\n",
       "    <tr>\n",
       "      <th>restricted_stock</th>\n",
       "      <td>0</td>\n",
       "    </tr>\n",
       "    <tr>\n",
       "      <th>restricted_stock_deferred</th>\n",
       "      <td>44093</td>\n",
       "    </tr>\n",
       "    <tr>\n",
       "      <th>exercised_stock_options</th>\n",
       "      <td>3285</td>\n",
       "    </tr>\n",
       "    <tr>\n",
       "      <th>total_stock_value</th>\n",
       "      <td>-44093</td>\n",
       "    </tr>\n",
       "    <tr>\n",
       "      <th>Delta</th>\n",
       "      <td>91471</td>\n",
       "    </tr>\n",
       "  </tbody>\n",
       "</table>\n",
       "</div>"
      ],
      "text/plain": [
       "                           BELFER ROBERT\n",
       "poi                                    0\n",
       "restricted_stock                       0\n",
       "restricted_stock_deferred          44093\n",
       "exercised_stock_options             3285\n",
       "total_stock_value                 -44093\n",
       "Delta                              91471"
      ]
     },
     "execution_count": 34,
     "metadata": {},
     "output_type": "execute_result"
    }
   ],
   "source": [
    "#\n",
    "df1, df2 = o_stats.checkSummation(o_enron)\n",
    "#checking Stocks feature\n",
    "df1"
   ]
  },
  {
   "cell_type": "code",
   "execution_count": 35,
   "metadata": {
    "collapsed": false
   },
   "outputs": [
    {
     "data": {
      "text/html": [
       "<div>\n",
       "<table border=\"1\" class=\"dataframe\">\n",
       "  <thead>\n",
       "    <tr style=\"text-align: right;\">\n",
       "      <th></th>\n",
       "      <th>BELFER ROBERT</th>\n",
       "      <th>BHATNAGAR SANJAY</th>\n",
       "    </tr>\n",
       "  </thead>\n",
       "  <tbody>\n",
       "    <tr>\n",
       "      <th>poi</th>\n",
       "      <td>0</td>\n",
       "      <td>0</td>\n",
       "    </tr>\n",
       "    <tr>\n",
       "      <th>bonus</th>\n",
       "      <td>0</td>\n",
       "      <td>0</td>\n",
       "    </tr>\n",
       "    <tr>\n",
       "      <th>deferral_payments</th>\n",
       "      <td>-102500</td>\n",
       "      <td>0</td>\n",
       "    </tr>\n",
       "    <tr>\n",
       "      <th>deferred_income</th>\n",
       "      <td>0</td>\n",
       "      <td>0</td>\n",
       "    </tr>\n",
       "    <tr>\n",
       "      <th>director_fees</th>\n",
       "      <td>3285</td>\n",
       "      <td>137864</td>\n",
       "    </tr>\n",
       "    <tr>\n",
       "      <th>expenses</th>\n",
       "      <td>0</td>\n",
       "      <td>0</td>\n",
       "    </tr>\n",
       "    <tr>\n",
       "      <th>loan_advances</th>\n",
       "      <td>0</td>\n",
       "      <td>0</td>\n",
       "    </tr>\n",
       "    <tr>\n",
       "      <th>long_term_incentive</th>\n",
       "      <td>0</td>\n",
       "      <td>0</td>\n",
       "    </tr>\n",
       "    <tr>\n",
       "      <th>other</th>\n",
       "      <td>0</td>\n",
       "      <td>137864</td>\n",
       "    </tr>\n",
       "    <tr>\n",
       "      <th>salary</th>\n",
       "      <td>0</td>\n",
       "      <td>0</td>\n",
       "    </tr>\n",
       "    <tr>\n",
       "      <th>total_payments</th>\n",
       "      <td>102500</td>\n",
       "      <td>15456290</td>\n",
       "    </tr>\n",
       "    <tr>\n",
       "      <th>Delta</th>\n",
       "      <td>-201715</td>\n",
       "      <td>-15180562</td>\n",
       "    </tr>\n",
       "  </tbody>\n",
       "</table>\n",
       "</div>"
      ],
      "text/plain": [
       "                     BELFER ROBERT  BHATNAGAR SANJAY\n",
       "poi                              0                 0\n",
       "bonus                            0                 0\n",
       "deferral_payments          -102500                 0\n",
       "deferred_income                  0                 0\n",
       "director_fees                 3285            137864\n",
       "expenses                         0                 0\n",
       "loan_advances                    0                 0\n",
       "long_term_incentive              0                 0\n",
       "other                            0            137864\n",
       "salary                           0                 0\n",
       "total_payments              102500          15456290\n",
       "Delta                      -201715         -15180562"
      ]
     },
     "execution_count": 35,
     "metadata": {},
     "output_type": "execute_result"
    }
   ],
   "source": [
    "#checking Payments features\n",
    "df2"
   ]
  },
  {
   "cell_type": "markdown",
   "metadata": {},
   "source": [
    "Looking at the enron61702 pdf file, I can see that the differences above are due to some missing information. As it can bias the algorithms and both are non-POIs, I am going to exclude them."
   ]
  },
  {
   "cell_type": "code",
   "execution_count": 46,
   "metadata": {
    "collapsed": false
   },
   "outputs": [],
   "source": [
    "#excludeOutliers excludes the data point in the l_outliers list passed \n",
    "o_enron.excludeOutliers(l_outliers =  [\"BELFER ROBERT\",\"BHATNAGAR SANJAY\"])"
   ]
  },
  {
   "cell_type": "markdown",
   "metadata": {},
   "source": [
    "Ok, let's see if my baseline line algorithm will perform better after these outliers removal: "
   ]
  },
  {
   "cell_type": "code",
   "execution_count": 40,
   "metadata": {
    "collapsed": false
   },
   "outputs": [
    {
     "name": "stdout",
     "output_type": "stream",
     "text": [
      "\n",
      "Classifier Used\n",
      "------------------\n",
      "Pipeline(steps=[('KNeighbors', KNeighborsClassifier(algorithm='auto', leaf_size=30, metric='minkowski',\n",
      "           metric_params=None, n_neighbors=5, p=2, weights='uniform'))])\n",
      "\n",
      "Classification Report\n",
      "------------------\n",
      "Accuracy: 0.87947\tPrecision: 0.66000\tRecall: 0.19800\tF1: 0.30462\tF2: 0.23023\n",
      "\n",
      "Confusion Matrix\n",
      "------------------\n",
      "Total predictions: 15000\tTrue positives:  396\tFalse positives:  204\n",
      "\t\t\t\tFalse negatives: 1604\tTrue negatives: 12796\n",
      "\n"
     ]
    }
   ],
   "source": [
    "#reshape the dataset cleaned as numpy arrays\n",
    "o_enron.fill_and_remove(l_features= features_list, b_remove=False)\n",
    "labels, features= o_features.getFeaturesAndLabels(o_enron, l_columns = features_list)\n",
    "#train ML and print a report\n",
    "clf.crossValidation(features, labels)"
   ]
  },
  {
   "cell_type": "markdown",
   "metadata": {},
   "source": [
    "##### Handle Missing Values\n",
    "\n",
    "As I mentioned before, there are some features that presented numerous missing values. I am going to test two approachs in the algorithm performance. First, I will interpolate the missing values with the mean of each feature:\n",
    "\n",
    "\n",
    "\n",
    "\n"
   ]
  },
  {
   "cell_type": "code",
   "execution_count": null,
   "metadata": {
    "collapsed": true
   },
   "outputs": [],
   "source": [
    "#\n",
    "o_enron.fill_with_mean...\n",
    "crossvalidation..."
   ]
  },
  {
   "cell_type": "markdown",
   "metadata": {},
   "source": [
    "Ok, now I am going to input zeros in all \"Nan\" values in the data set, and then I will remove any data point that won't help  (all features are equal to zero). "
   ]
  },
  {
   "cell_type": "code",
   "execution_count": null,
   "metadata": {
    "collapsed": true
   },
   "outputs": [],
   "source": [
    "#\n",
    "o_enron.fill_and_remove()\n",
    "crossvalidation..."
   ]
  },
  {
   "cell_type": "markdown",
   "metadata": {},
   "source": [
    "Filling \"Nan\" values with zero was better. Here is a description of all numeric data after cleaning the dataset to see if there is any evidence of more outliers."
   ]
  },
  {
   "cell_type": "code",
   "execution_count": 47,
   "metadata": {
    "collapsed": false
   },
   "outputs": [
    {
     "data": {
      "text/html": [
       "<div>\n",
       "<table border=\"1\" class=\"dataframe\">\n",
       "  <thead>\n",
       "    <tr style=\"text-align: right;\">\n",
       "      <th></th>\n",
       "      <th>count</th>\n",
       "      <th>mean</th>\n",
       "      <th>std</th>\n",
       "      <th>min</th>\n",
       "      <th>25%</th>\n",
       "      <th>50%</th>\n",
       "      <th>75%</th>\n",
       "      <th>max</th>\n",
       "    </tr>\n",
       "  </thead>\n",
       "  <tbody>\n",
       "    <tr>\n",
       "      <th>bonus</th>\n",
       "      <td>142.00</td>\n",
       "      <td>685,518</td>\n",
       "      <td>1,239,221</td>\n",
       "      <td>0</td>\n",
       "      <td>0</td>\n",
       "      <td>300,000</td>\n",
       "      <td>800,000</td>\n",
       "      <td>8,000,000</td>\n",
       "    </tr>\n",
       "    <tr>\n",
       "      <th>deferral_payments</th>\n",
       "      <td>142.00</td>\n",
       "      <td>225,939</td>\n",
       "      <td>758,698</td>\n",
       "      <td>0</td>\n",
       "      <td>0</td>\n",
       "      <td>0</td>\n",
       "      <td>9,684</td>\n",
       "      <td>6,426,990</td>\n",
       "    </tr>\n",
       "    <tr>\n",
       "      <th>deferred_income</th>\n",
       "      <td>142.00</td>\n",
       "      <td>-196,411</td>\n",
       "      <td>609,852</td>\n",
       "      <td>-3,504,386</td>\n",
       "      <td>-37,926</td>\n",
       "      <td>0</td>\n",
       "      <td>0</td>\n",
       "      <td>0</td>\n",
       "    </tr>\n",
       "    <tr>\n",
       "      <th>director_fees</th>\n",
       "      <td>142.00</td>\n",
       "      <td>9,127</td>\n",
       "      <td>29,607</td>\n",
       "      <td>0</td>\n",
       "      <td>0</td>\n",
       "      <td>0</td>\n",
       "      <td>0</td>\n",
       "      <td>125,034</td>\n",
       "    </tr>\n",
       "    <tr>\n",
       "      <th>exercised_stock_options</th>\n",
       "      <td>142.00</td>\n",
       "      <td>2,086,674</td>\n",
       "      <td>4,826,031</td>\n",
       "      <td>0</td>\n",
       "      <td>0</td>\n",
       "      <td>608,294</td>\n",
       "      <td>1,660,454</td>\n",
       "      <td>34,348,384</td>\n",
       "    </tr>\n",
       "    <tr>\n",
       "      <th>expenses</th>\n",
       "      <td>142.00</td>\n",
       "      <td>35,874</td>\n",
       "      <td>45,432</td>\n",
       "      <td>0</td>\n",
       "      <td>0</td>\n",
       "      <td>21,937</td>\n",
       "      <td>53,741</td>\n",
       "      <td>228,763</td>\n",
       "    </tr>\n",
       "    <tr>\n",
       "      <th>from_messages</th>\n",
       "      <td>142.00</td>\n",
       "      <td>368</td>\n",
       "      <td>1,460</td>\n",
       "      <td>0</td>\n",
       "      <td>0</td>\n",
       "      <td>18</td>\n",
       "      <td>55</td>\n",
       "      <td>14,368</td>\n",
       "    </tr>\n",
       "    <tr>\n",
       "      <th>from_poi_to_this_person</th>\n",
       "      <td>142.00</td>\n",
       "      <td>39</td>\n",
       "      <td>75</td>\n",
       "      <td>0</td>\n",
       "      <td>0</td>\n",
       "      <td>6</td>\n",
       "      <td>42</td>\n",
       "      <td>528</td>\n",
       "    </tr>\n",
       "    <tr>\n",
       "      <th>from_this_person_to_poi</th>\n",
       "      <td>142.00</td>\n",
       "      <td>25</td>\n",
       "      <td>80</td>\n",
       "      <td>0</td>\n",
       "      <td>0</td>\n",
       "      <td>0</td>\n",
       "      <td>14</td>\n",
       "      <td>609</td>\n",
       "    </tr>\n",
       "    <tr>\n",
       "      <th>loan_advances</th>\n",
       "      <td>142.00</td>\n",
       "      <td>591,021</td>\n",
       "      <td>6,842,133</td>\n",
       "      <td>0</td>\n",
       "      <td>0</td>\n",
       "      <td>0</td>\n",
       "      <td>0</td>\n",
       "      <td>81,525,000</td>\n",
       "    </tr>\n",
       "    <tr>\n",
       "      <th>long_term_incentive</th>\n",
       "      <td>142.00</td>\n",
       "      <td>341,704</td>\n",
       "      <td>690,858</td>\n",
       "      <td>0</td>\n",
       "      <td>0</td>\n",
       "      <td>0</td>\n",
       "      <td>375,065</td>\n",
       "      <td>5,145,434</td>\n",
       "    </tr>\n",
       "    <tr>\n",
       "      <th>other</th>\n",
       "      <td>142.00</td>\n",
       "      <td>300,476</td>\n",
       "      <td>1,138,703</td>\n",
       "      <td>0</td>\n",
       "      <td>0</td>\n",
       "      <td>960</td>\n",
       "      <td>150,606</td>\n",
       "      <td>10,359,729</td>\n",
       "    </tr>\n",
       "    <tr>\n",
       "      <th>poi</th>\n",
       "      <td>142.00</td>\n",
       "      <td>0</td>\n",
       "      <td>0</td>\n",
       "      <td>0</td>\n",
       "      <td>0</td>\n",
       "      <td>0</td>\n",
       "      <td>0</td>\n",
       "      <td>1</td>\n",
       "    </tr>\n",
       "    <tr>\n",
       "      <th>restricted_stock</th>\n",
       "      <td>142.00</td>\n",
       "      <td>899,111</td>\n",
       "      <td>2,008,086</td>\n",
       "      <td>0</td>\n",
       "      <td>44,896</td>\n",
       "      <td>361,978</td>\n",
       "      <td>814,528</td>\n",
       "      <td>14,761,694</td>\n",
       "    </tr>\n",
       "    <tr>\n",
       "      <th>restricted_stock_deferred</th>\n",
       "      <td>142.00</td>\n",
       "      <td>-34,706</td>\n",
       "      <td>170,820</td>\n",
       "      <td>-1,787,380</td>\n",
       "      <td>0</td>\n",
       "      <td>0</td>\n",
       "      <td>0</td>\n",
       "      <td>0</td>\n",
       "    </tr>\n",
       "    <tr>\n",
       "      <th>salary</th>\n",
       "      <td>142.00</td>\n",
       "      <td>188,058</td>\n",
       "      <td>197,184</td>\n",
       "      <td>0</td>\n",
       "      <td>0</td>\n",
       "      <td>211,240</td>\n",
       "      <td>270,850</td>\n",
       "      <td>1,111,258</td>\n",
       "    </tr>\n",
       "    <tr>\n",
       "      <th>shared_receipt_with_poi</th>\n",
       "      <td>142.00</td>\n",
       "      <td>709</td>\n",
       "      <td>1,083</td>\n",
       "      <td>0</td>\n",
       "      <td>0</td>\n",
       "      <td>114</td>\n",
       "      <td>1,001</td>\n",
       "      <td>5,521</td>\n",
       "    </tr>\n",
       "    <tr>\n",
       "      <th>to_messages</th>\n",
       "      <td>142.00</td>\n",
       "      <td>1,252</td>\n",
       "      <td>2,250</td>\n",
       "      <td>0</td>\n",
       "      <td>0</td>\n",
       "      <td>348</td>\n",
       "      <td>1,655</td>\n",
       "      <td>15,149</td>\n",
       "    </tr>\n",
       "    <tr>\n",
       "      <th>total_payments</th>\n",
       "      <td>122.00</td>\n",
       "      <td>2,538,897</td>\n",
       "      <td>9,491,650</td>\n",
       "      <td>148</td>\n",
       "      <td>395,704</td>\n",
       "      <td>1,100,246</td>\n",
       "      <td>2,073,245</td>\n",
       "      <td>103,559,793</td>\n",
       "    </tr>\n",
       "    <tr>\n",
       "      <th>total_stock_value</th>\n",
       "      <td>124.00</td>\n",
       "      <td>3,379,461</td>\n",
       "      <td>6,552,176</td>\n",
       "      <td>28,798</td>\n",
       "      <td>495,259</td>\n",
       "      <td>1,102,872</td>\n",
       "      <td>2,721,124</td>\n",
       "      <td>49,110,078</td>\n",
       "    </tr>\n",
       "  </tbody>\n",
       "</table>\n",
       "</div>"
      ],
      "text/plain": [
       "                            count       mean        std         min      25%  \\\n",
       "bonus                      142.00    685,518  1,239,221           0        0   \n",
       "deferral_payments          142.00    225,939    758,698           0        0   \n",
       "deferred_income            142.00   -196,411    609,852  -3,504,386  -37,926   \n",
       "director_fees              142.00      9,127     29,607           0        0   \n",
       "exercised_stock_options    142.00  2,086,674  4,826,031           0        0   \n",
       "expenses                   142.00     35,874     45,432           0        0   \n",
       "from_messages              142.00        368      1,460           0        0   \n",
       "from_poi_to_this_person    142.00         39         75           0        0   \n",
       "from_this_person_to_poi    142.00         25         80           0        0   \n",
       "loan_advances              142.00    591,021  6,842,133           0        0   \n",
       "long_term_incentive        142.00    341,704    690,858           0        0   \n",
       "other                      142.00    300,476  1,138,703           0        0   \n",
       "poi                        142.00          0          0           0        0   \n",
       "restricted_stock           142.00    899,111  2,008,086           0   44,896   \n",
       "restricted_stock_deferred  142.00    -34,706    170,820  -1,787,380        0   \n",
       "salary                     142.00    188,058    197,184           0        0   \n",
       "shared_receipt_with_poi    142.00        709      1,083           0        0   \n",
       "to_messages                142.00      1,252      2,250           0        0   \n",
       "total_payments             122.00  2,538,897  9,491,650         148  395,704   \n",
       "total_stock_value          124.00  3,379,461  6,552,176      28,798  495,259   \n",
       "\n",
       "                                 50%        75%          max  \n",
       "bonus                        300,000    800,000    8,000,000  \n",
       "deferral_payments                  0      9,684    6,426,990  \n",
       "deferred_income                    0          0            0  \n",
       "director_fees                      0          0      125,034  \n",
       "exercised_stock_options      608,294  1,660,454   34,348,384  \n",
       "expenses                      21,937     53,741      228,763  \n",
       "from_messages                     18         55       14,368  \n",
       "from_poi_to_this_person            6         42          528  \n",
       "from_this_person_to_poi            0         14          609  \n",
       "loan_advances                      0          0   81,525,000  \n",
       "long_term_incentive                0    375,065    5,145,434  \n",
       "other                            960    150,606   10,359,729  \n",
       "poi                                0          0            1  \n",
       "restricted_stock             361,978    814,528   14,761,694  \n",
       "restricted_stock_deferred          0          0            0  \n",
       "salary                       211,240    270,850    1,111,258  \n",
       "shared_receipt_with_poi          114      1,001        5,521  \n",
       "to_messages                      348      1,655       15,149  \n",
       "total_payments             1,100,246  2,073,245  103,559,793  \n",
       "total_stock_value          1,102,872  2,721,124   49,110,078  "
      ]
     },
     "execution_count": 47,
     "metadata": {},
     "output_type": "execute_result"
    }
   ],
   "source": [
    "#\n",
    "o_stats.describe(o_enron)"
   ]
  },
  {
   "cell_type": "markdown",
   "metadata": {},
   "source": [
    "Although there are pretty big numbers in the financial information, they are all related to executives from Eron. Now, I have 142 data points left and I believe that I am done here. "
   ]
  },
  {
   "cell_type": "code",
   "execution_count": null,
   "metadata": {
    "collapsed": true
   },
   "outputs": [],
   "source": []
  },
  {
   "cell_type": "markdown",
   "metadata": {},
   "source": [
    "###Feature Selection and Engineering\n",
    "\n",
    "#####Creating and Scaling Features\n",
    "\n",
    "There are two points that caught my attention in the documentary \"The Smartest Guys in The Room\". First, some of the top executives used to spend a lot of the firm's money in strip clubs. Second, there were some employees who exercised much of their stock options earlier, knowing about the company's financial conditions. Based on these facts, I will include two more features to be tested:\n",
    "- Scaled Expenses: I can't compare to another Payment features from the data points because the amount of money they had made with salary or bonus might diminish the importance of this features. Then, I will scale this feature using its own maximum and minimun value.\n",
    "- Exercised Stock Option vs. Total of Payment: If a high stake of your money is in a company that you know that is going to crash, what would you do? Sell, sell as much as you can. I will divide the total of stock options that were exercised by the total of money each one has made (I will not consider the remain stock options). I want to know if the amount of options of each POIs were relevant to their saving accounts. I will scale this feature.\n",
    "\n",
    "Below I am going to draw the box plot of each new feature. I will exclude some outliers just to these visualizations."
   ]
  },
  {
   "cell_type": "code",
   "execution_count": 58,
   "metadata": {
    "collapsed": true
   },
   "outputs": [],
   "source": [
    "#exclude it from the final version\n",
    "import eda_new; reload(eda_new);\n",
    "import dataset; reload(dataset);\n",
    "import featureSelection; reload(featureSelection);\n",
    "\n",
    "o_enron = dataset.LoadEnron()\n",
    "o_stats = eda_new.Eda()\n",
    "o_features = featureSelection.Features()\n",
    "o_enron.excludeOutliers(l_outliers =  [\"BELFER ROBERT\",\"BHATNAGAR SANJAY\", \"TOTAL\"])\n",
    "o_enron.fill_and_remove()"
   ]
  },
  {
   "cell_type": "code",
   "execution_count": 59,
   "metadata": {
    "collapsed": false
   },
   "outputs": [
    {
     "data": {
      "image/png": "[encoded data removed]",
      "text/plain": [
       "<matplotlib.figure.Figure at 0x10a2ae0d0>"
      ]
     },
     "metadata": {},
     "output_type": "display_data"
    }
   ],
   "source": [
    "o_features.createNewFeatures(o_enron)\n",
    "o_stats.compareFeaturesCreated(o_enron)"
   ]
  },
  {
   "cell_type": "markdown",
   "metadata": {},
   "source": [
    "The Biggest Expenses feature is more dispersed when related to POIs. The second feature, the Option excercised compared to the total payment of each data point, doesn't seem much relevant. I will test both in the feature selection step. \n",
    "\n",
    "Lastly, as I intend to use the K-means algorithm as one of my machine-learning candidates, I will use scaled and non-scaled features in my tests. I have to scale the data because K-means uses the distance between the data points as a measure of similarity between them.\n",
    "\n",
    "Considering that there are two different units in the features to be tested, money and count of e-mails, I am going to scale each group of features separately, but all features of the same group together."
   ]
  },
  {
   "cell_type": "code",
   "execution_count": 60,
   "metadata": {
    "collapsed": false
   },
   "outputs": [
    {
     "data": {
      "text/html": [
       "<div>\n",
       "<table border=\"1\" class=\"dataframe\">\n",
       "  <thead>\n",
       "    <tr style=\"text-align: right;\">\n",
       "      <th></th>\n",
       "      <th>count</th>\n",
       "      <th>mean</th>\n",
       "      <th>std</th>\n",
       "      <th>min</th>\n",
       "      <th>25%</th>\n",
       "      <th>50%</th>\n",
       "      <th>75%</th>\n",
       "      <th>max</th>\n",
       "    </tr>\n",
       "  </thead>\n",
       "  <tbody>\n",
       "    <tr>\n",
       "      <th>bonus</th>\n",
       "      <td>142</td>\n",
       "      <td>0.049276</td>\n",
       "      <td>0.014574</td>\n",
       "      <td>0.041214</td>\n",
       "      <td>0.041214</td>\n",
       "      <td>0.044742</td>\n",
       "      <td>0.050622</td>\n",
       "      <td>0.135299</td>\n",
       "    </tr>\n",
       "    <tr>\n",
       "      <th>deferral_payments</th>\n",
       "      <td>142</td>\n",
       "      <td>0.043871</td>\n",
       "      <td>0.008923</td>\n",
       "      <td>0.041214</td>\n",
       "      <td>0.041214</td>\n",
       "      <td>0.041214</td>\n",
       "      <td>0.041328</td>\n",
       "      <td>0.116799</td>\n",
       "    </tr>\n",
       "    <tr>\n",
       "      <th>deferred_income</th>\n",
       "      <td>142</td>\n",
       "      <td>0.038904</td>\n",
       "      <td>0.007172</td>\n",
       "      <td>0.000000</td>\n",
       "      <td>0.040768</td>\n",
       "      <td>0.041214</td>\n",
       "      <td>0.041214</td>\n",
       "      <td>0.041214</td>\n",
       "    </tr>\n",
       "    <tr>\n",
       "      <th>director_fees</th>\n",
       "      <td>142</td>\n",
       "      <td>0.041321</td>\n",
       "      <td>0.000348</td>\n",
       "      <td>0.041214</td>\n",
       "      <td>0.041214</td>\n",
       "      <td>0.041214</td>\n",
       "      <td>0.041214</td>\n",
       "      <td>0.042684</td>\n",
       "    </tr>\n",
       "    <tr>\n",
       "      <th>exercised_stock_options</th>\n",
       "      <td>142</td>\n",
       "      <td>0.065754</td>\n",
       "      <td>0.056757</td>\n",
       "      <td>0.041214</td>\n",
       "      <td>0.041214</td>\n",
       "      <td>0.048368</td>\n",
       "      <td>0.060742</td>\n",
       "      <td>0.445173</td>\n",
       "    </tr>\n",
       "    <tr>\n",
       "      <th>expenses</th>\n",
       "      <td>142</td>\n",
       "      <td>0.041636</td>\n",
       "      <td>0.000534</td>\n",
       "      <td>0.041214</td>\n",
       "      <td>0.041214</td>\n",
       "      <td>0.041472</td>\n",
       "      <td>0.041846</td>\n",
       "      <td>0.043904</td>\n",
       "    </tr>\n",
       "    <tr>\n",
       "      <th>from_messages</th>\n",
       "      <td>142</td>\n",
       "      <td>0.024325</td>\n",
       "      <td>0.096398</td>\n",
       "      <td>0.000000</td>\n",
       "      <td>0.000000</td>\n",
       "      <td>0.001155</td>\n",
       "      <td>0.003631</td>\n",
       "      <td>0.948445</td>\n",
       "    </tr>\n",
       "    <tr>\n",
       "      <th>from_poi_to_this_person</th>\n",
       "      <td>142</td>\n",
       "      <td>0.002594</td>\n",
       "      <td>0.004928</td>\n",
       "      <td>0.000000</td>\n",
       "      <td>0.000000</td>\n",
       "      <td>0.000363</td>\n",
       "      <td>0.002756</td>\n",
       "      <td>0.034854</td>\n",
       "    </tr>\n",
       "    <tr>\n",
       "      <th>from_this_person_to_poi</th>\n",
       "      <td>142</td>\n",
       "      <td>0.001648</td>\n",
       "      <td>0.005300</td>\n",
       "      <td>0.000000</td>\n",
       "      <td>0.000000</td>\n",
       "      <td>0.000000</td>\n",
       "      <td>0.000924</td>\n",
       "      <td>0.040201</td>\n",
       "    </tr>\n",
       "    <tr>\n",
       "      <th>loan_advances</th>\n",
       "      <td>142</td>\n",
       "      <td>0.048165</td>\n",
       "      <td>0.080468</td>\n",
       "      <td>0.041214</td>\n",
       "      <td>0.041214</td>\n",
       "      <td>0.041214</td>\n",
       "      <td>0.041214</td>\n",
       "      <td>1.000000</td>\n",
       "    </tr>\n",
       "    <tr>\n",
       "      <th>long_term_incentive</th>\n",
       "      <td>142</td>\n",
       "      <td>0.045232</td>\n",
       "      <td>0.008125</td>\n",
       "      <td>0.041214</td>\n",
       "      <td>0.041214</td>\n",
       "      <td>0.041214</td>\n",
       "      <td>0.045625</td>\n",
       "      <td>0.101727</td>\n",
       "    </tr>\n",
       "    <tr>\n",
       "      <th>other</th>\n",
       "      <td>142</td>\n",
       "      <td>0.044748</td>\n",
       "      <td>0.013392</td>\n",
       "      <td>0.041214</td>\n",
       "      <td>0.041214</td>\n",
       "      <td>0.041225</td>\n",
       "      <td>0.042985</td>\n",
       "      <td>0.163051</td>\n",
       "    </tr>\n",
       "    <tr>\n",
       "      <th>restricted_stock</th>\n",
       "      <td>142</td>\n",
       "      <td>0.051788</td>\n",
       "      <td>0.023616</td>\n",
       "      <td>0.041214</td>\n",
       "      <td>0.041742</td>\n",
       "      <td>0.045471</td>\n",
       "      <td>0.050793</td>\n",
       "      <td>0.214821</td>\n",
       "    </tr>\n",
       "    <tr>\n",
       "      <th>restricted_stock_deferred</th>\n",
       "      <td>142</td>\n",
       "      <td>0.040806</td>\n",
       "      <td>0.002009</td>\n",
       "      <td>0.020193</td>\n",
       "      <td>0.041214</td>\n",
       "      <td>0.041214</td>\n",
       "      <td>0.041214</td>\n",
       "      <td>0.041214</td>\n",
       "    </tr>\n",
       "    <tr>\n",
       "      <th>salary</th>\n",
       "      <td>142</td>\n",
       "      <td>0.043426</td>\n",
       "      <td>0.002319</td>\n",
       "      <td>0.041214</td>\n",
       "      <td>0.041214</td>\n",
       "      <td>0.043698</td>\n",
       "      <td>0.044399</td>\n",
       "      <td>0.054283</td>\n",
       "    </tr>\n",
       "    <tr>\n",
       "      <th>shared_receipt_with_poi</th>\n",
       "      <td>142</td>\n",
       "      <td>0.046818</td>\n",
       "      <td>0.071495</td>\n",
       "      <td>0.000000</td>\n",
       "      <td>0.000000</td>\n",
       "      <td>0.007525</td>\n",
       "      <td>0.066093</td>\n",
       "      <td>0.364446</td>\n",
       "    </tr>\n",
       "    <tr>\n",
       "      <th>to_messages</th>\n",
       "      <td>142</td>\n",
       "      <td>0.082667</td>\n",
       "      <td>0.148532</td>\n",
       "      <td>0.000000</td>\n",
       "      <td>0.000000</td>\n",
       "      <td>0.022939</td>\n",
       "      <td>0.109248</td>\n",
       "      <td>1.000000</td>\n",
       "    </tr>\n",
       "    <tr>\n",
       "      <th>biggest_expenses</th>\n",
       "      <td>142</td>\n",
       "      <td>0.156816</td>\n",
       "      <td>0.198598</td>\n",
       "      <td>0.000000</td>\n",
       "      <td>0.000000</td>\n",
       "      <td>0.095894</td>\n",
       "      <td>0.234919</td>\n",
       "      <td>1.000000</td>\n",
       "    </tr>\n",
       "    <tr>\n",
       "      <th>percentual_exercised</th>\n",
       "      <td>142</td>\n",
       "      <td>0.013944</td>\n",
       "      <td>0.086260</td>\n",
       "      <td>0.000000</td>\n",
       "      <td>0.000000</td>\n",
       "      <td>0.000774</td>\n",
       "      <td>0.003628</td>\n",
       "      <td>1.000000</td>\n",
       "    </tr>\n",
       "  </tbody>\n",
       "</table>\n",
       "</div>"
      ],
      "text/plain": [
       "                           count      mean       std       min       25%  \\\n",
       "bonus                        142  0.049276  0.014574  0.041214  0.041214   \n",
       "deferral_payments            142  0.043871  0.008923  0.041214  0.041214   \n",
       "deferred_income              142  0.038904  0.007172  0.000000  0.040768   \n",
       "director_fees                142  0.041321  0.000348  0.041214  0.041214   \n",
       "exercised_stock_options      142  0.065754  0.056757  0.041214  0.041214   \n",
       "expenses                     142  0.041636  0.000534  0.041214  0.041214   \n",
       "from_messages                142  0.024325  0.096398  0.000000  0.000000   \n",
       "from_poi_to_this_person      142  0.002594  0.004928  0.000000  0.000000   \n",
       "from_this_person_to_poi      142  0.001648  0.005300  0.000000  0.000000   \n",
       "loan_advances                142  0.048165  0.080468  0.041214  0.041214   \n",
       "long_term_incentive          142  0.045232  0.008125  0.041214  0.041214   \n",
       "other                        142  0.044748  0.013392  0.041214  0.041214   \n",
       "restricted_stock             142  0.051788  0.023616  0.041214  0.041742   \n",
       "restricted_stock_deferred    142  0.040806  0.002009  0.020193  0.041214   \n",
       "salary                       142  0.043426  0.002319  0.041214  0.041214   \n",
       "shared_receipt_with_poi      142  0.046818  0.071495  0.000000  0.000000   \n",
       "to_messages                  142  0.082667  0.148532  0.000000  0.000000   \n",
       "biggest_expenses             142  0.156816  0.198598  0.000000  0.000000   \n",
       "percentual_exercised         142  0.013944  0.086260  0.000000  0.000000   \n",
       "\n",
       "                                50%       75%       max  \n",
       "bonus                      0.044742  0.050622  0.135299  \n",
       "deferral_payments          0.041214  0.041328  0.116799  \n",
       "deferred_income            0.041214  0.041214  0.041214  \n",
       "director_fees              0.041214  0.041214  0.042684  \n",
       "exercised_stock_options    0.048368  0.060742  0.445173  \n",
       "expenses                   0.041472  0.041846  0.043904  \n",
       "from_messages              0.001155  0.003631  0.948445  \n",
       "from_poi_to_this_person    0.000363  0.002756  0.034854  \n",
       "from_this_person_to_poi    0.000000  0.000924  0.040201  \n",
       "loan_advances              0.041214  0.041214  1.000000  \n",
       "long_term_incentive        0.041214  0.045625  0.101727  \n",
       "other                      0.041225  0.042985  0.163051  \n",
       "restricted_stock           0.045471  0.050793  0.214821  \n",
       "restricted_stock_deferred  0.041214  0.041214  0.041214  \n",
       "salary                     0.043698  0.044399  0.054283  \n",
       "shared_receipt_with_poi    0.007525  0.066093  0.364446  \n",
       "to_messages                0.022939  0.109248  1.000000  \n",
       "biggest_expenses           0.095894  0.234919  1.000000  \n",
       "percentual_exercised       0.000774  0.003628  1.000000  "
      ]
     },
     "execution_count": 60,
     "metadata": {},
     "output_type": "execute_result"
    }
   ],
   "source": [
    "o_features.scallingAll(o_enron)\n",
    "o_enron.df_scaled.describe().T"
   ]
  },
  {
   "cell_type": "markdown",
   "metadata": {},
   "source": [
    "As I can see, there are plenty of $0.041214$ in the scaled data set. It is the equivalent of $0$ in the non-scale data."
   ]
  },
  {
   "cell_type": "markdown",
   "metadata": {},
   "source": [
    "#####Selecting the best ones"
   ]
  },
  {
   "cell_type": "code",
   "execution_count": 65,
   "metadata": {
    "collapsed": true
   },
   "outputs": [],
   "source": [
    "#exclude it from the final version\n",
    "import eda_new; reload(eda_new);\n",
    "import dataset; reload(dataset);\n",
    "import featureSelection; reload(featureSelection);\n",
    "\n",
    "o_enron = dataset.LoadEnron()\n",
    "o_stats = eda_new.Eda()\n",
    "o_features = featureSelection.Features()\n",
    "o_enron.excludeOutliers(l_outliers =  [\"BELFER ROBERT\",\"BHATNAGAR SANJAY\", \"TOTAL\"])\n",
    "o_enron.fill_and_remove()\n",
    "o_features.createNewFeatures(o_enron)\n",
    "o_features.scallingAll(o_enron)\n"
   ]
  },
  {
   "cell_type": "markdown",
   "metadata": {},
   "source": [
    "Now, what features should I use to train my machine learning algorithms? As I discussed before, there are some features that most of the values is equal to \"Nan\". As I want to examine all features related to emails behaviour, I will cut all those that have presented less than 45% of valid numbers. Below, I presented the $10$ smallest ValidNumber ratios."
   ]
  },
  {
   "cell_type": "code",
   "execution_count": 62,
   "metadata": {
    "collapsed": false
   },
   "outputs": [
    {
     "data": {
      "text/html": [
       "<div>\n",
       "<table border=\"1\" class=\"dataframe\">\n",
       "  <thead>\n",
       "    <tr style=\"text-align: right;\">\n",
       "      <th></th>\n",
       "      <th>ValidNumbers</th>\n",
       "    </tr>\n",
       "  </thead>\n",
       "  <tbody>\n",
       "    <tr>\n",
       "      <th>bonus</th>\n",
       "      <td>0.570423</td>\n",
       "    </tr>\n",
       "    <tr>\n",
       "      <th>from_poi_to_this_person</th>\n",
       "      <td>0.521127</td>\n",
       "    </tr>\n",
       "    <tr>\n",
       "      <th>from_this_person_to_poi</th>\n",
       "      <td>0.457746</td>\n",
       "    </tr>\n",
       "    <tr>\n",
       "      <th>long_term_incentive</th>\n",
       "      <td>0.457746</td>\n",
       "    </tr>\n",
       "    <tr>\n",
       "      <th>deferred_income</th>\n",
       "      <td>0.338028</td>\n",
       "    </tr>\n",
       "    <tr>\n",
       "      <th>deferral_payments</th>\n",
       "      <td>0.260563</td>\n",
       "    </tr>\n",
       "    <tr>\n",
       "      <th>poi</th>\n",
       "      <td>0.126761</td>\n",
       "    </tr>\n",
       "    <tr>\n",
       "      <th>restricted_stock_deferred</th>\n",
       "      <td>0.105634</td>\n",
       "    </tr>\n",
       "    <tr>\n",
       "      <th>director_fees</th>\n",
       "      <td>0.098592</td>\n",
       "    </tr>\n",
       "    <tr>\n",
       "      <th>loan_advances</th>\n",
       "      <td>0.021127</td>\n",
       "    </tr>\n",
       "  </tbody>\n",
       "</table>\n",
       "</div>"
      ],
      "text/plain": [
       "                           ValidNumbers\n",
       "bonus                          0.570423\n",
       "from_poi_to_this_person        0.521127\n",
       "from_this_person_to_poi        0.457746\n",
       "long_term_incentive            0.457746\n",
       "deferred_income                0.338028\n",
       "deferral_payments              0.260563\n",
       "poi                            0.126761\n",
       "restricted_stock_deferred      0.105634\n",
       "director_fees                  0.098592\n",
       "loan_advances                  0.021127"
      ]
     },
     "execution_count": 62,
     "metadata": {},
     "output_type": "execute_result"
    }
   ],
   "source": [
    "o_stats.notValidNumbersTable(o_enron).tail(10)"
   ]
  },
  {
   "cell_type": "markdown",
   "metadata": {},
   "source": [
    "I am going to select features using sklearn's `SelectPercentile` with ANOVA F-test function to score the features. I am not testing feature with less than $45$% of valid numbers. I used the function with `SelectPercentile (f_classif, percentile=20)`. Here are the features represented by the top 20%."
   ]
  },
  {
   "cell_type": "code",
   "execution_count": 74,
   "metadata": {
    "collapsed": false
   },
   "outputs": [],
   "source": [
    "#exclude it from the final version\n",
    "features_list = o_features.getFeaturesList(o_enron, o_stats,f_validNumMin=0.45)\n",
    "labels, features= o_features.getFeaturesAndLabels(o_enron, o_stats,f_validNumMin = 0.45)\n",
    "labels_scaled, features_scaled  = o_features.getFeaturesAndLabels(o_enron, o_stats,scaled=True, f_validNumMin = 0.45)"
   ]
  },
  {
   "cell_type": "code",
   "execution_count": 75,
   "metadata": {
    "collapsed": false
   },
   "outputs": [
    {
     "data": {
      "text/plain": [
       "\"features selected: ['bonus', 'salary', 'exercised_stock_options']\""
      ]
     },
     "execution_count": 75,
     "metadata": {},
     "output_type": "execute_result"
    }
   ],
   "source": [
    "l_selectedFetures, df_rtn = o_features.select(features, labels, features_list)\n",
    "\"features selected: {}\".format(l_selectedFetures)"
   ]
  },
  {
   "cell_type": "markdown",
   "metadata": {},
   "source": [
    "Just Payment and Stock Value features. No Email or New features. Looking at p-value ranking of the features, I see that the best-ranked Email feature was shared receipt with poi. I will keep it as one of my features selected for futures tests. "
   ]
  },
  {
   "cell_type": "code",
   "execution_count": 76,
   "metadata": {
    "collapsed": false
   },
   "outputs": [
    {
     "data": {
      "text/html": [
       "<div>\n",
       "<table border=\"1\" class=\"dataframe\">\n",
       "  <thead>\n",
       "    <tr style=\"text-align: right;\">\n",
       "      <th></th>\n",
       "      <th>pValue_Max</th>\n",
       "    </tr>\n",
       "  </thead>\n",
       "  <tbody>\n",
       "    <tr>\n",
       "      <th>exercised_stock_options</th>\n",
       "      <td>1.000000</td>\n",
       "    </tr>\n",
       "    <tr>\n",
       "      <th>bonus</th>\n",
       "      <td>0.857466</td>\n",
       "    </tr>\n",
       "    <tr>\n",
       "      <th>salary</th>\n",
       "      <td>0.769350</td>\n",
       "    </tr>\n",
       "    <tr>\n",
       "      <th>long_term_incentive</th>\n",
       "      <td>0.466340</td>\n",
       "    </tr>\n",
       "    <tr>\n",
       "      <th>percentual_exercised</th>\n",
       "      <td>0.444304</td>\n",
       "    </tr>\n",
       "    <tr>\n",
       "      <th>restricted_stock</th>\n",
       "      <td>0.436342</td>\n",
       "    </tr>\n",
       "    <tr>\n",
       "      <th>shared_receipt_with_poi</th>\n",
       "      <td>0.416612</td>\n",
       "    </tr>\n",
       "    <tr>\n",
       "      <th>expenses</th>\n",
       "      <td>0.314408</td>\n",
       "    </tr>\n",
       "    <tr>\n",
       "      <th>biggest_expenses</th>\n",
       "      <td>0.314408</td>\n",
       "    </tr>\n",
       "    <tr>\n",
       "      <th>from_poi_to_this_person</th>\n",
       "      <td>0.280534</td>\n",
       "    </tr>\n",
       "    <tr>\n",
       "      <th>other</th>\n",
       "      <td>0.236019</td>\n",
       "    </tr>\n",
       "    <tr>\n",
       "      <th>from_this_person_to_poi</th>\n",
       "      <td>0.155927</td>\n",
       "    </tr>\n",
       "    <tr>\n",
       "      <th>to_messages</th>\n",
       "      <td>0.119824</td>\n",
       "    </tr>\n",
       "    <tr>\n",
       "      <th>from_messages</th>\n",
       "      <td>0.029685</td>\n",
       "    </tr>\n",
       "  </tbody>\n",
       "</table>\n",
       "</div>"
      ],
      "text/plain": [
       "                         pValue_Max\n",
       "exercised_stock_options    1.000000\n",
       "bonus                      0.857466\n",
       "salary                     0.769350\n",
       "long_term_incentive        0.466340\n",
       "percentual_exercised       0.444304\n",
       "restricted_stock           0.436342\n",
       "shared_receipt_with_poi    0.416612\n",
       "expenses                   0.314408\n",
       "biggest_expenses           0.314408\n",
       "from_poi_to_this_person    0.280534\n",
       "other                      0.236019\n",
       "from_this_person_to_poi    0.155927\n",
       "to_messages                0.119824\n",
       "from_messages              0.029685"
      ]
     },
     "execution_count": 76,
     "metadata": {},
     "output_type": "execute_result"
    }
   ],
   "source": [
    "df_rtn"
   ]
  },
  {
   "cell_type": "markdown",
   "metadata": {},
   "source": [
    "Ow...one last thing. As I will use just some features in the next section, I am going to remove any data point that __all the selected features__ are equal to $0$. "
   ]
  },
  {
   "cell_type": "code",
   "execution_count": 77,
   "metadata": {
    "collapsed": false
   },
   "outputs": [],
   "source": [
    "o_enron.fill_and_remove(l_features= l_selectedFetures)"
   ]
  },
  {
   "cell_type": "markdown",
   "metadata": {},
   "source": [
    "Now, I just have $122$ data points. "
   ]
  },
  {
   "cell_type": "markdown",
   "metadata": {},
   "source": [
    "###Pick and Tune an Algorithm"
   ]
  },
  {
   "cell_type": "code",
   "execution_count": 2,
   "metadata": {
    "collapsed": true
   },
   "outputs": [],
   "source": [
    "#exclude it from the final version\n",
    "import eda_new; reload(eda_new);\n",
    "import dataset; reload(dataset);\n",
    "import featureSelection; reload(featureSelection);\n",
    "\n",
    "o_enron = dataset.LoadEnron()\n",
    "o_stats = eda_new.Eda()\n",
    "o_features = featureSelection.Features()\n",
    "o_enron.excludeOutliers(l_outliers =  [\"BELFER ROBERT\",\"BHATNAGAR SANJAY\", \"TOTAL\"])\n",
    "o_enron.fill_and_remove()\n",
    "o_features.createNewFeatures(o_enron)\n",
    "o_features.scallingAll(o_enron)\n",
    "\n",
    "features_list = o_features.getFeaturesList(o_enron, o_stats,f_validNumMin=0.45)\n",
    "labels, features= o_features.getFeaturesAndLabels(o_enron, o_stats,f_validNumMin = 0.45)\n",
    "l_selectedFetures, df_rtn = o_features.select(features, labels, features_list)\n",
    "o_enron.fill_and_remove(l_features= l_selectedFetures)\n",
    "#selecgtinn everything again\n",
    "labels, features= o_features.getFeaturesAndLabels(o_enron, o_stats,f_validNumMin = 0.45, l_columns = l_selectedFetures)\n",
    "labels_scaled, features_scaled  = o_features.getFeaturesAndLabels(o_enron, o_stats,scaled=True, f_validNumMin = 0.45, l_columns = l_selectedFetures)"
   ]
  },
  {
   "cell_type": "markdown",
   "metadata": {
    "collapsed": false
   },
   "source": [
    "#####Selecting an Algorithm\n",
    "\n",
    "Here is the deal. I must find the best machine learning algorithm to identify who has committed fraud, given the features selected. I am going to train different classifiers methods to see how each one performs. Also, I will use Principal component analysis (`PCA`) to project my features space into a even lower dimensional space. Let's start by looking at the __Navie Bayes Classifier__: "
   ]
  },
  {
   "cell_type": "code",
   "execution_count": 4,
   "metadata": {
    "collapsed": false
   },
   "outputs": [],
   "source": [
    "#exclude it from the final version\n",
    "import classifiers; reload(classifiers);\n",
    "o_all = classifiers.MLMethods()\n",
    "df_rtn  = o_all.crossValidationAll(features_scaled, labels_scaled)"
   ]
  },
  {
   "cell_type": "code",
   "execution_count": 8,
   "metadata": {
    "collapsed": false
   },
   "outputs": [
    {
     "name": "stdout",
     "output_type": "stream",
     "text": [
      "\n",
      "Classifier Used\n",
      "------------------\n",
      "Pipeline(steps=[('reduce_dim', PCA(copy=True, n_components=None, whiten=False)), ('GaussianNB', GaussianNB())])\n",
      "\n",
      "Classification Report\n",
      "------------------\n",
      "Accuracy: 0.84938\tPrecision: 0.51888\tRecall: 0.28850\tF1: 0.37082\tF2: 0.31662\n",
      "\n",
      "Confusion Matrix\n",
      "------------------\n",
      "Total predictions: 13000\tTrue positives:  577\tFalse positives:  535\n",
      "\t\t\t\tFalse negatives: 1423\tTrue negatives: 10465\n",
      "\n"
     ]
    }
   ],
   "source": [
    "o_all.getReport(\"crossValidation\",\"GaussianNB\")"
   ]
  },
  {
   "cell_type": "markdown",
   "metadata": {},
   "source": [
    "I know... What are these 13,000 of total predictions? Didn't I say that I had just 122 data points? As Udacity suggested, I am cross-validating the algorithm by stratifying the data set into randomized folds. Each fold is made by [preserving the percentage](http://scikit-learn.org/stable/modules/generated/sklearn.cross_validation.StratifiedShuffleSplit.html) of samples for each class and presents 122 data points. I will explain it better in the next section.\n",
    "\n",
    "Despite the almost 85% of accuracy above, it is not a great outcome. Looking at the confusion matrix, it is clearer why it isn't. When the Naive Bayes classified not POIs instances, it has achieved a nice proportion, 10,500 correct for 1,500 incorrect. When used to classify POIs instances, it almost tossed a coin. Unfortunately, POIs are what I am interested. I believe the problem here is that the data set has much more negative instances than positive ones.\n",
    "\n",
    "According to the [book](http://www.amazon.com/Building-Machine-Learning-Systems-Python/dp/1782161406) \"Building Machine Learning Systems With Python\", I have the following options to improve my current performance:\n",
    "- Add more data\n",
    "- Play with the model complexity\n",
    "- Modify the feature space\n",
    "- Change the model\n",
    "\n",
    "Well, adding more data is impossible. Then, let's start by changing the model. As I have a baseline to compare what is the best algorithm; I am going to display a summary of the performance metrics for six different classifiers tested: "
   ]
  },
  {
   "cell_type": "code",
   "execution_count": 6,
   "metadata": {
    "collapsed": false
   },
   "outputs": [
    {
     "data": {
      "text/html": [
       "<div>\n",
       "<table border=\"1\" class=\"dataframe\">\n",
       "  <thead>\n",
       "    <tr style=\"text-align: right;\">\n",
       "      <th></th>\n",
       "      <th>accuracy</th>\n",
       "      <th>precision</th>\n",
       "      <th>recall</th>\n",
       "    </tr>\n",
       "  </thead>\n",
       "  <tbody>\n",
       "    <tr>\n",
       "      <th>SVM</th>\n",
       "      <td>None</td>\n",
       "      <td>None</td>\n",
       "      <td>None</td>\n",
       "    </tr>\n",
       "    <tr>\n",
       "      <th>RandomForest</th>\n",
       "      <td>0.8615</td>\n",
       "      <td>0.6027</td>\n",
       "      <td>0.2920</td>\n",
       "    </tr>\n",
       "    <tr>\n",
       "      <th>GaussianNB</th>\n",
       "      <td>0.8494</td>\n",
       "      <td>0.5189</td>\n",
       "      <td>0.2885</td>\n",
       "    </tr>\n",
       "    <tr>\n",
       "      <th>DecisionTree</th>\n",
       "      <td>0.8076</td>\n",
       "      <td>0.3796</td>\n",
       "      <td>0.3950</td>\n",
       "    </tr>\n",
       "    <tr>\n",
       "      <th>AdaBoost</th>\n",
       "      <td>0.8285</td>\n",
       "      <td>0.4328</td>\n",
       "      <td>0.3685</td>\n",
       "    </tr>\n",
       "    <tr>\n",
       "      <th>KNeighbors</th>\n",
       "      <td>0.8777</td>\n",
       "      <td>0.7248</td>\n",
       "      <td>0.3305</td>\n",
       "    </tr>\n",
       "  </tbody>\n",
       "</table>\n",
       "</div>"
      ],
      "text/plain": [
       "             accuracy precision  recall\n",
       "SVM              None      None    None\n",
       "RandomForest   0.8615    0.6027  0.2920\n",
       "GaussianNB     0.8494    0.5189  0.2885\n",
       "DecisionTree   0.8076    0.3796  0.3950\n",
       "AdaBoost       0.8285    0.4328  0.3685\n",
       "KNeighbors     0.8777    0.7248  0.3305"
      ]
     },
     "execution_count": 6,
     "metadata": {},
     "output_type": "execute_result"
    }
   ],
   "source": [
    "df_rtn"
   ]
  },
  {
   "cell_type": "markdown",
   "metadata": {},
   "source": [
    "Selecting the best one isn't easy. As an I have explained before, I can't just pick the estimator that had the best accuracy. I should choose the classifier that best fits in my goal. For now, believe me, __the best algorithms are RandomForest and KNeighbors__.\n",
    "\n",
    "As shown above, I also tested SVM algorithm despite it has returned \"divide by zero\" error for all setups used in the cross-validation step. It is related to the size of each fold and the number of positive examples. It seems that the SVM had a hard time using such imbalanced available data.\n",
    "\n",
    "Well, before I decide by a specific algorithm, in the next section I will play with the models complexity."
   ]
  },
  {
   "cell_type": "markdown",
   "metadata": {},
   "source": [
    "#####Tuning the classifiers\n",
    "\n",
    "Another way to improve my performance is by playing with the model complexity. According to this [blog post](http://machinelearningmastery.com/how-to-improve-machine-learning-results/), as machine learning models are parameterized, their behavior can be modified by tuning their parameters for a given problem.  It can lead to better estimators... or not. The more tuned, higher is the risk of overfitting. This strategy can be effective, but it can also result in a more fragile models that don’t perform well in practice.\n",
    "\n",
    "I am going to use the method `GridSearchCV` to tune my classifiers. It looks for the best set of parameters between candidates generated from a grid of parameter values. The best here was defined as the accuracy of each ML model."
   ]
  },
  {
   "cell_type": "code",
   "execution_count": 5,
   "metadata": {
    "collapsed": false
   },
   "outputs": [
    {
     "data": {
      "text/html": [
       "<div>\n",
       "<table border=\"1\" class=\"dataframe\">\n",
       "  <thead>\n",
       "    <tr style=\"text-align: right;\">\n",
       "      <th></th>\n",
       "      <th>BestScore</th>\n",
       "    </tr>\n",
       "  </thead>\n",
       "  <tbody>\n",
       "    <tr>\n",
       "      <th>RandomForest</th>\n",
       "      <td>0.8689</td>\n",
       "    </tr>\n",
       "    <tr>\n",
       "      <th>GaussianNB</th>\n",
       "      <td>0.8525</td>\n",
       "    </tr>\n",
       "    <tr>\n",
       "      <th>DecisionTree</th>\n",
       "      <td>0.8361</td>\n",
       "    </tr>\n",
       "    <tr>\n",
       "      <th>AdaBoost</th>\n",
       "      <td>0.8361</td>\n",
       "    </tr>\n",
       "    <tr>\n",
       "      <th>KNeighbors</th>\n",
       "      <td>0.8607</td>\n",
       "    </tr>\n",
       "  </tbody>\n",
       "</table>\n",
       "</div>"
      ],
      "text/plain": [
       "             BestScore\n",
       "RandomForest    0.8689\n",
       "GaussianNB      0.8525\n",
       "DecisionTree    0.8361\n",
       "AdaBoost        0.8361\n",
       "KNeighbors      0.8607"
      ]
     },
     "execution_count": 5,
     "metadata": {},
     "output_type": "execute_result"
    }
   ],
   "source": [
    "df_rtn  = o_all.gridSearchAll(features_scaled, labels_scaled)\n",
    "df_rtn.iloc[1:,:]"
   ]
  },
  {
   "cell_type": "markdown",
   "metadata": {},
   "source": [
    "Looking solely to the accuracy of each model, the best were RandomForest and KNeighbors again. I still need to cross-validate each algorithm to choose the best one. The set o parameters that implied in the highest accuracy to each one were:"
   ]
  },
  {
   "cell_type": "code",
   "execution_count": 6,
   "metadata": {
    "collapsed": false
   },
   "outputs": [
    {
     "name": "stdout",
     "output_type": "stream",
     "text": [
      "Best Score: 0.8689\n",
      "\n",
      "PARAMETERS TESTED\n",
      "------------------\n",
      "{'RandomForest__max_depth': [3, 10, 50],\n",
      " 'RandomForest__n_estimators': [10, 20, 50, 100],\n",
      " 'reduce_dim__n_components': [1, 2, 3]}\n",
      "\n",
      "BEST PARAMETER\n",
      "------------------\n",
      "{'RandomForest__max_depth': 3,\n",
      " 'RandomForest__n_estimators': 50,\n",
      " 'reduce_dim__n_components': 2}\n",
      "\n",
      "\n"
     ]
    }
   ],
   "source": [
    "o_all.getReport(\"GridSearch\", \"RandomForest\")"
   ]
  },
  {
   "cell_type": "code",
   "execution_count": 7,
   "metadata": {
    "collapsed": false
   },
   "outputs": [
    {
     "name": "stdout",
     "output_type": "stream",
     "text": [
      "Best Score: 0.8607\n",
      "\n",
      "PARAMETERS TESTED\n",
      "------------------\n",
      "{'KNeighbors__n_neighbors': [2, 3, 4, 10, 30],\n",
      " 'KNeighbors__p': [1, 2, 3],\n",
      " 'reduce_dim__n_components': [1, 2, 3]}\n",
      "\n",
      "BEST PARAMETER\n",
      "------------------\n",
      "{'KNeighbors__n_neighbors': 4,\n",
      " 'KNeighbors__p': 2,\n",
      " 'reduce_dim__n_components': 2}\n",
      "\n",
      "\n"
     ]
    }
   ],
   "source": [
    "o_all.getReport(\"GridSearch\", \"KNeighbors\")"
   ]
  },
  {
   "cell_type": "markdown",
   "metadata": {},
   "source": [
    "#####What about training it using more features\n",
    "\n",
    "As I mentioned before, one way to improve my performance is modifying the feature space. Maybe I did not selected the right set of features on the first hand. then, let's start everything again including more three features: \"shared_receipt_with_poi\", \"percentual_exercised\", \"biggest_expenses\".\n"
   ]
  },
  {
   "cell_type": "code",
   "execution_count": null,
   "metadata": {
    "collapsed": true
   },
   "outputs": [],
   "source": [
    "#exclude it from the final version\n",
    "#filtering out data points\n",
    "l_selectedFetures+= [\"shared_receipt_with_poi\", \"percentual_exercised\", \"biggest_expenses\"]\n",
    "o_enron.fill_and_remove(l_features= l_selectedFetures)\n",
    "#selectinf everything again\n",
    "labels_scaled, features_scaled  = o_features.getFeaturesAndLabels(o_enron, o_stats,scaled=True,\n",
    "                                                                  f_validNumMin = 0.45,\n",
    "                                                                  l_columns = l_selectedFetures)"
   ]
  },
  {
   "cell_type": "code",
   "execution_count": 161,
   "metadata": {
    "collapsed": false
   },
   "outputs": [
    {
     "data": {
      "text/html": [
       "<div>\n",
       "<table border=\"1\" class=\"dataframe\">\n",
       "  <thead>\n",
       "    <tr style=\"text-align: right;\">\n",
       "      <th></th>\n",
       "      <th>accuracy</th>\n",
       "      <th>precision</th>\n",
       "      <th>recall</th>\n",
       "    </tr>\n",
       "  </thead>\n",
       "  <tbody>\n",
       "    <tr>\n",
       "      <th>SVM</th>\n",
       "      <td>None</td>\n",
       "      <td>None</td>\n",
       "      <td>None</td>\n",
       "    </tr>\n",
       "    <tr>\n",
       "      <th>RandomForest</th>\n",
       "      <td>0.8450</td>\n",
       "      <td>0.3921</td>\n",
       "      <td>0.1545</td>\n",
       "    </tr>\n",
       "    <tr>\n",
       "      <th>GaussianNB</th>\n",
       "      <td>0.8492</td>\n",
       "      <td>0.4572</td>\n",
       "      <td>0.2965</td>\n",
       "    </tr>\n",
       "    <tr>\n",
       "      <th>DecisionTree</th>\n",
       "      <td>0.8051</td>\n",
       "      <td>0.3153</td>\n",
       "      <td>0.3110</td>\n",
       "    </tr>\n",
       "    <tr>\n",
       "      <th>AdaBoost</th>\n",
       "      <td>0.8273</td>\n",
       "      <td>0.3426</td>\n",
       "      <td>0.2275</td>\n",
       "    </tr>\n",
       "    <tr>\n",
       "      <th>KNeighbors</th>\n",
       "      <td>0.8607</td>\n",
       "      <td>0.5625</td>\n",
       "      <td>0.1125</td>\n",
       "    </tr>\n",
       "  </tbody>\n",
       "</table>\n",
       "</div>"
      ],
      "text/plain": [
       "             accuracy precision  recall\n",
       "SVM              None      None    None\n",
       "RandomForest   0.8450    0.3921  0.1545\n",
       "GaussianNB     0.8492    0.4572  0.2965\n",
       "DecisionTree   0.8051    0.3153  0.3110\n",
       "AdaBoost       0.8273    0.3426  0.2275\n",
       "KNeighbors     0.8607    0.5625  0.1125"
      ]
     },
     "execution_count": 161,
     "metadata": {},
     "output_type": "execute_result"
    }
   ],
   "source": [
    "o_all = classifiers.MLMethods()\n",
    "df_rtn  = o_all.crossValidationAll(features_scaled, labels_scaled)\n",
    "df_rtn"
   ]
  },
  {
   "cell_type": "markdown",
   "metadata": {
    "collapsed": true
   },
   "source": [
    "Ow...it seems that it wasn't a good idea. Overall, all my performance metrics got worse. Let's keep the initially selected features. "
   ]
  },
  {
   "cell_type": "markdown",
   "metadata": {},
   "source": [
    "###Validate and Evaluate"
   ]
  },
  {
   "cell_type": "markdown",
   "metadata": {
    "collapsed": true
   },
   "source": [
    "#####Usage of Evaluation Metrics and Validation Strategy\n",
    "\n",
    "The core objective of a machine learning algorithm is to generalize correctly from its experience when facing new instances. In other words, what matters in any estimator is the ability of the model to generalize to new cases. \n",
    "\n",
    "Here is where validation strategy comes into play. If I use the same data used to train the model to evaluate it, for sure that it will perform well. The logic is circular. What I really need to do is measuring the algorithm performance in instances that it has not seen at training. \n",
    "\n",
    "As pointed out by the book \"Building Machine Learning Systems with Python\", measuring the performance also is the part where most mistakes are waiting for aspiring ML learner. There are easy ones, such testing your approach with the same data on which you have trained. But there are more difficult ones; for example, when you have imbalanced training data.\n",
    "\n",
    "To address the first case, I am going break up the data into two blocks: on one block, I will train the model, and on the other, what I held out of training, I will test it. Due to the small size of the dataset, I will shuffle the data and repeat this process 1,000 times. As I have explained before, each run will preserve the percentage of samples for each class in both blocks.\n",
    "\n",
    "Due to the imbalance data, I will look at precision and recall instead of focus on accuracy. The point is what I am trying to achieve here. I don't need a classifier that is good in predicting POIs AND not POIs, what is measured by __accuracy__. \n",
    "\n",
    "I need a classifier with acceptable performance when predicting POIs. Also, it is OK if the classifier miss some POIs (__recall__) since I can trust when my algorithm blame someone of being POI (__precision__).\n",
    "\n",
    "In the next section, I will use all these performance measurements to select one of the algorithms."
   ]
  },
  {
   "cell_type": "markdown",
   "metadata": {},
   "source": [
    "#####Algorithm Performance\n",
    "\n",
    "As I have said, beyond the accuracy, I need explore in the precision/recall from each algorithm to evaluate them properly. The __recall__ is how many POIs I have classified from all POIs in the dataset. __Precision__ means that, from all data points classified as POIs, how many were classified correctly. The equation for each measurement is:\n",
    "\n",
    "- __accuracy__: $\\frac{TruePositive + TrueNegatives}{Positives + Negatives}$\n",
    "\n",
    "- __precision__: $\\frac{TruePositive}{TruePositives + FalseNegatives}$\n",
    "\n",
    "- __recall__: $\\frac{TruePositive}{TruePositives + FalsePositives}$\n",
    "\n",
    "<br>\n",
    "Bellow, I am going to show how each classifier performed according to the validation startegy:"
   ]
  },
  {
   "cell_type": "code",
   "execution_count": 8,
   "metadata": {
    "collapsed": false
   },
   "outputs": [
    {
     "data": {
      "text/html": [
       "<div>\n",
       "<table border=\"1\" class=\"dataframe\">\n",
       "  <thead>\n",
       "    <tr style=\"text-align: right;\">\n",
       "      <th></th>\n",
       "      <th>accuracy</th>\n",
       "      <th>precision</th>\n",
       "      <th>recall</th>\n",
       "    </tr>\n",
       "  </thead>\n",
       "  <tbody>\n",
       "    <tr>\n",
       "      <th>SVM</th>\n",
       "      <td>None</td>\n",
       "      <td>None</td>\n",
       "      <td>None</td>\n",
       "    </tr>\n",
       "    <tr>\n",
       "      <th>RandomForest</th>\n",
       "      <td>0.8738</td>\n",
       "      <td>0.6979</td>\n",
       "      <td>0.3165</td>\n",
       "    </tr>\n",
       "    <tr>\n",
       "      <th>GaussianNB</th>\n",
       "      <td>0.8542</td>\n",
       "      <td>0.5533</td>\n",
       "      <td>0.2725</td>\n",
       "    </tr>\n",
       "    <tr>\n",
       "      <th>DecisionTree</th>\n",
       "      <td>0.8608</td>\n",
       "      <td>0.5798</td>\n",
       "      <td>0.3470</td>\n",
       "    </tr>\n",
       "    <tr>\n",
       "      <th>AdaBoost</th>\n",
       "      <td>0.8445</td>\n",
       "      <td>0.4927</td>\n",
       "      <td>0.3530</td>\n",
       "    </tr>\n",
       "    <tr>\n",
       "      <th>KNeighbors</th>\n",
       "      <td>0.8815</td>\n",
       "      <td>0.7771</td>\n",
       "      <td>0.3225</td>\n",
       "    </tr>\n",
       "  </tbody>\n",
       "</table>\n",
       "</div>"
      ],
      "text/plain": [
       "             accuracy precision  recall\n",
       "SVM              None      None    None\n",
       "RandomForest   0.8738    0.6979  0.3165\n",
       "GaussianNB     0.8542    0.5533  0.2725\n",
       "DecisionTree   0.8608    0.5798  0.3470\n",
       "AdaBoost       0.8445    0.4927  0.3530\n",
       "KNeighbors     0.8815    0.7771  0.3225"
      ]
     },
     "execution_count": 8,
     "metadata": {},
     "output_type": "execute_result"
    }
   ],
   "source": [
    "df_rtn  = o_all.crossValidationAll(features_scaled, labels_scaled)\n",
    "df_rtn"
   ]
  },
  {
   "cell_type": "markdown",
   "metadata": {
    "collapsed": true
   },
   "source": [
    "Looking just to the accuracy, It seems that all classifiers did well ($accuracy>0.80$). KNeighbors and RandomForest, for example, were correct in 87% and 88% respectively of all cases they predicted. But these numbers also are influenced by not-POIs examples. \n",
    "\n",
    "Looking at the precision and recall, that accounts the information I am interested in, the performance of the classifiers wasn't so good.\n",
    "\n",
    "All algorithms missed the most of the data points classified as POIs. The DecisionTree presented the best recall score, predicting almost 40% of all POIs in the dataset. For another side, when it classified someone as being a POI, it was right just in 57% of the cases. I am not looking for this kind of behavior.\n",
    "\n",
    "Although KNeighbors didn't presented a great recall, labeling just 32% of all true cases, when it classified someone as being a POI, the estimator was right almost in 78% of the cases. In this way, given the size of this dataset, I believe that the __KNeighbors is the best classifier__ for this task. Bellow I am going to show the cross-validation report for this algorithm:"
   ]
  },
  {
   "cell_type": "code",
   "execution_count": 9,
   "metadata": {
    "collapsed": false
   },
   "outputs": [
    {
     "name": "stdout",
     "output_type": "stream",
     "text": [
      "!!!!ALREADY TUNED\n",
      "\n",
      "Classifier Used\n",
      "------------------\n",
      "Pipeline(steps=[('reduce_dim', PCA(copy=True, n_components=2, whiten=False)), ('KNeighbors', KNeighborsClassifier(algorithm='auto', leaf_size=30, metric='minkowski',\n",
      "           metric_params=None, n_neighbors=4, p=2, weights='uniform'))])\n",
      "\n",
      "Classification Report\n",
      "------------------\n",
      "Accuracy: 0.88154\tPrecision: 0.77711\tRecall: 0.32250\tF1: 0.45583\tF2: 0.36523\n",
      "\n",
      "Confusion Matrix\n",
      "------------------\n",
      "Total predictions: 13000\tTrue positives:  645\tFalse positives:  185\n",
      "\t\t\t\tFalse negatives: 1355\tTrue negatives: 10815\n",
      "\n"
     ]
    }
   ],
   "source": [
    "o_all.getReport(\"crossValidation\",\"KNeighbors\")"
   ]
  },
  {
   "cell_type": "markdown",
   "metadata": {},
   "source": [
    "###Reflection\n",
    "\n",
    "That was a tough ride, from cleaning this imbalanced and small dataset to made an informed decision about which algorithm to use for the task. I learned about cross-validation, what is behind the accuracy and the different steps to follow in a machine learning problem.\n",
    "\n",
    "Along the way, I also learned how to use some convenient tools from Scikit-learn. For example, I used `SelectPercentile` to help me select the best features based on the percentile of their scores. I used `Pipeline` to execute `PCA` before each algorithm tested. I used `GridSeachCV` to create a grid of different parameters and evaluate the classifiers according each configuration. I used `StratifiedShuffleSplit` to cross-validate such small and imbalanced dataset. As I wanted as many true positives as possible, I ended up selecting `KNeighborsClassifier` to the task due to its precision score.\n",
    "\n",
    "Finally, I also learned the importance of correctly modeling your data set. As I adapted many of the Udacity codes to run this project in this notebook, I made many mistakes when importing and cleaning the dataset, what leaded me to very different results that I was expecting initially."
   ]
  },
  {
   "cell_type": "markdown",
   "metadata": {
    "collapsed": true
   },
   "source": [
    "####TODO:"
   ]
  },
  {
   "cell_type": "markdown",
   "metadata": {},
   "source": [
    "\n",
    "<hr>\n",
    "<em><p>7/14/2015 - At least 2 different algorithms attempted, and their performance is compared with the more performant one used in the final analysis</p>\n",
    "<p>7/14/2015 - Precision and recall are used to evaluate algorithm performance</p>\n",
    "<p>7/12/2015 - How do I interpret the PCA components? what features is it been using?</p>\n",
    "<p>7/11/2015 - At least 2 different algorithms attempted, and their performance is compared with the more performant one used in the final analysis</p>\n",
    "<p>7/11/2015 - What algorithm did you end up using?</p>\n",
    "<p>7/6/2015 - If you used an algorithm like a decision tree, please also give the feature importances of the features that you use.</p>\n",
    "<p>7/13/2015 - [Precision Recall] ... student articulates what those metrics measure.</p>\n",
    "<p>7/13/2015 - Response addresses what validation is and why it is important.</p>\n",
    "<p>7/13/2015 - Explain an interpretation of your metrics that says something human-understandable about your algorithm’s performance</p>\n",
    "<p>7/13/2015 - How did you validate your analysis?</p>\n",
    "<p>7/13/2015 - What is validation, and what’s a classic mistake you can make if you do it wrong?</p>\n",
    "<p>7/12/2015 - the effect of features created on the final algorithm performance is tested.</p>\n",
    "<p>7/12/2015 - At least one important parameter tuned, with at least 3 settings investigated; or any of the following are true: GridCV used for parameter tuning; Several parameters tuned ; Parameter tuning incorporated into algorithm selection (i.e. parameters tuned for more than one algorithm, and best algorithm-tune combination selected for final analysis)</p>\n",
    "<p>7/12/2015 - How did you tune the parameters of your particular algorithm?  (Some algorithms don’t have parameters that you need to tune--if this is the case for the one you picked, identify and briefly explain how you would have done it if you used, say, a decision tree classifier).</p>\n",
    "<p>7/12/2015 - Give at least 2 evaluation metrics, and your average performance for each of them.</p>\n",
    "<p>7/12/2015 - What does it mean to tune the parameters of an algorithm, and what can happen if you don’t do this well?</p>\n",
    "<p>7/12/2015 - Response addresses what it means to perform parameter tuning and why it is important.</p>\n",
    "<p>7/10/2015 - What other one(s) did you try?</p>\n",
    "<p>7/10/2015 - The data is split into training and testing sets, with the testing data used for assessing overall analysis performance; or k-fold cross validation is deployed </p>\n",
    "<p>7/10/2015 - Create a table with all APR of the algos tested. Show the complete report just for the algo choose</p>\n",
    "<p>7/9/2015 - Insert time to run the ML algos</p>\n",
    "<p>6/27/2015 - Keep the statistic summary as attribute and include the features selected and the bigger p_value ratio as new columns. Use it to present the results, sorted by p_values. From stats, show just count and the mean to justify the scaling</p>\n",
    "<p>7/5/2015 - What features did you end up using in your POI identifier, and what selection process did you use to pick them?  </p>\n",
    "<p>7/4/2015 - Did you have to do any scaling? Why or why not?</p>\n",
    "<p>6/30/2015 - Add a ratio of exercise stock options and total stock options. Justify by the movie. Maybe show a chart to answer why try it</p>\n",
    "<p>7/3/2015 - As part of the assignment, you should attempt to engineer your own feature that doesn’t come ready-made in the dataset--explain what feature you tried to make, and the rationale behind it.  (You do not necessarily have to use it in the final analysis, only engineer and test it.) </p>\n",
    "<p>6/27/2015 - Compare the summation of Payment and Stocks Features to see if all if correctly filled</p>\n",
    "<p>6/26/2015 - probably is someone important....I could plot a heat map with all datapointsand from to_poi features, splitting it between POIs and non-POIS...in another section - will be not necessary</p>\n",
    "</em>"
   ]
  },
  {
   "cell_type": "markdown",
   "metadata": {},
   "source": [
    "<em>Custom CSS</em>"
   ]
  },
  {
   "cell_type": "code",
   "execution_count": 1,
   "metadata": {
    "collapsed": false
   },
   "outputs": [
    {
     "data": {
      "text/html": [
       "<style>\n",
       "\n",
       "html {\n",
       "  font-size: 62.5% !important; }\n",
       "body {\n",
       "  font-size: 1.5em !important; /* currently ems cause chrome bug misinterpreting rems on body element */\n",
       "  line-height: 1.6 !important;\n",
       "  font-weight: 400 !important;\n",
       "  font-family: \"Raleway\", \"HelveticaNeue\", \"Helvetica Neue\", Helvetica, Arial, sans-serif !important;\n",
       "  color: #222 !important; }\n",
       "\n",
       "div{ border-radius: 0px !important;  }\n",
       "div.CodeMirror-sizer{ background: rgb(244, 244, 248) !important; }\n",
       "div.input_area{ background: rgb(244, 244, 248) !important; }\n",
       "\n",
       "div.out_prompt_overlay:hover{ background: rgb(244, 244, 248) !important; }\n",
       "div.input_prompt:hover{ background: rgb(244, 244, 248) !important; }\n",
       "\n",
       "h1, h2, h3, h4, h5, h6 {\n",
       "  color: #333 !important;\n",
       "  margin-top: 0 !important;\n",
       "  margin-bottom: 2rem !important;\n",
       "  font-weight: 300 !important; }\n",
       "h1 { font-size: 4.0rem !important; line-height: 1.2 !important;  letter-spacing: -.1rem !important;}\n",
       "h2 { font-size: 3.6rem !important; line-height: 1.25 !important; letter-spacing: -.1rem !important; }\n",
       "h3 { font-size: 3.0rem !important; line-height: 1.3 !important;  letter-spacing: -.1rem !important; }\n",
       "h4 { font-size: 2.4rem !important; line-height: 1.35 !important; letter-spacing: -.08rem !important; }\n",
       "h5 { font-size: 1.8rem !important; line-height: 1.5 !important;  letter-spacing: -.05rem !important; }\n",
       "h6 { font-size: 1.5rem !important; line-height: 1.6 !important;  letter-spacing: 0 !important; }\n",
       "\n",
       "@media (min-width: 550px) {\n",
       "  h1 { font-size: 5.0rem !important; }\n",
       "  h2 { font-size: 4.2rem !important; }\n",
       "  h3 { font-size: 3.6rem !important; }\n",
       "  h4 { font-size: 3.0rem !important; }\n",
       "  h5 { font-size: 2.4rem !important; }\n",
       "  h6 { font-size: 1.5rem !important; }\n",
       "}\n",
       "\n",
       "p {\n",
       "  margin-top: 4px !important; }\n",
       "  \n",
       "a {\n",
       "  color: #1EAEDB !important; }\n",
       "a:hover {\n",
       "  color: #0FA0CE !important; }\n",
       "  \n",
       "code {\n",
       "  padding: .2rem .5rem !important;\n",
       "  margin: 0 .2rem !important;\n",
       "  font-size: 90% !important;\n",
       "  white-space: nowrap !important;\n",
       "  background: #F1F1F1 !important;\n",
       "  border: 1px solid #E1E1E1 !important;\n",
       "  border-radius: 4px !important; }\n",
       "pre > code {\n",
       "  display: block !important;\n",
       "  padding: 1rem 1.5rem !important;\n",
       "  white-space: pre !important; }\n",
       "  \n",
       "button{ border-radius: 0px !important; }\n",
       ".navbar-inner{ background-image: none !important;  }\n",
       "select, textarea{ border-radius: 0px !important; }\n",
       "\n",
       "</style>\n",
       "\n",
       "\n",
       "\n",
       "<style>\n",
       "table {\n",
       "    overflow:hidden;\n",
       "    font-family: \"Lucida Sans Unicode\", \"Lucida Grande\", Sans-Serif;\n",
       "    font-size: 12px;\n",
       "    margin: 10px;\n",
       "    width: 480px;\n",
       "    text-align: left;\n",
       "    border-collapse: collapse;\n",
       "    border: 1px solid #d3d3d3;\n",
       "    -moz-border-radius:5px; FF1+;\n",
       "    -webkit-border-radius:5px; Saf3-4;\n",
       "    border-radius:5px;\n",
       "    -moz-box-shadow: 0 0 4px rgba(0, 0, 0, 0.01);    \n",
       "}\n",
       "th\n",
       "{\n",
       "    padding: 12px 17px 12px 17px;\n",
       "    font-weight: normal;\n",
       "    font-size: 14px;\n",
       "    border-bottom: 1px dashed #69c;\n",
       "}\n",
       "\n",
       "td\n",
       "{\n",
       "    padding: 7px 17px 7px 17px;\n",
       "\n",
       "}\n",
       "\n",
       "tbody tr:hover th\n",
       "{\n",
       "\n",
       "    background:  #E9E9E9;\n",
       "}\n",
       "\n",
       "tbody tr:hover td\n",
       "{\n",
       "\n",
       "    background:  #E9E9E9;\n",
       "}\n",
       "\n",
       "</style>"
      ],
      "text/plain": [
       "<IPython.core.display.HTML object>"
      ]
     },
     "execution_count": 1,
     "metadata": {},
     "output_type": "execute_result"
    }
   ],
   "source": [
    "#loading style sheet\n",
    "from IPython.core.display import HTML\n",
    "HTML( open('ipython_style.css').read() )"
   ]
  },
  {
   "cell_type": "code",
   "execution_count": 25,
   "metadata": {
    "collapsed": false
   },
   "outputs": [],
   "source": [
    "#changing matplotlib defaults\n",
    "%matplotlib inline\n",
    "import seaborn as sns\n",
    "sns.set_palette(\"deep\", desat=.6)\n",
    "sns.set_context(rc={\"figure.figsize\": (8, 4)})\n",
    "sns.set_style(\"darkgrid\")"
   ]
  },
  {
   "cell_type": "code",
   "execution_count": 27,
   "metadata": {
    "collapsed": true
   },
   "outputs": [],
   "source": [
    "import eda_new; reload(eda_new);\n",
    "import dataset; reload(dataset);\n",
    "o_enron = dataset.LoadEnron()\n",
    "o_stats = eda_new.Eda()"
   ]
  },
  {
   "cell_type": "code",
   "execution_count": 43,
   "metadata": {
    "collapsed": false
   },
   "outputs": [],
   "source": [
    "import eda; reload(eda);\n",
    "stats = eda.Eda()"
   ]
  },
  {
   "cell_type": "code",
   "execution_count": 44,
   "metadata": {
    "collapsed": false
   },
   "outputs": [],
   "source": []
  }
 ],
 "metadata": {
  "kernelspec": {
   "display_name": "Python 2",
   "language": "python",
   "name": "python2"
  },
  "language_info": {
   "codemirror_mode": {
    "name": "ipython",
    "version": 2
   },
   "file_extension": ".py",
   "mimetype": "text/x-python",
   "name": "python",
   "nbconvert_exporter": "python",
   "pygments_lexer": "ipython2",
   "version": "2.7.9"
  }
 },
 "nbformat": 4,
 "nbformat_minor": 0
}
