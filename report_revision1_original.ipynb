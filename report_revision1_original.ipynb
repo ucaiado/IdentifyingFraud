{
 "cells": [
  {
   "cell_type": "markdown",
   "metadata": {},
   "source": [
    "#Identifying Fraud from Enron Data Set\n",
    "\n",
    "<em><small>Uirá Caiado. June 21, 2015</small></em>\n",
    "\n",
    "----------"
   ]
  },
  {
   "cell_type": "markdown",
   "metadata": {},
   "source": [
    "###Abstract\n",
    "\n",
    "I explore the public Enron financial and email dataset to identify Enron Employees who may have committed fraud. My goal is to build a machine learning algorithm to solve this chalange."
   ]
  },
  {
   "cell_type": "markdown",
   "metadata": {},
   "source": [
    "###Introduction\n",
    "\n",
    "#####Some Background\n",
    "\n",
    "According to <a href=\"https://en.wikipedia.org/wiki/Enron\">Wikipedia</a>, Enron was an energy, commodities, and services company that had employed approximately 20,000 staff. It was one of the largest companies in the United States, with claimed revenues of nearly $111 billion during 2000.\n",
    "\n",
    "Also, it was one of the largest business scandals in American history, falling into bankruptcy in 2001 after was revealed widespread corporate fraud. As pointed out in the Udacity <a href=\"https://docs.google.com/document/d/10GYepNkDj-Kc_Sf6to3WX_q_SdymPOBJf3H-pq7a62g/pub\">project description</a>, in the resulting Federal investigation, there was a significant amount of typically confidential information entered into the public record, including emails and financial data for top executives.\n",
    "\n",
    "Given that there is a list of people who were somewhat involved in the scandal, here called person of interest (POI), I will try to develop a machine learning algorithm to identify those people with an acceptable accuracy."
   ]
  },
  {
   "cell_type": "markdown",
   "metadata": {},
   "source": [
    "##### How I Dealt With This Task\n",
    "\n",
    "To explore and iterate over each step of this project, I created a bunch of libraries to make my life easier and avoid cluttering this report with too much code. Here is a short description of each library used:\n",
    "\n",
    "1. __dataset.py__: Load and handle the data used in this project.\n",
    "2. __eda_new.py__: Explore the dataset and plot some charts. It is used in \"Understanding the Dataset\" section.\n",
    "3. __featureSelection.py__: Reshape the data to be used by Sklearn library, engineer new features and select the best ones.\n",
    "4. __classifiers.py__: Load and train different classifiers from Sklearn library. Uses `validation` library to evaluate each classifier and print a report.\n",
    "5. __validation.py__: An adapted version of `test_classifier` function from Udacity's `tester` library that implements Sklearn's  `StratifiedShuffleSplit` method to croos-validate the classifier passed.\n",
    "\n",
    "<br>\n",
    "In the end of each section, I will test my hypothesis against a baseline that I am going to create below. If it overcomes my current baseline, I will update it with best approach. "
   ]
  },
  {
   "cell_type": "markdown",
   "metadata": {},
   "source": [
    "###Building a baseline\n",
    "\n",
    "##### Creating my first classification model\n",
    "\n",
    "Thinking about the typical workflow for Machine learning tasks, it could be:\n",
    "\n",
    "1. Exploring and understanding the input data\n",
    "2. Cleaning the dataset\n",
    "3. Analyzing how best to present it to the learning algorithm\n",
    "4. Choosing the right model and learning algorithm\n",
    "5. Measuring the performance correctly\n",
    "\n",
    "As pointed out by the Udacity code reviewer, \"Machine Learning can be very iterative\". After all, if the chosen algorithm didn't perform well, I will have to execute at least the 3 to 5 steps again.\n",
    "\n",
    "Let's start by creating a baseline for the next steps. For now, I will use the sklearn's standard implementation of `KNeighbors` algorithm and loop over each step to see which decisions result in better performance. The parameter of the ML method can be seen below:"
   ]
  },
  {
   "cell_type": "code",
   "execution_count": 8,
   "metadata": {
    "collapsed": false
   },
   "outputs": [],
   "source": [
    "#exclude it from the final version\n",
    "import dataset; reload(dataset);\n",
    "import featureSelection; reload(featureSelection)\n",
    "import classifiers; reload(classifiers);\n",
    "o_enron = dataset.LoadEnron()"
   ]
  },
  {
   "cell_type": "code",
   "execution_count": 2,
   "metadata": {
    "collapsed": false
   },
   "outputs": [
    {
     "data": {
      "text/plain": [
       "Pipeline(steps=[('KNeighbors', KNeighborsClassifier(algorithm='auto', leaf_size=30, metric='minkowski',\n",
       "           metric_params=None, n_neighbors=5, p=2, weights='uniform'))])"
      ]
     },
     "execution_count": 2,
     "metadata": {},
     "output_type": "execute_result"
    }
   ],
   "source": [
    "#use Classifier class from classifiers to load sklearn´s KNeighbors\n",
    "import classifiers\n",
    "clf = classifiers.Classifier(\"KNeighbors\", usePCA = False)\n",
    "clf.clf"
   ]
  },
  {
   "cell_type": "markdown",
   "metadata": {},
   "source": [
    "#####Evaluating it\n",
    "\n",
    "As mentioned above, one of the core steps in a machine learning task is the evaluation. In the next sessions, I always will report three performance metrics: accuracy, precision and recall. I will discuss the details of each one later. Roughly, __accuracy__ is the fraction of examples that the model classified correctly. The __recall__ is how many POIs were classified from all POIs in the dataset. __Precision__ means that, from all data points classified as POIs, how many were classified correctly. The equation for each metric is:\n",
    "\n",
    "- __accuracy__: $\\left ( TruePositives + TrueNegatives \\right )\\div \\left ( Positives + Negatives \\right )$\n",
    "- __precision__: $\\left ( TruePositives \\right )\\div \\left ( TruePositives + FalseNegatives \\right )$\n",
    "- __recall__: $\\left ( TruePositives \\right )\\div \\left ( TruePositives + FalsePositives \\right )$\n",
    "\n",
    "Below I am going replace the \"NaN\" values with zeros using `fill_and_remove` method from `dateset` library. I will test the best approach to filling the missing values later. Then,  I will split the data into a features and labels array using featureSelection's `getFeaturesAndLabels` function. __I won't use 'total_payments' and 'total_stock_value' features because they summarize all other features in my data.__.\n",
    "\n",
    "Finally, I will cross-validate it using `StratifiedShuffleSplit` with `folds=1000` and `random_state = 42`.  The last one is used to ensure that I will get the same result every time. I will explain why I am using this validation method in the last session.\n",
    "\n",
    "Here are the metrics for my baseline when using all data avaliable:"
   ]
  },
  {
   "cell_type": "code",
   "execution_count": 3,
   "metadata": {
    "collapsed": false
   },
   "outputs": [
    {
     "data": {
      "text/html": [
       "<div>\n",
       "<table border=\"1\" class=\"dataframe\">\n",
       "  <thead>\n",
       "    <tr style=\"text-align: right;\">\n",
       "      <th></th>\n",
       "      <th>baseline</th>\n",
       "    </tr>\n",
       "  </thead>\n",
       "  <tbody>\n",
       "    <tr>\n",
       "      <th>accuracy</th>\n",
       "      <td>0.8768</td>\n",
       "    </tr>\n",
       "    <tr>\n",
       "      <th>precision</th>\n",
       "      <td>0.6301</td>\n",
       "    </tr>\n",
       "    <tr>\n",
       "      <th>recall</th>\n",
       "      <td>0.1840</td>\n",
       "    </tr>\n",
       "  </tbody>\n",
       "</table>\n",
       "</div>"
      ],
      "text/plain": [
       "          baseline\n",
       "accuracy    0.8768\n",
       "precision   0.6301\n",
       "recall      0.1840"
      ]
     },
     "execution_count": 3,
     "metadata": {},
     "output_type": "execute_result"
    }
   ],
   "source": [
    "#create the objects used thoughout the project\n",
    "o_features = featureSelection.Features()\n",
    "#create a list of all features available in the dataset. I am excluding email address because \n",
    "#it is a string and poi because it is what I want to predict\n",
    "l_exclude = ['email_address','poi', 'total_payments', 'total_stock_value']\n",
    "features_list = [x for x in o_enron.df.columns if x not in l_exclude]\n",
    "#fillna NaNs and reshape the data as numpy arrays\n",
    "o_enron.fill_and_remove(l_features= features_list, b_remove=False)\n",
    "labels, features= o_features.getFeaturesAndLabels(o_enron, l_columns = features_list)\n",
    "#train ML and print a report\n",
    "clf.crossValidation(features, labels,  report = False, l_columns= ['baseline'])"
   ]
  },
  {
   "cell_type": "markdown",
   "metadata": {},
   "source": [
    "It was not so bad. Until the end of this report, I should select a machine learning algorithm that presents at least a $precision=0.30$ and a $recall=0.30$."
   ]
  },
  {
   "cell_type": "markdown",
   "metadata": {},
   "source": [
    "###Understanding the Dataset\n",
    "\n",
    "#####Data Exploration\n",
    "\n",
    "The data set is relatively small, and the number of identified POIs is even smaller. There are 146 different data points, or people, in this collection, but just 18 were classified as POIs. Each data point has 21 features, although more than half of them didn't display any information for 40% or more of all dataset, as shown below."
   ]
  },
  {
   "cell_type": "code",
   "execution_count": 9,
   "metadata": {
    "collapsed": false
   },
   "outputs": [
    {
     "data": {
      "image/png": "[encoded data removed]",
      "text/plain": [
       "<matplotlib.figure.Figure at 0x1042c75d0>"
      ]
     },
     "metadata": {},
     "output_type": "display_data"
    }
   ],
   "source": [
    "#create and eda instance and plot the percentage of Nans in dataset\n",
    "import eda_new; reload(eda_new);\n",
    "o_stats = eda_new.Eda()\n",
    "o_stats.NanAtFetaures(o_enron);"
   ]
  },
  {
   "cell_type": "markdown",
   "metadata": {},
   "source": [
    "Related to the features, I can categorize them into four groups:\n",
    "- *Metadata*: 2 in total. If it is POI and email address. POI is what I want to predicted\n",
    "- *Payments*: 10 in total. One is the summation and others are Salary, Bonus...\n",
    "- *Stock Value*: 4 in total. One is also summation. for instance, Restricted stock options, Excercise stock options...\n",
    "- *Emails*: 5 in total. Examples are \"from POI to this person\", \"from messages\"...\n",
    "\n",
    "According to the documentary [The smartest guys in the room](https://www.youtube.com/watch?v=pRWXW87YrlM), the executives involved in the scandal used to exercise their option positions early. Later I will check if it can be a useful to identify POIs. Also, I will not use the summations in Payments and Stock Value features. Maybe use it to look for outliers or to build new features. Excluding the both features, the POI feature (that is the target) and the email address, it leaves me with 18 features to use.\n",
    "\n",
    "Despite all the missing data, it still would be complex to analyze all possible correlations between these features. Here is where machine learning (ML) comes to play. Quonting this [book](http://www.amazon.com/Building-Machine-Learning-Systems-Python/dp/1782161406), ML teaches machines how to carry out tasks by themselves, providing them with a couple of examples."
   ]
  },
  {
   "cell_type": "markdown",
   "metadata": {},
   "source": [
    "#####Outlier Investigation\n",
    "\n",
    "The point here is those examples mentioned. They should be VALID examples if I want to build a good estimator or classifier. Then, first of all, I need to look for outliers. Let's check it by looking some of the features."
   ]
  },
  {
   "cell_type": "code",
   "execution_count": 10,
   "metadata": {
    "collapsed": false
   },
   "outputs": [
    {
     "data": {
      "image/png": "[encoded data removed]",
      "text/plain": [
       "<matplotlib.figure.Figure at 0x107f69310>"
      ]
     },
     "metadata": {},
     "output_type": "display_data"
    }
   ],
   "source": [
    "#plot a scatter plot of bonus by salary\n",
    "o_stats.scatter(\"salary\", \"bonus\", o_enron)"
   ]
  },
  {
   "cell_type": "markdown",
   "metadata": {},
   "source": [
    "Here can be easily visualized that there is some data far away from the most of the data points. First, I am going to check who is in the top $10$% of the \"salary\" feature.\n"
   ]
  },
  {
   "cell_type": "code",
   "execution_count": 343,
   "metadata": {
    "collapsed": false
   },
   "outputs": [
    {
     "data": {
      "text/html": [
       "<div>\n",
       "<table border=\"1\" class=\"dataframe\">\n",
       "  <thead>\n",
       "    <tr style=\"text-align: right;\">\n",
       "      <th></th>\n",
       "      <th>salary</th>\n",
       "      <th>poi</th>\n",
       "    </tr>\n",
       "  </thead>\n",
       "  <tbody>\n",
       "    <tr>\n",
       "      <th>TOTAL</th>\n",
       "      <td>26704229</td>\n",
       "      <td>False</td>\n",
       "    </tr>\n",
       "  </tbody>\n",
       "</table>\n",
       "</div>"
      ],
      "text/plain": [
       "         salary    poi\n",
       "TOTAL  26704229  False"
      ]
     },
     "execution_count": 343,
     "metadata": {},
     "output_type": "execute_result"
    }
   ],
   "source": [
    "#get the last decile of salary feature\n",
    "o_stats.getDecile('salary', o_enron)"
   ]
  },
  {
   "cell_type": "markdown",
   "metadata": {},
   "source": [
    "Hm... a summation. It is clear invalid. I will exclude this data point and run the scatter plot again "
   ]
  },
  {
   "cell_type": "code",
   "execution_count": 11,
   "metadata": {
    "collapsed": false
   },
   "outputs": [
    {
     "data": {
      "image/png": "[encoded data removed]",
      "text/plain": [
       "<matplotlib.figure.Figure at 0x10e501a50>"
      ]
     },
     "metadata": {},
     "output_type": "display_data"
    }
   ],
   "source": [
    "#exclude the data point called \"TOTAL\" and plot a scatter plot of bonus by salary\n",
    "o_enron.excludeOutliers(l_outliers =  [\"TOTAL\"])\n",
    "o_stats.scatter(\"salary\", \"bonus\", o_enron)"
   ]
  },
  {
   "cell_type": "markdown",
   "metadata": {},
   "source": [
    "Much better. Looking at the last decile of each feature, I can see that neither salary or bonus seems hold real outliers. Curiously, the biggest bonus wasn't to a POI."
   ]
  },
  {
   "cell_type": "code",
   "execution_count": 345,
   "metadata": {
    "collapsed": false
   },
   "outputs": [
    {
     "data": {
      "text/html": [
       "<div>\n",
       "<table border=\"1\" class=\"dataframe\">\n",
       "  <thead>\n",
       "    <tr style=\"text-align: right;\">\n",
       "      <th></th>\n",
       "      <th>salary</th>\n",
       "      <th>poi</th>\n",
       "    </tr>\n",
       "  </thead>\n",
       "  <tbody>\n",
       "    <tr>\n",
       "      <th>SKILLING JEFFREY K</th>\n",
       "      <td>1111258</td>\n",
       "      <td>True</td>\n",
       "    </tr>\n",
       "  </tbody>\n",
       "</table>\n",
       "</div>"
      ],
      "text/plain": [
       "                     salary   poi\n",
       "SKILLING JEFFREY K  1111258  True"
      ]
     },
     "execution_count": 345,
     "metadata": {},
     "output_type": "execute_result"
    }
   ],
   "source": [
    "#get the last decile of salary feature\n",
    "o_stats.getDecile('salary', o_enron)"
   ]
  },
  {
   "cell_type": "code",
   "execution_count": 346,
   "metadata": {
    "collapsed": false
   },
   "outputs": [
    {
     "data": {
      "text/html": [
       "<div>\n",
       "<table border=\"1\" class=\"dataframe\">\n",
       "  <thead>\n",
       "    <tr style=\"text-align: right;\">\n",
       "      <th></th>\n",
       "      <th>bonus</th>\n",
       "      <th>poi</th>\n",
       "    </tr>\n",
       "  </thead>\n",
       "  <tbody>\n",
       "    <tr>\n",
       "      <th>LAVORATO JOHN J</th>\n",
       "      <td>8000000</td>\n",
       "      <td>False</td>\n",
       "    </tr>\n",
       "  </tbody>\n",
       "</table>\n",
       "</div>"
      ],
      "text/plain": [
       "                   bonus    poi\n",
       "LAVORATO JOHN J  8000000  False"
      ]
     },
     "execution_count": 346,
     "metadata": {},
     "output_type": "execute_result"
    }
   ],
   "source": [
    "#get the last decile of bonus feature\n",
    "o_stats.getDecile('bonus', o_enron)"
   ]
  },
  {
   "cell_type": "markdown",
   "metadata": {},
   "source": [
    "Well... Let's look if there is another outlier. First, I will use the summations to check other features. Any difference between the values I will show in a line called \"Delta\"."
   ]
  },
  {
   "cell_type": "code",
   "execution_count": 347,
   "metadata": {
    "collapsed": false
   },
   "outputs": [
    {
     "data": {
      "text/html": [
       "<div>\n",
       "<table border=\"1\" class=\"dataframe\">\n",
       "  <thead>\n",
       "    <tr style=\"text-align: right;\">\n",
       "      <th></th>\n",
       "      <th>BELFER ROBERT</th>\n",
       "    </tr>\n",
       "  </thead>\n",
       "  <tbody>\n",
       "    <tr>\n",
       "      <th>poi</th>\n",
       "      <td>0</td>\n",
       "    </tr>\n",
       "    <tr>\n",
       "      <th>restricted_stock</th>\n",
       "      <td>0</td>\n",
       "    </tr>\n",
       "    <tr>\n",
       "      <th>restricted_stock_deferred</th>\n",
       "      <td>44093</td>\n",
       "    </tr>\n",
       "    <tr>\n",
       "      <th>exercised_stock_options</th>\n",
       "      <td>3285</td>\n",
       "    </tr>\n",
       "    <tr>\n",
       "      <th>total_stock_value</th>\n",
       "      <td>-44093</td>\n",
       "    </tr>\n",
       "    <tr>\n",
       "      <th>Delta</th>\n",
       "      <td>91471</td>\n",
       "    </tr>\n",
       "  </tbody>\n",
       "</table>\n",
       "</div>"
      ],
      "text/plain": [
       "                           BELFER ROBERT\n",
       "poi                                    0\n",
       "restricted_stock                       0\n",
       "restricted_stock_deferred          44093\n",
       "exercised_stock_options             3285\n",
       "total_stock_value                 -44093\n",
       "Delta                              91471"
      ]
     },
     "execution_count": 347,
     "metadata": {},
     "output_type": "execute_result"
    }
   ],
   "source": [
    "#compare the total_stock_value to sum of all features related to it\n",
    "df1, df2 = o_stats.checkSummation(o_enron)\n",
    "#checking Stocks feature\n",
    "df1"
   ]
  },
  {
   "cell_type": "code",
   "execution_count": 348,
   "metadata": {
    "collapsed": false
   },
   "outputs": [
    {
     "data": {
      "text/html": [
       "<div>\n",
       "<table border=\"1\" class=\"dataframe\">\n",
       "  <thead>\n",
       "    <tr style=\"text-align: right;\">\n",
       "      <th></th>\n",
       "      <th>BELFER ROBERT</th>\n",
       "      <th>BHATNAGAR SANJAY</th>\n",
       "    </tr>\n",
       "  </thead>\n",
       "  <tbody>\n",
       "    <tr>\n",
       "      <th>poi</th>\n",
       "      <td>0</td>\n",
       "      <td>0</td>\n",
       "    </tr>\n",
       "    <tr>\n",
       "      <th>bonus</th>\n",
       "      <td>0</td>\n",
       "      <td>0</td>\n",
       "    </tr>\n",
       "    <tr>\n",
       "      <th>deferral_payments</th>\n",
       "      <td>-102500</td>\n",
       "      <td>0</td>\n",
       "    </tr>\n",
       "    <tr>\n",
       "      <th>deferred_income</th>\n",
       "      <td>0</td>\n",
       "      <td>0</td>\n",
       "    </tr>\n",
       "    <tr>\n",
       "      <th>director_fees</th>\n",
       "      <td>3285</td>\n",
       "      <td>137864</td>\n",
       "    </tr>\n",
       "    <tr>\n",
       "      <th>expenses</th>\n",
       "      <td>0</td>\n",
       "      <td>0</td>\n",
       "    </tr>\n",
       "    <tr>\n",
       "      <th>loan_advances</th>\n",
       "      <td>0</td>\n",
       "      <td>0</td>\n",
       "    </tr>\n",
       "    <tr>\n",
       "      <th>long_term_incentive</th>\n",
       "      <td>0</td>\n",
       "      <td>0</td>\n",
       "    </tr>\n",
       "    <tr>\n",
       "      <th>other</th>\n",
       "      <td>0</td>\n",
       "      <td>137864</td>\n",
       "    </tr>\n",
       "    <tr>\n",
       "      <th>salary</th>\n",
       "      <td>0</td>\n",
       "      <td>0</td>\n",
       "    </tr>\n",
       "    <tr>\n",
       "      <th>total_payments</th>\n",
       "      <td>102500</td>\n",
       "      <td>15456290</td>\n",
       "    </tr>\n",
       "    <tr>\n",
       "      <th>Delta</th>\n",
       "      <td>-201715</td>\n",
       "      <td>-15180562</td>\n",
       "    </tr>\n",
       "  </tbody>\n",
       "</table>\n",
       "</div>"
      ],
      "text/plain": [
       "                     BELFER ROBERT  BHATNAGAR SANJAY\n",
       "poi                              0                 0\n",
       "bonus                            0                 0\n",
       "deferral_payments          -102500                 0\n",
       "deferred_income                  0                 0\n",
       "director_fees                 3285            137864\n",
       "expenses                         0                 0\n",
       "loan_advances                    0                 0\n",
       "long_term_incentive              0                 0\n",
       "other                            0            137864\n",
       "salary                           0                 0\n",
       "total_payments              102500          15456290\n",
       "Delta                      -201715         -15180562"
      ]
     },
     "execution_count": 348,
     "metadata": {},
     "output_type": "execute_result"
    }
   ],
   "source": [
    "#compare the total_payments to sum of all features related to it\n",
    "#checking Payments features\n",
    "df2"
   ]
  },
  {
   "cell_type": "markdown",
   "metadata": {},
   "source": [
    "Looking at the enron61702 pdf file, I can see that the differences above are due to some missing information. As it can bias the algorithms and both are non-POIs, I am going to exclude them."
   ]
  },
  {
   "cell_type": "code",
   "execution_count": 12,
   "metadata": {
    "collapsed": false
   },
   "outputs": [],
   "source": [
    "#excludeOutliers excludes the data point in the l_outliers list passed \n",
    "o_enron.excludeOutliers(l_outliers =  [\"BELFER ROBERT\",\"BHATNAGAR SANJAY\"])"
   ]
  },
  {
   "cell_type": "markdown",
   "metadata": {},
   "source": [
    "Ok, let's see if my baseline line algorithm will perform better after these outliers removal: "
   ]
  },
  {
   "cell_type": "code",
   "execution_count": 13,
   "metadata": {
    "collapsed": false
   },
   "outputs": [],
   "source": [
    "#exclude it from the final version\n",
    "import dataset; reload(dataset);\n",
    "import featureSelection; reload(featureSelection)\n",
    "import classifiers; reload(classifiers);\n",
    "o_enron = dataset.LoadEnron()\n",
    "clf = classifiers.Classifier(\"KNeighbors\", usePCA = False)\n",
    "#create the objects used thoughout the project\n",
    "o_features = featureSelection.Features()\n",
    "\n",
    "#create a list of all features available in the dataset. I am excluding email address because \n",
    "#it is a string and poi because it is what I want to predict\n",
    "l_exclude = ['email_address','poi', 'total_payments', 'total_stock_value']\n",
    "features_list = [x for x in o_enron.df.columns if x not in l_exclude]\n",
    "#fillna NaNs and reshape the data as numpy arrays\n",
    "o_enron.fill_and_remove(l_features= features_list, b_remove=False)\n",
    "labels, features= o_features.getFeaturesAndLabels(o_enron, l_columns = features_list)\n",
    "#train ML and print a report\n",
    "clf.crossValidation(features, labels,  report = False, l_columns= ['baseline'])\n",
    "o_enron.excludeOutliers(l_outliers =  [\"BELFER ROBERT\",\"BHATNAGAR SANJAY\", \"TOTAL\"])\n",
    "\n"
   ]
  },
  {
   "cell_type": "code",
   "execution_count": 14,
   "metadata": {
    "collapsed": false
   },
   "outputs": [
    {
     "data": {
      "text/html": [
       "<div>\n",
       "<table border=\"1\" class=\"dataframe\">\n",
       "  <thead>\n",
       "    <tr style=\"text-align: right;\">\n",
       "      <th></th>\n",
       "      <th>baseline</th>\n",
       "      <th>outliers_removal</th>\n",
       "    </tr>\n",
       "  </thead>\n",
       "  <tbody>\n",
       "    <tr>\n",
       "      <th>accuracy</th>\n",
       "      <td>0.8768</td>\n",
       "      <td>0.8844</td>\n",
       "    </tr>\n",
       "    <tr>\n",
       "      <th>precision</th>\n",
       "      <td>0.6301</td>\n",
       "      <td>0.7995</td>\n",
       "    </tr>\n",
       "    <tr>\n",
       "      <th>recall</th>\n",
       "      <td>0.1840</td>\n",
       "      <td>0.1775</td>\n",
       "    </tr>\n",
       "  </tbody>\n",
       "</table>\n",
       "</div>"
      ],
      "text/plain": [
       "          baseline outliers_removal\n",
       "accuracy    0.8768           0.8844\n",
       "precision   0.6301           0.7995\n",
       "recall      0.1840           0.1775"
      ]
     },
     "execution_count": 14,
     "metadata": {},
     "output_type": "execute_result"
    }
   ],
   "source": [
    "#fillna NaNs and reshape the data as numpy arrays\n",
    "o_enron.fill_and_remove(l_features= features_list, b_remove=False)\n",
    "labels, features= o_features.getFeaturesAndLabels(o_enron, l_columns = features_list)\n",
    "#train ML and print a report\n",
    "clf.crossValidation(features, labels,  report = False, l_columns= ['baseline','outliers_removal'])"
   ]
  },
  {
   "cell_type": "markdown",
   "metadata": {},
   "source": [
    "Interesting. Clearly remove outliers improved the overall performance of my algorithm."
   ]
  },
  {
   "cell_type": "markdown",
   "metadata": {},
   "source": [
    "##### Handle Missing Values\n",
    "\n",
    "As I mentioned before, there are some features that presented numerous missing values. So far, I just filled them with zeros, but there are other options to handle theses cases. I am going to test the impact of two other approaches in the algorithm performance. I am going to use sklearn preprocessing's `Imputer` with `missing_values='NaN'` and `axis=0` when I want to complete missing values with the `strategy=mean` or `strategy=median` and Pandas's index operations when I fill the dataset with zeros. First, I will __fill all \"Nan\" values with zero, as I did before, and exclude all the data points that all features are qual to zero__ (it is what Udacity code implements)."
   ]
  },
  {
   "cell_type": "code",
   "execution_count": 4,
   "metadata": {
    "collapsed": true
   },
   "outputs": [],
   "source": [
    "#exclude it from the final version\n",
    "import dataset; reload(dataset);\n",
    "import featureSelection; reload(featureSelection)\n",
    "import classifiers; reload(classifiers);\n",
    "o_enron = dataset.LoadEnron()\n",
    "o_enron.excludeOutliers(l_outliers =  [\"BELFER ROBERT\",\"BHATNAGAR SANJAY\", \"TOTAL\"])\n",
    "clf = classifiers.Classifier(\"KNeighbors\", usePCA = False)\n",
    "#create the objects used thoughout the project\n",
    "o_features = featureSelection.Features()\n",
    "\n",
    "#create a list of all features available in the dataset. I am excluding email address because \n",
    "#it is a string and poi because it is what I want to predict\n",
    "l_exclude = ['email_address','poi', 'total_payments', 'total_stock_value']\n",
    "features_list = [x for x in o_enron.df.columns if x not in l_exclude]"
   ]
  },
  {
   "cell_type": "code",
   "execution_count": 5,
   "metadata": {
    "collapsed": false
   },
   "outputs": [
    {
     "data": {
      "text/html": [
       "<div>\n",
       "<table border=\"1\" class=\"dataframe\">\n",
       "  <thead>\n",
       "    <tr style=\"text-align: right;\">\n",
       "      <th></th>\n",
       "      <th>zeros</th>\n",
       "    </tr>\n",
       "  </thead>\n",
       "  <tbody>\n",
       "    <tr>\n",
       "      <th>accuracy</th>\n",
       "      <td>0.8844</td>\n",
       "    </tr>\n",
       "    <tr>\n",
       "      <th>precision</th>\n",
       "      <td>0.7995</td>\n",
       "    </tr>\n",
       "    <tr>\n",
       "      <th>recall</th>\n",
       "      <td>0.1775</td>\n",
       "    </tr>\n",
       "  </tbody>\n",
       "</table>\n",
       "</div>"
      ],
      "text/plain": [
       "            zeros\n",
       "accuracy   0.8844\n",
       "precision  0.7995\n",
       "recall     0.1775"
      ]
     },
     "execution_count": 5,
     "metadata": {},
     "output_type": "execute_result"
    }
   ],
   "source": [
    "#exclude it from the final version\n",
    "#fillna NaNs and reshape the data as numpy arrays\n",
    "o_enron.fill_and_remove(l_features= features_list,s_strategy=\"zeros\", b_remove=False)\n",
    "labels, features= o_features.getFeaturesAndLabels(o_enron, l_columns = features_list)\n",
    "#train ML and print a report\n",
    "clf.crossValidation(features, labels,  report = False, l_columns= ['zeros'])"
   ]
  },
  {
   "cell_type": "code",
   "execution_count": 22,
   "metadata": {
    "collapsed": false
   },
   "outputs": [
    {
     "data": {
      "text/html": [
       "<div>\n",
       "<table border=\"1\" class=\"dataframe\">\n",
       "  <thead>\n",
       "    <tr style=\"text-align: right;\">\n",
       "      <th></th>\n",
       "      <th>zeros</th>\n",
       "    </tr>\n",
       "  </thead>\n",
       "  <tbody>\n",
       "    <tr>\n",
       "      <th>accuracy</th>\n",
       "      <td>0.8844</td>\n",
       "    </tr>\n",
       "    <tr>\n",
       "      <th>precision</th>\n",
       "      <td>0.7995</td>\n",
       "    </tr>\n",
       "    <tr>\n",
       "      <th>recall</th>\n",
       "      <td>0.1775</td>\n",
       "    </tr>\n",
       "  </tbody>\n",
       "</table>\n",
       "</div>"
      ],
      "text/plain": [
       "            zeros\n",
       "accuracy   0.8844\n",
       "precision  0.7995\n",
       "recall     0.1775"
      ]
     },
     "execution_count": 22,
     "metadata": {},
     "output_type": "execute_result"
    }
   ],
   "source": [
    "#exclude it from the final version\n",
    "#fillna NaNs and reshape the data as numpy arrays\n",
    "o_enron.fill_and_remove(l_features= features_list,s_strategy=\"zeros\", b_remove=True)\n",
    "labels, features= o_features.getFeaturesAndLabels(o_enron, l_columns = features_list)\n",
    "#train ML and print a report\n",
    "clf.crossValidation(features, labels,  report = False, l_columns= ['zeros'])"
   ]
  },
  {
   "cell_type": "code",
   "execution_count": 15,
   "metadata": {
    "collapsed": false
   },
   "outputs": [
    {
     "data": {
      "text/html": [
       "<div>\n",
       "<table border=\"1\" class=\"dataframe\">\n",
       "  <thead>\n",
       "    <tr style=\"text-align: right;\">\n",
       "      <th></th>\n",
       "      <th>zeros</th>\n",
       "      <th>zeros-removing</th>\n",
       "    </tr>\n",
       "  </thead>\n",
       "  <tbody>\n",
       "    <tr>\n",
       "      <th>accuracy</th>\n",
       "      <td>0.8844</td>\n",
       "      <td>0.8845</td>\n",
       "    </tr>\n",
       "    <tr>\n",
       "      <th>precision</th>\n",
       "      <td>0.7995</td>\n",
       "      <td>0.7908</td>\n",
       "    </tr>\n",
       "    <tr>\n",
       "      <th>recall</th>\n",
       "      <td>0.1775</td>\n",
       "      <td>0.1815</td>\n",
       "    </tr>\n",
       "  </tbody>\n",
       "</table>\n",
       "</div>"
      ],
      "text/plain": [
       "            zeros zeros-removing\n",
       "accuracy   0.8844         0.8845\n",
       "precision  0.7995         0.7908\n",
       "recall     0.1775         0.1815"
      ]
     },
     "execution_count": 15,
     "metadata": {},
     "output_type": "execute_result"
    }
   ],
   "source": [
    "#create the objects used thoughout the project\n",
    "o_enron = dataset.LoadEnron()\n",
    "o_enron.excludeOutliers(l_outliers =  [\"BELFER ROBERT\",\"BHATNAGAR SANJAY\", \"TOTAL\"])\n",
    "#fillna NaNs and reshape the data as numpy arrays\n",
    "o_enron.fill_and_remove(l_features= features_list,s_strategy=\"zeros\", b_remove=True)\n",
    "labels, features= o_features.getFeaturesAndLabels(o_enron, l_columns = features_list)\n",
    "#train ML and print a report\n",
    "clf.crossValidation(features, labels,  report = False, l_columns= ['zeros','zeros-removing'])"
   ]
  },
  {
   "cell_type": "markdown",
   "metadata": {},
   "source": [
    "Hm...it improved my recall. Now, let's check what happens when I interpolate the missing values __with the mean__ of each feature."
   ]
  },
  {
   "cell_type": "code",
   "execution_count": 360,
   "metadata": {
    "collapsed": false
   },
   "outputs": [
    {
     "data": {
      "text/html": [
       "<div>\n",
       "<table border=\"1\" class=\"dataframe\">\n",
       "  <thead>\n",
       "    <tr style=\"text-align: right;\">\n",
       "      <th></th>\n",
       "      <th>zeros-removing</th>\n",
       "      <th>mean</th>\n",
       "    </tr>\n",
       "  </thead>\n",
       "  <tbody>\n",
       "    <tr>\n",
       "      <th>accuracy</th>\n",
       "      <td>0.8845</td>\n",
       "      <td>0.8812</td>\n",
       "    </tr>\n",
       "    <tr>\n",
       "      <th>precision</th>\n",
       "      <td>0.7908</td>\n",
       "      <td>0.7057</td>\n",
       "    </tr>\n",
       "    <tr>\n",
       "      <th>recall</th>\n",
       "      <td>0.1815</td>\n",
       "      <td>0.1870</td>\n",
       "    </tr>\n",
       "  </tbody>\n",
       "</table>\n",
       "</div>"
      ],
      "text/plain": [
       "          zeros-removing    mean\n",
       "accuracy          0.8845  0.8812\n",
       "precision         0.7908  0.7057\n",
       "recall            0.1815  0.1870"
      ]
     },
     "execution_count": 360,
     "metadata": {},
     "output_type": "execute_result"
    }
   ],
   "source": [
    "#create the objects used thoughout the project\n",
    "o_enron = dataset.LoadEnron()\n",
    "o_enron.excludeOutliers(l_outliers =  [\"BELFER ROBERT\",\"BHATNAGAR SANJAY\", \"TOTAL\"])\n",
    "#fillna NaNs and reshape the data as numpy arrays\n",
    "o_enron.fill_and_remove(l_features= features_list,s_strategy=\"mean\", b_remove=False)\n",
    "labels, features= o_features.getFeaturesAndLabels(o_enron, l_columns = features_list)\n",
    "#train ML and print a report\n",
    "clf.crossValidation(features, labels,  report = False, l_columns= ['zeros-removing','mean'])"
   ]
  },
  {
   "cell_type": "markdown",
   "metadata": {},
   "source": [
    "Finally, filling the missing values with the median of each feature"
   ]
  },
  {
   "cell_type": "code",
   "execution_count": 354,
   "metadata": {
    "collapsed": false
   },
   "outputs": [
    {
     "data": {
      "text/html": [
       "<div>\n",
       "<table border=\"1\" class=\"dataframe\">\n",
       "  <thead>\n",
       "    <tr style=\"text-align: right;\">\n",
       "      <th></th>\n",
       "      <th>mean</th>\n",
       "      <th>median</th>\n",
       "    </tr>\n",
       "  </thead>\n",
       "  <tbody>\n",
       "    <tr>\n",
       "      <th>accuracy</th>\n",
       "      <td>0.8812</td>\n",
       "      <td>0.8711</td>\n",
       "    </tr>\n",
       "    <tr>\n",
       "      <th>precision</th>\n",
       "      <td>0.7057</td>\n",
       "      <td>0.5840</td>\n",
       "    </tr>\n",
       "    <tr>\n",
       "      <th>recall</th>\n",
       "      <td>0.1870</td>\n",
       "      <td>0.1165</td>\n",
       "    </tr>\n",
       "  </tbody>\n",
       "</table>\n",
       "</div>"
      ],
      "text/plain": [
       "             mean  median\n",
       "accuracy   0.8812  0.8711\n",
       "precision  0.7057  0.5840\n",
       "recall     0.1870  0.1165"
      ]
     },
     "execution_count": 354,
     "metadata": {},
     "output_type": "execute_result"
    }
   ],
   "source": [
    "#create the objects used thoughout the project\n",
    "o_enron = dataset.LoadEnron()\n",
    "o_enron.excludeOutliers(l_outliers =  [\"BELFER ROBERT\",\"BHATNAGAR SANJAY\", \"TOTAL\"])\n",
    "#fillna NaNs and reshape the data as numpy arrays\n",
    "o_enron.fill_and_remove(l_features= features_list,s_strategy=\"median\", b_remove=False)\n",
    "labels, features= o_features.getFeaturesAndLabels(o_enron, l_columns = features_list)\n",
    "#train ML and print a report\n",
    "clf.crossValidation(features, labels,  report = False, l_columns= ['mean','median'])"
   ]
  },
  {
   "cell_type": "markdown",
   "metadata": {},
   "source": [
    "Filling the missing values with their median wasn't a good idea. And using the mean, it has worsen a lot my precision, then I will keep using `strategy=zeros` with `b_remove=True` to filling missing values in my next steps. Let's a description of all numeric data to see if there is any evidence of another outlier."
   ]
  },
  {
   "cell_type": "code",
   "execution_count": 205,
   "metadata": {
    "collapsed": false
   },
   "outputs": [
    {
     "data": {
      "text/html": [
       "<div>\n",
       "<table border=\"1\" class=\"dataframe\">\n",
       "  <thead>\n",
       "    <tr style=\"text-align: right;\">\n",
       "      <th></th>\n",
       "      <th>count</th>\n",
       "      <th>mean</th>\n",
       "      <th>std</th>\n",
       "      <th>min</th>\n",
       "      <th>25%</th>\n",
       "      <th>50%</th>\n",
       "      <th>75%</th>\n",
       "      <th>max</th>\n",
       "    </tr>\n",
       "  </thead>\n",
       "  <tbody>\n",
       "    <tr>\n",
       "      <th>bonus</th>\n",
       "      <td>143.00</td>\n",
       "      <td>1,201,773</td>\n",
       "      <td>1,082,105</td>\n",
       "      <td>70,000</td>\n",
       "      <td>700,000</td>\n",
       "      <td>1,201,773</td>\n",
       "      <td>1,201,773</td>\n",
       "      <td>8,000,000</td>\n",
       "    </tr>\n",
       "    <tr>\n",
       "      <th>deferral_payments</th>\n",
       "      <td>143.00</td>\n",
       "      <td>867,119</td>\n",
       "      <td>653,224</td>\n",
       "      <td>7,961</td>\n",
       "      <td>867,119</td>\n",
       "      <td>867,119</td>\n",
       "      <td>867,119</td>\n",
       "      <td>6,426,990</td>\n",
       "    </tr>\n",
       "    <tr>\n",
       "      <th>deferred_income</th>\n",
       "      <td>143.00</td>\n",
       "      <td>-581,050</td>\n",
       "      <td>541,990</td>\n",
       "      <td>-3,504,386</td>\n",
       "      <td>-581,050</td>\n",
       "      <td>-581,050</td>\n",
       "      <td>-581,050</td>\n",
       "      <td>-833</td>\n",
       "    </tr>\n",
       "    <tr>\n",
       "      <th>director_fees</th>\n",
       "      <td>143.00</td>\n",
       "      <td>92,573</td>\n",
       "      <td>10,431</td>\n",
       "      <td>17,500</td>\n",
       "      <td>92,573</td>\n",
       "      <td>92,573</td>\n",
       "      <td>92,573</td>\n",
       "      <td>125,034</td>\n",
       "    </tr>\n",
       "    <tr>\n",
       "      <th>exercised_stock_options</th>\n",
       "      <td>143.00</td>\n",
       "      <td>2,993,007</td>\n",
       "      <td>4,608,182</td>\n",
       "      <td>9,803</td>\n",
       "      <td>758,429</td>\n",
       "      <td>2,218,275</td>\n",
       "      <td>2,993,007</td>\n",
       "      <td>34,348,384</td>\n",
       "    </tr>\n",
       "    <tr>\n",
       "      <th>expenses</th>\n",
       "      <td>143.00</td>\n",
       "      <td>54,192</td>\n",
       "      <td>37,314</td>\n",
       "      <td>148</td>\n",
       "      <td>33,528</td>\n",
       "      <td>54,192</td>\n",
       "      <td>54,192</td>\n",
       "      <td>228,763</td>\n",
       "    </tr>\n",
       "    <tr>\n",
       "      <th>from_messages</th>\n",
       "      <td>143.00</td>\n",
       "      <td>616</td>\n",
       "      <td>1,424</td>\n",
       "      <td>12</td>\n",
       "      <td>36</td>\n",
       "      <td>616</td>\n",
       "      <td>616</td>\n",
       "      <td>14,368</td>\n",
       "    </tr>\n",
       "    <tr>\n",
       "      <th>from_poi_to_this_person</th>\n",
       "      <td>143.00</td>\n",
       "      <td>66</td>\n",
       "      <td>67</td>\n",
       "      <td>0</td>\n",
       "      <td>26</td>\n",
       "      <td>66</td>\n",
       "      <td>66</td>\n",
       "      <td>528</td>\n",
       "    </tr>\n",
       "    <tr>\n",
       "      <th>from_this_person_to_poi</th>\n",
       "      <td>143.00</td>\n",
       "      <td>42</td>\n",
       "      <td>77</td>\n",
       "      <td>0</td>\n",
       "      <td>6</td>\n",
       "      <td>42</td>\n",
       "      <td>42</td>\n",
       "      <td>609</td>\n",
       "    </tr>\n",
       "    <tr>\n",
       "      <th>loan_advances</th>\n",
       "      <td>143.00</td>\n",
       "      <td>27,975,000</td>\n",
       "      <td>5,504,597</td>\n",
       "      <td>400,000</td>\n",
       "      <td>27,975,000</td>\n",
       "      <td>27,975,000</td>\n",
       "      <td>27,975,000</td>\n",
       "      <td>81,525,000</td>\n",
       "    </tr>\n",
       "    <tr>\n",
       "      <th>long_term_incentive</th>\n",
       "      <td>143.00</td>\n",
       "      <td>746,491</td>\n",
       "      <td>579,315</td>\n",
       "      <td>69,223</td>\n",
       "      <td>512,376</td>\n",
       "      <td>746,491</td>\n",
       "      <td>746,491</td>\n",
       "      <td>5,145,434</td>\n",
       "    </tr>\n",
       "    <tr>\n",
       "      <th>other</th>\n",
       "      <td>143.00</td>\n",
       "      <td>468,875</td>\n",
       "      <td>1,112,166</td>\n",
       "      <td>2</td>\n",
       "      <td>2,532</td>\n",
       "      <td>401,130</td>\n",
       "      <td>468,875</td>\n",
       "      <td>10,359,729</td>\n",
       "    </tr>\n",
       "    <tr>\n",
       "      <th>poi</th>\n",
       "      <td>143.00</td>\n",
       "      <td>0</td>\n",
       "      <td>0</td>\n",
       "      <td>0</td>\n",
       "      <td>0</td>\n",
       "      <td>0</td>\n",
       "      <td>0</td>\n",
       "      <td>1</td>\n",
       "    </tr>\n",
       "    <tr>\n",
       "      <th>restricted_stock</th>\n",
       "      <td>143.00</td>\n",
       "      <td>1,182,164</td>\n",
       "      <td>1,936,367</td>\n",
       "      <td>32,460</td>\n",
       "      <td>360,528</td>\n",
       "      <td>698,920</td>\n",
       "      <td>1,182,164</td>\n",
       "      <td>14,761,694</td>\n",
       "    </tr>\n",
       "    <tr>\n",
       "      <th>restricted_stock_deferred</th>\n",
       "      <td>143.00</td>\n",
       "      <td>-328,547</td>\n",
       "      <td>137,025</td>\n",
       "      <td>-1,787,380</td>\n",
       "      <td>-328,547</td>\n",
       "      <td>-328,547</td>\n",
       "      <td>-328,547</td>\n",
       "      <td>-32,460</td>\n",
       "    </tr>\n",
       "    <tr>\n",
       "      <th>salary</th>\n",
       "      <td>143.00</td>\n",
       "      <td>284,088</td>\n",
       "      <td>143,348</td>\n",
       "      <td>477</td>\n",
       "      <td>239,586</td>\n",
       "      <td>284,088</td>\n",
       "      <td>284,088</td>\n",
       "      <td>1,111,258</td>\n",
       "    </tr>\n",
       "    <tr>\n",
       "      <th>shared_receipt_with_poi</th>\n",
       "      <td>143.00</td>\n",
       "      <td>1,185</td>\n",
       "      <td>910</td>\n",
       "      <td>2</td>\n",
       "      <td>594</td>\n",
       "      <td>1,185</td>\n",
       "      <td>1,185</td>\n",
       "      <td>5,521</td>\n",
       "    </tr>\n",
       "    <tr>\n",
       "      <th>to_messages</th>\n",
       "      <td>143.00</td>\n",
       "      <td>2,092</td>\n",
       "      <td>1,994</td>\n",
       "      <td>57</td>\n",
       "      <td>904</td>\n",
       "      <td>2,092</td>\n",
       "      <td>2,092</td>\n",
       "      <td>15,149</td>\n",
       "    </tr>\n",
       "    <tr>\n",
       "      <th>total_payments</th>\n",
       "      <td>143.00</td>\n",
       "      <td>2,538,897</td>\n",
       "      <td>8,761,737</td>\n",
       "      <td>148</td>\n",
       "      <td>557,761</td>\n",
       "      <td>1,321,557</td>\n",
       "      <td>2,538,897</td>\n",
       "      <td>103,559,793</td>\n",
       "    </tr>\n",
       "    <tr>\n",
       "      <th>total_stock_value</th>\n",
       "      <td>143.00</td>\n",
       "      <td>3,379,461</td>\n",
       "      <td>6,098,092</td>\n",
       "      <td>28,798</td>\n",
       "      <td>628,355</td>\n",
       "      <td>1,691,366</td>\n",
       "      <td>3,379,461</td>\n",
       "      <td>49,110,078</td>\n",
       "    </tr>\n",
       "  </tbody>\n",
       "</table>\n",
       "</div>"
      ],
      "text/plain": [
       "                            count        mean        std         min  \\\n",
       "bonus                      143.00   1,201,773  1,082,105      70,000   \n",
       "deferral_payments          143.00     867,119    653,224       7,961   \n",
       "deferred_income            143.00    -581,050    541,990  -3,504,386   \n",
       "director_fees              143.00      92,573     10,431      17,500   \n",
       "exercised_stock_options    143.00   2,993,007  4,608,182       9,803   \n",
       "expenses                   143.00      54,192     37,314         148   \n",
       "from_messages              143.00         616      1,424          12   \n",
       "from_poi_to_this_person    143.00          66         67           0   \n",
       "from_this_person_to_poi    143.00          42         77           0   \n",
       "loan_advances              143.00  27,975,000  5,504,597     400,000   \n",
       "long_term_incentive        143.00     746,491    579,315      69,223   \n",
       "other                      143.00     468,875  1,112,166           2   \n",
       "poi                        143.00           0          0           0   \n",
       "restricted_stock           143.00   1,182,164  1,936,367      32,460   \n",
       "restricted_stock_deferred  143.00    -328,547    137,025  -1,787,380   \n",
       "salary                     143.00     284,088    143,348         477   \n",
       "shared_receipt_with_poi    143.00       1,185        910           2   \n",
       "to_messages                143.00       2,092      1,994          57   \n",
       "total_payments             143.00   2,538,897  8,761,737         148   \n",
       "total_stock_value          143.00   3,379,461  6,098,092      28,798   \n",
       "\n",
       "                                  25%         50%         75%          max  \n",
       "bonus                         700,000   1,201,773   1,201,773    8,000,000  \n",
       "deferral_payments             867,119     867,119     867,119    6,426,990  \n",
       "deferred_income              -581,050    -581,050    -581,050         -833  \n",
       "director_fees                  92,573      92,573      92,573      125,034  \n",
       "exercised_stock_options       758,429   2,218,275   2,993,007   34,348,384  \n",
       "expenses                       33,528      54,192      54,192      228,763  \n",
       "from_messages                      36         616         616       14,368  \n",
       "from_poi_to_this_person            26          66          66          528  \n",
       "from_this_person_to_poi             6          42          42          609  \n",
       "loan_advances              27,975,000  27,975,000  27,975,000   81,525,000  \n",
       "long_term_incentive           512,376     746,491     746,491    5,145,434  \n",
       "other                           2,532     401,130     468,875   10,359,729  \n",
       "poi                                 0           0           0            1  \n",
       "restricted_stock              360,528     698,920   1,182,164   14,761,694  \n",
       "restricted_stock_deferred    -328,547    -328,547    -328,547      -32,460  \n",
       "salary                        239,586     284,088     284,088    1,111,258  \n",
       "shared_receipt_with_poi           594       1,185       1,185        5,521  \n",
       "to_messages                       904       2,092       2,092       15,149  \n",
       "total_payments                557,761   1,321,557   2,538,897  103,559,793  \n",
       "total_stock_value             628,355   1,691,366   3,379,461   49,110,078  "
      ]
     },
     "execution_count": 205,
     "metadata": {},
     "output_type": "execute_result"
    }
   ],
   "source": [
    "#use pandas describe to show a summary of the data\n",
    "o_stats.describe(o_enron)"
   ]
  },
  {
   "cell_type": "markdown",
   "metadata": {},
   "source": [
    "Although there are pretty big numbers in the financial information, they are all related to executives from Eron. Now, I have $143$ data points left and I believe that I am done here. "
   ]
  },
  {
   "cell_type": "markdown",
   "metadata": {},
   "source": [
    "###Feature Selection and Engineering\n",
    "\n",
    "#####Creating Features\n",
    "\n",
    "There are two points that caught my attention in the documentary \"The Smartest Guys in The Room\". First, some of the top executives used to spend a lot of the firm's money in strip clubs. Second, there were some employees who exercised much of their stock options earlier, knowing about the company's financial conditions. Based on these facts, I will include two more features to be tested:\n",
    "- Biggest Expenses: I am going to compare the expenses with the salary of each one. Maybe POIs used to spend the money from Enron instead of their own.\n",
    "- Exercised Stock Option vs. Total of Payment: If a high stake of your money is in a company that you know that is going to crash, what would you do? Sell, sell as much as you can. I will divide the total of stock options that were exercised by the total of money each one has made (I will not consider the remain stock options). I want to know if the amount of options of each POIs were relevant to their saving accounts. \n",
    "\n",
    "I will scale alll these features. Below I am going to draw the box plot of each one. I will exclude some outliers just to these visualizations."
   ]
  },
  {
   "cell_type": "code",
   "execution_count": 17,
   "metadata": {
    "collapsed": false
   },
   "outputs": [],
   "source": [
    "#exclude it from the final version\n",
    "import eda_new; reload(eda_new);\n",
    "import dataset; reload(dataset);\n",
    "import featureSelection; reload(featureSelection);\n",
    "\n",
    "o_enron = dataset.LoadEnron()\n",
    "o_stats = eda_new.Eda()\n",
    "o_features = featureSelection.Features()\n",
    "o_enron.excludeOutliers(l_outliers =  [\"BELFER ROBERT\",\"BHATNAGAR SANJAY\", \"TOTAL\"])\n",
    "o_enron.fill_and_remove(l_features= features_list,s_strategy=\"zeros\", b_remove=True)"
   ]
  },
  {
   "cell_type": "code",
   "execution_count": 18,
   "metadata": {
    "collapsed": false
   },
   "outputs": [
    {
     "data": {
      "image/png": "[encoded data removed]",
      "text/plain": [
       "<matplotlib.figure.Figure at 0x10e3ac690>"
      ]
     },
     "metadata": {},
     "output_type": "display_data"
    }
   ],
   "source": [
    "o_features.createNewFeatures(o_enron)\n",
    "o_stats.compareFeaturesCreated(o_enron)"
   ]
  },
  {
   "cell_type": "markdown",
   "metadata": {},
   "source": [
    "The Biggest Expenses feature is more dispersed when related to POIs. The second feature, the Option excercised compared to the total payment of each data point, doesn't seem much relevant. Ok, let's see if they can improve my performance."
   ]
  },
  {
   "cell_type": "code",
   "execution_count": 19,
   "metadata": {
    "collapsed": true
   },
   "outputs": [],
   "source": [
    "#create the objects used thoughout the project\n",
    "o_enron = dataset.LoadEnron()\n",
    "o_enron.excludeOutliers(l_outliers =  [\"BELFER ROBERT\",\"BHATNAGAR SANJAY\", \"TOTAL\"])\n",
    "#fillna NaNs and reshape the data as numpy arrays\n",
    "o_enron.fill_and_remove(l_features= features_list,s_strategy=\"zeros\", b_remove=True)\n",
    "\n",
    "o_features.createNewFeatures(o_enron)\n",
    "features_list2 = features_list + ['biggest_expenses', 'percentual_exercised']"
   ]
  },
  {
   "cell_type": "code",
   "execution_count": 24,
   "metadata": {
    "collapsed": false
   },
   "outputs": [
    {
     "data": {
      "text/html": [
       "<div>\n",
       "<table border=\"1\" class=\"dataframe\">\n",
       "  <thead>\n",
       "    <tr style=\"text-align: right;\">\n",
       "      <th></th>\n",
       "      <th>baseline</th>\n",
       "      <th>with new features</th>\n",
       "    </tr>\n",
       "  </thead>\n",
       "  <tbody>\n",
       "    <tr>\n",
       "      <th>accuracy</th>\n",
       "      <td>0.8845</td>\n",
       "      <td>0.8845</td>\n",
       "    </tr>\n",
       "    <tr>\n",
       "      <th>precision</th>\n",
       "      <td>0.7908</td>\n",
       "      <td>0.7908</td>\n",
       "    </tr>\n",
       "    <tr>\n",
       "      <th>recall</th>\n",
       "      <td>0.1815</td>\n",
       "      <td>0.1815</td>\n",
       "    </tr>\n",
       "  </tbody>\n",
       "</table>\n",
       "</div>"
      ],
      "text/plain": [
       "          baseline with new features\n",
       "accuracy    0.8845            0.8845\n",
       "precision   0.7908            0.7908\n",
       "recall      0.1815            0.1815"
      ]
     },
     "execution_count": 24,
     "metadata": {},
     "output_type": "execute_result"
    }
   ],
   "source": [
    "#create new features\n",
    "o_features.createNewFeatures(o_enron)\n",
    "features_list2 = features_list + ['biggest_expenses', 'percentual_exercised']\n",
    "o_enron.fill_and_remove(l_features= features_list2,s_strategy=\"zeros\", b_remove=True)\n",
    "labels, features= o_features.getFeaturesAndLabels(o_enron,l_columns = features_list2 )\n",
    "#create a new classifier object with minmaxscaler in its pipeline\n",
    "clf2 = classifiers.Classifier(\"KNeighbors\", usePCA = False, scale_on_pipe=False)\n",
    "clf2.d_performance = clf.d_performance\n",
    "#train ML and print a report\n",
    "clf2.crossValidation(features, labels,  report = False, l_columns= ['baseline','with new features'])"
   ]
  },
  {
   "cell_type": "markdown",
   "metadata": {},
   "source": [
    "It seems that did not make difference. Maybe when I reduce my feature space , these features can be selected. Let's keep going."
   ]
  },
  {
   "cell_type": "markdown",
   "metadata": {},
   "source": [
    "#####Scale or not Scale\n",
    "\n",
    "As I intend to use the K-means algorithm as one of my machine-learning candidates, usually it is required to scale the data because the algorithm uses the distance between the data points as a measure of similarity between them.\n",
    "\n",
    "I am going to test two approachs here: First, considering that there are two different units in the features to be tested, money and count of e-mails, I am going to scale each group of features separately, but all features of the same group together."
   ]
  },
  {
   "cell_type": "code",
   "execution_count": 25,
   "metadata": {
    "collapsed": false
   },
   "outputs": [
    {
     "data": {
      "text/html": [
       "<div>\n",
       "<table border=\"1\" class=\"dataframe\">\n",
       "  <thead>\n",
       "    <tr style=\"text-align: right;\">\n",
       "      <th></th>\n",
       "      <th>baseline</th>\n",
       "      <th>scaled data</th>\n",
       "    </tr>\n",
       "  </thead>\n",
       "  <tbody>\n",
       "    <tr>\n",
       "      <th>accuracy</th>\n",
       "      <td>0.8845</td>\n",
       "      <td>0.8469</td>\n",
       "    </tr>\n",
       "    <tr>\n",
       "      <th>precision</th>\n",
       "      <td>0.7908</td>\n",
       "      <td>0.1938</td>\n",
       "    </tr>\n",
       "    <tr>\n",
       "      <th>recall</th>\n",
       "      <td>0.1815</td>\n",
       "      <td>0.0470</td>\n",
       "    </tr>\n",
       "  </tbody>\n",
       "</table>\n",
       "</div>"
      ],
      "text/plain": [
       "          baseline scaled data\n",
       "accuracy    0.8845      0.8469\n",
       "precision   0.7908      0.1938\n",
       "recall      0.1815      0.0470"
      ]
     },
     "execution_count": 25,
     "metadata": {},
     "output_type": "execute_result"
    }
   ],
   "source": [
    "#scale features according to the total of each group and split them\n",
    "o_features.scallingAll(o_enron)\n",
    "labels, features= o_features.getFeaturesAndLabels(o_enron, l_columns = features_list2, scaled=True)\n",
    "#create a new classifier object with minmaxscaler in its pipeline\n",
    "clf2 = classifiers.Classifier(\"KNeighbors\", usePCA = False, scale_on_pipe=False)\n",
    "clf2.d_performance = clf.d_performance\n",
    "#train ML and print a report\n",
    "clf2.crossValidation(features, labels,  report = False, l_columns= ['baseline','scaled data'])"
   ]
  },
  {
   "cell_type": "markdown",
   "metadata": {},
   "source": [
    "... hm, it is bad...ok, let's see if reducing features to a range between 0 and 1 using sklearn preprocessing's function `MinMaxScaler` can help."
   ]
  },
  {
   "cell_type": "code",
   "execution_count": 26,
   "metadata": {
    "collapsed": false
   },
   "outputs": [
    {
     "data": {
      "text/html": [
       "<div>\n",
       "<table border=\"1\" class=\"dataframe\">\n",
       "  <thead>\n",
       "    <tr style=\"text-align: right;\">\n",
       "      <th></th>\n",
       "      <th>baseline</th>\n",
       "      <th>sklearn scaled</th>\n",
       "    </tr>\n",
       "  </thead>\n",
       "  <tbody>\n",
       "    <tr>\n",
       "      <th>accuracy</th>\n",
       "      <td>0.8845</td>\n",
       "      <td>0.8579</td>\n",
       "    </tr>\n",
       "    <tr>\n",
       "      <th>precision</th>\n",
       "      <td>0.7908</td>\n",
       "      <td>0.2471</td>\n",
       "    </tr>\n",
       "    <tr>\n",
       "      <th>recall</th>\n",
       "      <td>0.1815</td>\n",
       "      <td>0.0320</td>\n",
       "    </tr>\n",
       "  </tbody>\n",
       "</table>\n",
       "</div>"
      ],
      "text/plain": [
       "          baseline sklearn scaled\n",
       "accuracy    0.8845         0.8579\n",
       "precision   0.7908         0.2471\n",
       "recall      0.1815         0.0320"
      ]
     },
     "execution_count": 26,
     "metadata": {},
     "output_type": "execute_result"
    }
   ],
   "source": [
    "#get data in their normal scale\n",
    "labels, features= o_features.getFeaturesAndLabels(o_enron, l_columns = features_list2)\n",
    "#create a new classifier object with minmaxscaler in its pipeline\n",
    "clf2 = classifiers.Classifier(\"KNeighbors\", usePCA = False, scale_on_pipe=True)\n",
    "clf2.d_performance = clf.d_performance\n",
    "#train ML and print a report\n",
    "clf2.crossValidation(features, labels,  report = False, l_columns= ['baseline','sklearn scaled'])"
   ]
  },
  {
   "cell_type": "markdown",
   "metadata": {},
   "source": [
    "I give up. It was definitely not a good idea to scale my dataset. Maybe when I put all features in the same scale, the features that matter in this case are being surpassed by other. Then, I will not scale this data."
   ]
  },
  {
   "cell_type": "markdown",
   "metadata": {},
   "source": [
    "#####Should I use features with too little valid data?"
   ]
  },
  {
   "cell_type": "code",
   "execution_count": 2,
   "metadata": {
    "collapsed": false
   },
   "outputs": [
    {
     "ename": "NameError",
     "evalue": "name 'features_list' is not defined",
     "output_type": "error",
     "traceback": [
      "\u001b[0;31m---------------------------------------------------------------------------\u001b[0m",
      "\u001b[0;31mNameError\u001b[0m                                 Traceback (most recent call last)",
      "\u001b[0;32m<ipython-input-2-383967b0f79e>\u001b[0m in \u001b[0;36m<module>\u001b[0;34m()\u001b[0m\n\u001b[1;32m      8\u001b[0m \u001b[0mo_features\u001b[0m \u001b[0;34m=\u001b[0m \u001b[0mfeatureSelection\u001b[0m\u001b[0;34m.\u001b[0m\u001b[0mFeatures\u001b[0m\u001b[0;34m(\u001b[0m\u001b[0;34m)\u001b[0m\u001b[0;34m\u001b[0m\u001b[0m\n\u001b[1;32m      9\u001b[0m \u001b[0mo_enron\u001b[0m\u001b[0;34m.\u001b[0m\u001b[0mexcludeOutliers\u001b[0m\u001b[0;34m(\u001b[0m\u001b[0ml_outliers\u001b[0m \u001b[0;34m=\u001b[0m  \u001b[0;34m[\u001b[0m\u001b[0;34m\"BELFER ROBERT\"\u001b[0m\u001b[0;34m,\u001b[0m\u001b[0;34m\"BHATNAGAR SANJAY\"\u001b[0m\u001b[0;34m,\u001b[0m \u001b[0;34m\"TOTAL\"\u001b[0m\u001b[0;34m]\u001b[0m\u001b[0;34m)\u001b[0m\u001b[0;34m\u001b[0m\u001b[0m\n\u001b[0;32m---> 10\u001b[0;31m \u001b[0mo_enron\u001b[0m\u001b[0;34m.\u001b[0m\u001b[0mfill_and_remove\u001b[0m\u001b[0;34m(\u001b[0m\u001b[0ml_features\u001b[0m\u001b[0;34m=\u001b[0m \u001b[0mfeatures_list\u001b[0m\u001b[0;34m,\u001b[0m\u001b[0ms_strategy\u001b[0m\u001b[0;34m=\u001b[0m\u001b[0;34m\"zeros\"\u001b[0m\u001b[0;34m,\u001b[0m \u001b[0mb_remove\u001b[0m\u001b[0;34m=\u001b[0m\u001b[0mTrue\u001b[0m\u001b[0;34m)\u001b[0m\u001b[0;34m\u001b[0m\u001b[0m\n\u001b[0m\u001b[1;32m     11\u001b[0m \u001b[0mo_features\u001b[0m\u001b[0;34m.\u001b[0m\u001b[0mcreateNewFeatures\u001b[0m\u001b[0;34m(\u001b[0m\u001b[0mo_enron\u001b[0m\u001b[0;34m)\u001b[0m\u001b[0;34m\u001b[0m\u001b[0m\n\u001b[1;32m     12\u001b[0m \u001b[0mfeatures_list2\u001b[0m \u001b[0;34m=\u001b[0m \u001b[0mfeatures_list\u001b[0m \u001b[0;34m+\u001b[0m \u001b[0;34m[\u001b[0m\u001b[0;34m'biggest_expenses'\u001b[0m\u001b[0;34m,\u001b[0m \u001b[0;34m'percentual_exercised'\u001b[0m\u001b[0;34m]\u001b[0m\u001b[0;34m\u001b[0m\u001b[0m\n",
      "\u001b[0;31mNameError\u001b[0m: name 'features_list' is not defined"
     ]
    }
   ],
   "source": [
    "#exclude it from the final version\n",
    "import eda_new; reload(eda_new);\n",
    "import dataset; reload(dataset);\n",
    "import featureSelection; reload(featureSelection);\n",
    "\n",
    "o_enron = dataset.LoadEnron()\n",
    "o_stats = eda_new.Eda()\n",
    "o_features = featureSelection.Features()\n",
    "o_enron.excludeOutliers(l_outliers =  [\"BELFER ROBERT\",\"BHATNAGAR SANJAY\", \"TOTAL\"])\n",
    "o_enron.fill_and_remove(l_features= features_list,s_strategy=\"zeros\", b_remove=True)\n",
    "o_features.createNewFeatures(o_enron)\n",
    "features_list2 = features_list + ['biggest_expenses', 'percentual_exercised']"
   ]
  },
  {
   "cell_type": "markdown",
   "metadata": {},
   "source": [
    "Now, what features should I use to train my machine learning algorithms? As I discussed before, there are some features that most of the values is equal to \"Nan\". As I want to examine all features related to emails behaviour, I will cut all those that have presented less than 45% of valid numbers. Below, I presented the $10$ smallest ValidNumber ratios."
   ]
  },
  {
   "cell_type": "code",
   "execution_count": 27,
   "metadata": {
    "collapsed": false
   },
   "outputs": [
    {
     "data": {
      "text/html": [
       "<div>\n",
       "<table border=\"1\" class=\"dataframe\">\n",
       "  <thead>\n",
       "    <tr style=\"text-align: right;\">\n",
       "      <th></th>\n",
       "      <th>ValidNumbers</th>\n",
       "    </tr>\n",
       "  </thead>\n",
       "  <tbody>\n",
       "    <tr>\n",
       "      <th>biggest_expenses</th>\n",
       "      <td>0.554795</td>\n",
       "    </tr>\n",
       "    <tr>\n",
       "      <th>from_poi_to_this_person</th>\n",
       "      <td>0.506849</td>\n",
       "    </tr>\n",
       "    <tr>\n",
       "      <th>from_this_person_to_poi</th>\n",
       "      <td>0.452055</td>\n",
       "    </tr>\n",
       "    <tr>\n",
       "      <th>long_term_incentive</th>\n",
       "      <td>0.452055</td>\n",
       "    </tr>\n",
       "    <tr>\n",
       "      <th>deferred_income</th>\n",
       "      <td>0.335616</td>\n",
       "    </tr>\n",
       "    <tr>\n",
       "      <th>deferral_payments</th>\n",
       "      <td>0.267123</td>\n",
       "    </tr>\n",
       "    <tr>\n",
       "      <th>poi</th>\n",
       "      <td>0.123288</td>\n",
       "    </tr>\n",
       "    <tr>\n",
       "      <th>restricted_stock_deferred</th>\n",
       "      <td>0.123288</td>\n",
       "    </tr>\n",
       "    <tr>\n",
       "      <th>director_fees</th>\n",
       "      <td>0.116438</td>\n",
       "    </tr>\n",
       "    <tr>\n",
       "      <th>loan_advances</th>\n",
       "      <td>0.027397</td>\n",
       "    </tr>\n",
       "  </tbody>\n",
       "</table>\n",
       "</div>"
      ],
      "text/plain": [
       "                           ValidNumbers\n",
       "biggest_expenses               0.554795\n",
       "from_poi_to_this_person        0.506849\n",
       "from_this_person_to_poi        0.452055\n",
       "long_term_incentive            0.452055\n",
       "deferred_income                0.335616\n",
       "deferral_payments              0.267123\n",
       "poi                            0.123288\n",
       "restricted_stock_deferred      0.123288\n",
       "director_fees                  0.116438\n",
       "loan_advances                  0.027397"
      ]
     },
     "execution_count": 27,
     "metadata": {},
     "output_type": "execute_result"
    }
   ],
   "source": [
    "o_stats.notValidNumbersTable(o_enron).tail(10)"
   ]
  },
  {
   "cell_type": "markdown",
   "metadata": {},
   "source": [
    "Corrigir função de notvalid numbers....ela é afetada por não preencher mais com zeros. Talvez deva manter dados originais"
   ]
  },
  {
   "cell_type": "code",
   "execution_count": 263,
   "metadata": {
    "collapsed": false
   },
   "outputs": [],
   "source": [
    "l_precision=[]\n",
    "l_recall=[]\n",
    "l_val = [0., 0.1, 0.2, 0.3, 0.4, 0.5, 0.6, 0.7, 0.8, 0.9]\n",
    "#get data in their normal scale\n",
    "for f_val in l_val:\n",
    "    labels, features= o_features.getFeaturesAndLabels(o_enron, o_eda = o_stats, f_validNumMin=f_val)\n",
    "    #create a new classifier object with minmaxscaler in its pipeline\n",
    "    clf2 = classifiers.Classifier(\"KNeighbors\", usePCA = False, scale_on_pipe=False)\n",
    "    clf2.d_performance = clf.d_performance\n",
    "    #train ML and print a report\n",
    "    clf2.crossValidation(features, labels,  report = False, l_columns= ['mean','sklearn scaled'])\n",
    "    l_precision.append(clf2.d_performance[\"precision\"])\n",
    "    l_recall.append(clf2.d_performance[\"recall\"])"
   ]
  },
  {
   "cell_type": "code",
   "execution_count": 269,
   "metadata": {
    "collapsed": false
   },
   "outputs": [
    {
     "data": {
      "image/png": "[encoded data removed]",
      "text/plain": [
       "<matplotlib.figure.Figure at 0x10f7f4c10>"
      ]
     },
     "metadata": {},
     "output_type": "display_data"
    }
   ],
   "source": [
    "ax = pd.DataFrame([[clf.d_performance[\"precision\"]] * len(l_precision), l_precision], columns = l_val,\n",
    "             index = [\"mean\", \"valid numbers\"]).T.plot()\n",
    "ax.set_title(\"variation of precision\\n\");"
   ]
  },
  {
   "cell_type": "code",
   "execution_count": 271,
   "metadata": {
    "collapsed": false
   },
   "outputs": [
    {
     "data": {
      "image/png": "[encoded data removed]",
      "text/plain": [
       "<matplotlib.figure.Figure at 0x10fa2e790>"
      ]
     },
     "metadata": {},
     "output_type": "display_data"
    }
   ],
   "source": [
    "ax = pd.DataFrame([[clf.d_performance[\"recall\"]] * len(l_recall), l_recall], columns = l_val,\n",
    "             index = [\"mean\", \"valid numbers\"]).T.plot()\n",
    "ax.set_title(\"variation of precision\\n\");"
   ]
  },
  {
   "cell_type": "code",
   "execution_count": 233,
   "metadata": {
    "collapsed": false
   },
   "outputs": [
    {
     "data": {
      "text/html": [
       "<div>\n",
       "<table border=\"1\" class=\"dataframe\">\n",
       "  <thead>\n",
       "    <tr style=\"text-align: right;\">\n",
       "      <th></th>\n",
       "      <th>mean</th>\n",
       "      <th>sklearn scaled</th>\n",
       "    </tr>\n",
       "  </thead>\n",
       "  <tbody>\n",
       "    <tr>\n",
       "      <th>accuracy</th>\n",
       "      <td>0.8833</td>\n",
       "      <td>0.8833</td>\n",
       "    </tr>\n",
       "    <tr>\n",
       "      <th>precision</th>\n",
       "      <td>0.7632</td>\n",
       "      <td>0.7632</td>\n",
       "    </tr>\n",
       "    <tr>\n",
       "      <th>recall</th>\n",
       "      <td>0.1805</td>\n",
       "      <td>0.1805</td>\n",
       "    </tr>\n",
       "  </tbody>\n",
       "</table>\n",
       "</div>"
      ],
      "text/plain": [
       "             mean sklearn scaled\n",
       "accuracy   0.8833         0.8833\n",
       "precision  0.7632         0.7632\n",
       "recall     0.1805         0.1805"
      ]
     },
     "execution_count": 233,
     "metadata": {},
     "output_type": "execute_result"
    }
   ],
   "source": [
    "labels, features= o_features.getFeaturesAndLabels(o_enron, l_columns=features_list, o_eda = o_stats, f_validNumMin=0)\n",
    "#create a new classifier object with minmaxscaler in its pipeline\n",
    "clf2 = classifiers.Classifier(\"KNeighbors\", usePCA = False, scale_on_pipe=False)\n",
    "clf2.d_performance = clf.d_performance\n",
    "#train ML and print a report\n",
    "clf2.crossValidation(features, labels,  report = False, l_columns= ['mean','sklearn scaled'])"
   ]
  },
  {
   "cell_type": "code",
   "execution_count": null,
   "metadata": {
    "collapsed": true
   },
   "outputs": [],
   "source": []
  },
  {
   "cell_type": "code",
   "execution_count": null,
   "metadata": {
    "collapsed": true
   },
   "outputs": [],
   "source": []
  },
  {
   "cell_type": "markdown",
   "metadata": {},
   "source": [
    "#####Selecting the best ones\n",
    "\n",
    "I am going to select features using sklearn's `SelectPercentile` with ANOVA F-test function to score the features. Let's see what percentile can maximize my performance."
   ]
  },
  {
   "cell_type": "code",
   "execution_count": 435,
   "metadata": {
    "collapsed": false
   },
   "outputs": [
    {
     "data": {
      "image/png": "[encoded data removed]",
      "text/plain": [
       "<matplotlib.figure.Figure at 0x10ed536d0>"
      ]
     },
     "metadata": {},
     "output_type": "display_data"
    }
   ],
   "source": [
    "eda_new.precision_recall_curve(dataset.LoadEnron, classifiers.Classifier, o_features, features_list2)"
   ]
  },
  {
   "cell_type": "markdown",
   "metadata": {},
   "source": [
    "Interesting. The best recall occurred at the top $10%$ percentile, but in the top $20%$ I hit greater precision with slightly smaller recall. The greater precision occurred at $90%$ at the cost of a recall smaller than $0.20$. Then I will use the select percentile function with `percentile=20`. Here are the features represented by the top 20%."
   ]
  },
  {
   "cell_type": "code",
   "execution_count": 28,
   "metadata": {
    "collapsed": false
   },
   "outputs": [],
   "source": [
    "#exclude it from the final version\n",
    "labels, features= o_features.getFeaturesAndLabels(o_enron, o_stats,l_columns = features_list2)"
   ]
  },
  {
   "cell_type": "code",
   "execution_count": 29,
   "metadata": {
    "collapsed": false
   },
   "outputs": [
    {
     "data": {
      "text/plain": [
       "\"features selected: ['bonus', 'deferred_income', 'exercised_stock_options', 'salary']\""
      ]
     },
     "execution_count": 29,
     "metadata": {},
     "output_type": "execute_result"
    }
   ],
   "source": [
    "l_selectedFetures, df_rtn = o_features.select(features, labels, features_list2, percentile=20)\n",
    "\"features selected: {}\".format(l_selectedFetures)"
   ]
  },
  {
   "cell_type": "markdown",
   "metadata": {},
   "source": [
    "Just Payment and Stock Value features. No Email or New features. Below is the rank of all features based on the biggest p-value."
   ]
  },
  {
   "cell_type": "code",
   "execution_count": 375,
   "metadata": {
    "collapsed": false
   },
   "outputs": [
    {
     "data": {
      "text/html": [
       "<div>\n",
       "<table border=\"1\" class=\"dataframe\">\n",
       "  <thead>\n",
       "    <tr style=\"text-align: right;\">\n",
       "      <th></th>\n",
       "      <th>pValue_Max</th>\n",
       "    </tr>\n",
       "  </thead>\n",
       "  <tbody>\n",
       "    <tr>\n",
       "      <th>exercised_stock_options</th>\n",
       "      <td>1.000000</td>\n",
       "    </tr>\n",
       "    <tr>\n",
       "      <th>bonus</th>\n",
       "      <td>0.857466</td>\n",
       "    </tr>\n",
       "    <tr>\n",
       "      <th>salary</th>\n",
       "      <td>0.769350</td>\n",
       "    </tr>\n",
       "    <tr>\n",
       "      <th>deferred_income</th>\n",
       "      <td>0.525508</td>\n",
       "    </tr>\n",
       "    <tr>\n",
       "      <th>long_term_incentive</th>\n",
       "      <td>0.466340</td>\n",
       "    </tr>\n",
       "    <tr>\n",
       "      <th>percentual_exercised</th>\n",
       "      <td>0.444304</td>\n",
       "    </tr>\n",
       "    <tr>\n",
       "      <th>restricted_stock</th>\n",
       "      <td>0.436342</td>\n",
       "    </tr>\n",
       "    <tr>\n",
       "      <th>shared_receipt_with_poi</th>\n",
       "      <td>0.416612</td>\n",
       "    </tr>\n",
       "    <tr>\n",
       "      <th>loan_advances</th>\n",
       "      <td>0.362126</td>\n",
       "    </tr>\n",
       "    <tr>\n",
       "      <th>expenses</th>\n",
       "      <td>0.314408</td>\n",
       "    </tr>\n",
       "    <tr>\n",
       "      <th>from_poi_to_this_person</th>\n",
       "      <td>0.280534</td>\n",
       "    </tr>\n",
       "    <tr>\n",
       "      <th>other</th>\n",
       "      <td>0.236019</td>\n",
       "    </tr>\n",
       "    <tr>\n",
       "      <th>from_this_person_to_poi</th>\n",
       "      <td>0.155927</td>\n",
       "    </tr>\n",
       "    <tr>\n",
       "      <th>director_fees</th>\n",
       "      <td>0.138048</td>\n",
       "    </tr>\n",
       "    <tr>\n",
       "      <th>to_messages</th>\n",
       "      <td>0.119824</td>\n",
       "    </tr>\n",
       "    <tr>\n",
       "      <th>restricted_stock_deferred</th>\n",
       "      <td>0.077987</td>\n",
       "    </tr>\n",
       "    <tr>\n",
       "      <th>deferral_payments</th>\n",
       "      <td>0.035412</td>\n",
       "    </tr>\n",
       "    <tr>\n",
       "      <th>from_messages</th>\n",
       "      <td>0.029685</td>\n",
       "    </tr>\n",
       "    <tr>\n",
       "      <th>biggest_expenses</th>\n",
       "      <td>0.024393</td>\n",
       "    </tr>\n",
       "  </tbody>\n",
       "</table>\n",
       "</div>"
      ],
      "text/plain": [
       "                           pValue_Max\n",
       "exercised_stock_options      1.000000\n",
       "bonus                        0.857466\n",
       "salary                       0.769350\n",
       "deferred_income              0.525508\n",
       "long_term_incentive          0.466340\n",
       "percentual_exercised         0.444304\n",
       "restricted_stock             0.436342\n",
       "shared_receipt_with_poi      0.416612\n",
       "loan_advances                0.362126\n",
       "expenses                     0.314408\n",
       "from_poi_to_this_person      0.280534\n",
       "other                        0.236019\n",
       "from_this_person_to_poi      0.155927\n",
       "director_fees                0.138048\n",
       "to_messages                  0.119824\n",
       "restricted_stock_deferred    0.077987\n",
       "deferral_payments            0.035412\n",
       "from_messages                0.029685\n",
       "biggest_expenses             0.024393"
      ]
     },
     "execution_count": 375,
     "metadata": {},
     "output_type": "execute_result"
    }
   ],
   "source": [
    "df_rtn"
   ]
  },
  {
   "cell_type": "markdown",
   "metadata": {},
   "source": [
    "Ow...one last thing. As I will use just some features in the next section, I am going to remove any data point that __all the selected features__ are equal to $0$. "
   ]
  },
  {
   "cell_type": "code",
   "execution_count": 30,
   "metadata": {
    "collapsed": false
   },
   "outputs": [],
   "source": [
    "o_enron.fill_and_remove(l_features= l_selectedFetures)"
   ]
  },
  {
   "cell_type": "markdown",
   "metadata": {},
   "source": [
    "Now, let's see if it improved my algorithm"
   ]
  },
  {
   "cell_type": "code",
   "execution_count": 31,
   "metadata": {
    "collapsed": false
   },
   "outputs": [
    {
     "data": {
      "text/html": [
       "<div>\n",
       "<table border=\"1\" class=\"dataframe\">\n",
       "  <thead>\n",
       "    <tr style=\"text-align: right;\">\n",
       "      <th></th>\n",
       "      <th>baseline</th>\n",
       "      <th>features selected</th>\n",
       "    </tr>\n",
       "  </thead>\n",
       "  <tbody>\n",
       "    <tr>\n",
       "      <th>accuracy</th>\n",
       "      <td>0.8845</td>\n",
       "      <td>0.8880</td>\n",
       "    </tr>\n",
       "    <tr>\n",
       "      <th>precision</th>\n",
       "      <td>0.7908</td>\n",
       "      <td>0.7500</td>\n",
       "    </tr>\n",
       "    <tr>\n",
       "      <th>recall</th>\n",
       "      <td>0.1815</td>\n",
       "      <td>0.3240</td>\n",
       "    </tr>\n",
       "  </tbody>\n",
       "</table>\n",
       "</div>"
      ],
      "text/plain": [
       "          baseline features selected\n",
       "accuracy    0.8845            0.8880\n",
       "precision   0.7908            0.7500\n",
       "recall      0.1815            0.3240"
      ]
     },
     "execution_count": 31,
     "metadata": {},
     "output_type": "execute_result"
    }
   ],
   "source": [
    "labels, features= o_features.getFeaturesAndLabels(o_enron, l_columns=l_selectedFetures , o_eda = o_stats)\n",
    "#create a new classifier object with minmaxscaler in its pipeline\n",
    "clf2 = classifiers.Classifier(\"KNeighbors\", usePCA = False, scale_on_pipe=False)\n",
    "clf2.d_performance = clf.d_performance\n",
    "#train ML and print a report\n",
    "clf2.crossValidation(features, labels,  report = False, l_columns= ['baseline','features selected'])"
   ]
  },
  {
   "cell_type": "markdown",
   "metadata": {},
   "source": [
    "As I could see in the chart, I hit a recall bigger than $0.30$ at the cost of just a little of precision. After this last cleaning, I just have $131$ data points left. "
   ]
  },
  {
   "cell_type": "markdown",
   "metadata": {},
   "source": [
    "###Pick and Tune an Algorithm"
   ]
  },
  {
   "cell_type": "code",
   "execution_count": 2,
   "metadata": {
    "collapsed": true
   },
   "outputs": [],
   "source": [
    "#exclude it from the final version\n",
    "import eda_new; reload(eda_new);\n",
    "import dataset; reload(dataset);\n",
    "import featureSelection; reload(featureSelection);\n",
    "\n",
    "o_enron = dataset.LoadEnron()\n",
    "o_stats = eda_new.Eda()\n",
    "o_features = featureSelection.Features()\n",
    "o_enron.excludeOutliers(l_outliers =  [\"BELFER ROBERT\",\"BHATNAGAR SANJAY\", \"TOTAL\"])\n",
    "o_enron.fill_and_remove()\n",
    "o_features.createNewFeatures(o_enron)\n",
    "o_features.scallingAll(o_enron)\n",
    "\n",
    "features_list = o_features.getFeaturesList(o_enron, o_stats,f_validNumMin=0.45)\n",
    "labels, features= o_features.getFeaturesAndLabels(o_enron, o_stats,f_validNumMin = 0.45)\n",
    "l_selectedFetures, df_rtn = o_features.select(features, labels, features_list)\n",
    "o_enron.fill_and_remove(l_features= l_selectedFetures)\n",
    "#selecgtinn everything again\n",
    "labels, features= o_features.getFeaturesAndLabels(o_enron, o_stats,f_validNumMin = 0.45, l_columns = l_selectedFetures)\n",
    "labels_scaled, features_scaled  = o_features.getFeaturesAndLabels(o_enron, o_stats,scaled=True, f_validNumMin = 0.45, l_columns = l_selectedFetures)"
   ]
  },
  {
   "cell_type": "markdown",
   "metadata": {},
   "source": [
    "#####Using or not using PCA"
   ]
  },
  {
   "cell_type": "markdown",
   "metadata": {},
   "source": [
    "I would like to test one last thing before selecting and tuning an algorithm. Below, I am going to test the effect of using PCA in my baseline. As this method usually requires some kind of standardization, I will include the  sklearn preprocessing's `StandardScaler`to my pipeline."
   ]
  },
  {
   "cell_type": "code",
   "execution_count": 45,
   "metadata": {
    "collapsed": true
   },
   "outputs": [],
   "source": [
    "#exclude\n",
    "clf = clf2"
   ]
  },
  {
   "cell_type": "code",
   "execution_count": 46,
   "metadata": {
    "collapsed": false
   },
   "outputs": [
    {
     "data": {
      "text/html": [
       "<div>\n",
       "<table border=\"1\" class=\"dataframe\">\n",
       "  <thead>\n",
       "    <tr style=\"text-align: right;\">\n",
       "      <th></th>\n",
       "      <th>baseline</th>\n",
       "      <th>pca standardized</th>\n",
       "    </tr>\n",
       "  </thead>\n",
       "  <tbody>\n",
       "    <tr>\n",
       "      <th>accuracy</th>\n",
       "      <td>0.8880</td>\n",
       "      <td>0.8499</td>\n",
       "    </tr>\n",
       "    <tr>\n",
       "      <th>precision</th>\n",
       "      <td>0.7500</td>\n",
       "      <td>0.3750</td>\n",
       "    </tr>\n",
       "    <tr>\n",
       "      <th>recall</th>\n",
       "      <td>0.3240</td>\n",
       "      <td>0.0765</td>\n",
       "    </tr>\n",
       "  </tbody>\n",
       "</table>\n",
       "</div>"
      ],
      "text/plain": [
       "          baseline pca standardized\n",
       "accuracy    0.8880           0.8499\n",
       "precision   0.7500           0.3750\n",
       "recall      0.3240           0.0765"
      ]
     },
     "execution_count": 46,
     "metadata": {},
     "output_type": "execute_result"
    }
   ],
   "source": [
    "labels, features= o_features.getFeaturesAndLabels(o_enron, l_columns=l_selectedFetures , o_eda = o_stats)\n",
    "#create a new classifier object with minmaxscaler in its pipeline\n",
    "clf2 = classifiers.Classifier(\"KNeighbors\", usePCA = True, standardize=True)\n",
    "clf2.d_performance = clf.d_performance\n",
    "#train ML and print a report\n",
    "clf2.crossValidation(features, labels,  report = False, l_columns= ['baseline','pca standardized'])"
   ]
  },
  {
   "cell_type": "markdown",
   "metadata": {},
   "source": [
    "....It was bad. Ok, and without using the standardization"
   ]
  },
  {
   "cell_type": "code",
   "execution_count": 47,
   "metadata": {
    "collapsed": false
   },
   "outputs": [
    {
     "data": {
      "text/html": [
       "<div>\n",
       "<table border=\"1\" class=\"dataframe\">\n",
       "  <thead>\n",
       "    <tr style=\"text-align: right;\">\n",
       "      <th></th>\n",
       "      <th>baseline</th>\n",
       "      <th>pca</th>\n",
       "    </tr>\n",
       "  </thead>\n",
       "  <tbody>\n",
       "    <tr>\n",
       "      <th>accuracy</th>\n",
       "      <td>0.8880</td>\n",
       "      <td>0.8880</td>\n",
       "    </tr>\n",
       "    <tr>\n",
       "      <th>precision</th>\n",
       "      <td>0.7500</td>\n",
       "      <td>0.7500</td>\n",
       "    </tr>\n",
       "    <tr>\n",
       "      <th>recall</th>\n",
       "      <td>0.3240</td>\n",
       "      <td>0.3240</td>\n",
       "    </tr>\n",
       "  </tbody>\n",
       "</table>\n",
       "</div>"
      ],
      "text/plain": [
       "          baseline     pca\n",
       "accuracy    0.8880  0.8880\n",
       "precision   0.7500  0.7500\n",
       "recall      0.3240  0.3240"
      ]
     },
     "execution_count": 47,
     "metadata": {},
     "output_type": "execute_result"
    }
   ],
   "source": [
    "labels, features= o_features.getFeaturesAndLabels(o_enron, l_columns=l_selectedFetures , o_eda = o_stats)\n",
    "#create a new classifier object with minmaxscaler in its pipeline\n",
    "clf2 = classifiers.Classifier(\"KNeighbors\", usePCA = True, standardize=False)\n",
    "clf2.d_performance = clf.d_performance\n",
    "#train ML and print a report\n",
    "clf2.crossValidation(features, labels,  report = False, l_columns= ['baseline','pca'])"
   ]
  },
  {
   "cell_type": "markdown",
   "metadata": {},
   "source": [
    "It didn't make any difference in my current baseline. I believe that, as I am using just features related to money, in fact, I don't have to scale this data. Well, as I am not sure about the effect of the PCA in the other algorithms that I am going to test, I will keep using it in the next steps"
   ]
  },
  {
   "cell_type": "markdown",
   "metadata": {
    "collapsed": false
   },
   "source": [
    "#####Selecting an Algorithm\n",
    "\n",
    "Here is the deal. I must find the best machine learning algorithm to identify who has committed fraud, given the features selected. I am going to train different classifiers methods to see how each one performs. Also, I will use Principal component analysis (`PCA`) to project my features space into a even lower dimensional space. Let's start by looking at the __Navie Bayes Classifier__: "
   ]
  },
  {
   "cell_type": "code",
   "execution_count": 53,
   "metadata": {
    "collapsed": false
   },
   "outputs": [],
   "source": [
    "#exclude it from the final version\n",
    "import classifiers; reload(classifiers);\n",
    "labels, features= o_features.getFeaturesAndLabels(o_enron, l_columns = l_selectedFetures, o_eda = o_stats)\n",
    "o_all = classifiers.MLMethods()\n",
    "df_rtn  = o_all.crossValidationAll(features, labels)"
   ]
  },
  {
   "cell_type": "code",
   "execution_count": 49,
   "metadata": {
    "collapsed": false
   },
   "outputs": [
    {
     "name": "stdout",
     "output_type": "stream",
     "text": [
      "\n",
      "Classifier Used\n",
      "------------------\n",
      "Pipeline(steps=[('reduce_dim', PCA(copy=True, n_components=None, whiten=False)), ('GaussianNB', GaussianNB())])\n",
      "\n",
      "Classification Report\n",
      "------------------\n",
      "Accuracy: 0.86200\tPrecision: 0.52556\tRecall: 0.34950\tF1: 0.41982\tF2: 0.37460\n",
      "\n",
      "Confusion Matrix\n",
      "------------------\n",
      "Total predictions: 14000\tTrue positives:  699\tFalse positives:  631\n",
      "\t\t\t\tFalse negatives: 1301\tTrue negatives: 11369\n",
      "\n"
     ]
    }
   ],
   "source": [
    "o_all.getReport(\"crossValidation\",\"GaussianNB\")"
   ]
  },
  {
   "cell_type": "markdown",
   "metadata": {},
   "source": [
    "I know... What are these $14,000$ of total predictions? Didn't I say that I had just $131$ data points? As Udacity suggested, I am cross-validating the algorithm by stratifying the data set into randomized folds. Each fold is made by [preserving the percentage](http://scikit-learn.org/stable/modules/generated/sklearn.cross_validation.StratifiedShuffleSplit.html) of samples for each class and presents 131 data points. I will explain it better in the next section.\n",
    "\n",
    "Despite the more than 85% of accuracy above, it is not a great outcome. Looking at the confusion matrix, it is clearer why it isn't. When the Naive Bayes classified not POIs instances, it has achieved a nice proportion, 11,400 correct for 1,300 incorrect. When used to classify POIs instances, it almost tossed a coin. Unfortunately, POIs are what I am interested. I believe the problem here is that the data set has much more negative instances than positive ones.\n",
    "\n",
    "According to the [book](http://www.amazon.com/Building-Machine-Learning-Systems-Python/dp/1782161406) \"Building Machine Learning Systems With Python\", I have the following options to improve my current performance:\n",
    "- Add more data\n",
    "- Play with the model complexity\n",
    "- Modify the feature space\n",
    "- Change the model\n",
    "\n",
    "Well, adding more data is impossible. Then, let's start by changing the model. I am going to display a summary of the performance metrics for six different classifiers tested. The dataframe below was created using the classifiers MLMethods'method `crossValidationAll` that was created for this study. It runs the Udacity's Cross-validation test using sklearn `StratifiedShuffleSplit`for all machine learning methods stored in an internal dictionary."
   ]
  },
  {
   "cell_type": "code",
   "execution_count": 50,
   "metadata": {
    "collapsed": false
   },
   "outputs": [
    {
     "data": {
      "text/html": [
       "<div>\n",
       "<table border=\"1\" class=\"dataframe\">\n",
       "  <thead>\n",
       "    <tr style=\"text-align: right;\">\n",
       "      <th></th>\n",
       "      <th>accuracy</th>\n",
       "      <th>precision</th>\n",
       "      <th>recall</th>\n",
       "    </tr>\n",
       "  </thead>\n",
       "  <tbody>\n",
       "    <tr>\n",
       "      <th>SVM</th>\n",
       "      <td>None</td>\n",
       "      <td>None</td>\n",
       "      <td>None</td>\n",
       "    </tr>\n",
       "    <tr>\n",
       "      <th>RandomForest</th>\n",
       "      <td>0.8399</td>\n",
       "      <td>0.3891</td>\n",
       "      <td>0.2115</td>\n",
       "    </tr>\n",
       "    <tr>\n",
       "      <th>GaussianNB</th>\n",
       "      <td>0.8620</td>\n",
       "      <td>0.5256</td>\n",
       "      <td>0.3495</td>\n",
       "    </tr>\n",
       "    <tr>\n",
       "      <th>DecisionTree</th>\n",
       "      <td>0.8056</td>\n",
       "      <td>0.3079</td>\n",
       "      <td>0.2890</td>\n",
       "    </tr>\n",
       "    <tr>\n",
       "      <th>AdaBoost</th>\n",
       "      <td>0.8229</td>\n",
       "      <td>0.3431</td>\n",
       "      <td>0.2625</td>\n",
       "    </tr>\n",
       "    <tr>\n",
       "      <th>KNeighbors</th>\n",
       "      <td>0.8880</td>\n",
       "      <td>0.7500</td>\n",
       "      <td>0.3240</td>\n",
       "    </tr>\n",
       "  </tbody>\n",
       "</table>\n",
       "</div>"
      ],
      "text/plain": [
       "             accuracy precision  recall\n",
       "SVM              None      None    None\n",
       "RandomForest   0.8399    0.3891  0.2115\n",
       "GaussianNB     0.8620    0.5256  0.3495\n",
       "DecisionTree   0.8056    0.3079  0.2890\n",
       "AdaBoost       0.8229    0.3431  0.2625\n",
       "KNeighbors     0.8880    0.7500  0.3240"
      ]
     },
     "execution_count": 50,
     "metadata": {},
     "output_type": "execute_result"
    }
   ],
   "source": [
    "df_rtn"
   ]
  },
  {
   "cell_type": "markdown",
   "metadata": {},
   "source": [
    "Selecting the best one isn't easy. As an I have explained before, I can't just pick the estimator that had the best accuracy. I should choose the classifier that best fits in my goal. For now, believe me, __the best algorithm is my baseline, the KNeighbors__.\n",
    "\n",
    "As shown above, I also tested SVM algorithm despite it has returned \"divide by zero\" error for all setups used in the cross-validation step. It is related to the size of each fold and the number of positive examples. It seems that the SVM had a hard time using such imbalanced available data.\n",
    "\n",
    "Well, before I decide by a specific algorithm, in the next section I will play with the models complexity."
   ]
  },
  {
   "cell_type": "code",
   "execution_count": 4,
   "metadata": {
    "collapsed": true
   },
   "outputs": [],
   "source": [
    "#exclude\n",
    "import eda_new; reload(eda_new);\n",
    "import dataset; reload(dataset);\n",
    "import featureSelection; reload(featureSelection);\n",
    "o_enron = dataset.LoadEnron()\n",
    "o_stats = eda_new.Eda()\n",
    "o_features = featureSelection.Features()\n",
    "o_enron.excludeOutliers(l_outliers =  [\"BELFER ROBERT\",\"BHATNAGAR SANJAY\", \"TOTAL\"])\n",
    "\n",
    "#it is a string and poi because it is what I want to predict\n",
    "l_exclude = ['email_address','poi', 'total_payments', 'total_stock_value']\n",
    "features_list = [x for x in o_enron.df.columns if x not in l_exclude]\n",
    "\n",
    "o_enron.fill_and_remove(l_features= features_list,s_strategy=\"zeros\", b_remove=True)\n",
    "#create new features\n",
    "o_features.createNewFeatures(o_enron)\n",
    "features_list2 = features_list + ['biggest_expenses', 'percentual_exercised']\n",
    "o_enron.fill_and_remove(l_features= features_list2,s_strategy=\"zeros\", b_remove=True)\n",
    "labels, features= o_features.getFeaturesAndLabels(o_enron,l_columns = features_list2 )\n",
    "\n",
    "l_selectedFetures, df_rtn = o_features.select(features, labels, features_list2, percentile=20)\n",
    "o_enron.fill_and_remove(l_features= l_selectedFetures,s_strategy=\"zeros\", b_remove=True)\n",
    "labels, features= o_features.getFeaturesAndLabels(o_enron,l_columns = l_selectedFetures )\n",
    "#exclude it from the final version\n",
    "\n",
    "\n"
   ]
  },
  {
   "cell_type": "markdown",
   "metadata": {},
   "source": [
    "#####Tuning the classifiers\n",
    "\n",
    "Another way to improve my performance is by playing with the model complexity. According to this [blog post](http://machinelearningmastery.com/how-to-improve-machine-learning-results/), as machine learning models are parameterized, their behavior can be modified by tuning their parameters for a given problem.  It can lead to better estimators... or not. The more tuned, higher is the risk of overfitting. This strategy can be effective, but it can also result in a more fragile models that don’t perform well in practice.\n",
    "\n",
    "I am going to use the method `GridSearchCV` to tune my classifiers.  It looks for the best set of parameters between candidates generated from a grid of parameter values. As I am not so sure how to define the best here, I will using four different scoring methods: f1, precision, recall and accuracy."
   ]
  },
  {
   "cell_type": "code",
   "execution_count": 131,
   "metadata": {
    "collapsed": false
   },
   "outputs": [
    {
     "data": {
      "text/html": [
       "<div>\n",
       "<table border=\"1\" class=\"dataframe\">\n",
       "  <thead>\n",
       "    <tr style=\"text-align: right;\">\n",
       "      <th></th>\n",
       "      <th>f1</th>\n",
       "      <th>precision</th>\n",
       "      <th>recall</th>\n",
       "      <th>accuracy</th>\n",
       "    </tr>\n",
       "  </thead>\n",
       "  <tbody>\n",
       "    <tr>\n",
       "      <th>RandomForest</th>\n",
       "      <td>0.3640</td>\n",
       "      <td>0.4637</td>\n",
       "      <td>0.2774</td>\n",
       "      <td>0.8702</td>\n",
       "    </tr>\n",
       "    <tr>\n",
       "      <th>GaussianNB</th>\n",
       "      <td>0.4247</td>\n",
       "      <td>0.4637</td>\n",
       "      <td>0.3868</td>\n",
       "      <td>0.8626</td>\n",
       "    </tr>\n",
       "    <tr>\n",
       "      <th>DecisionTree</th>\n",
       "      <td>0.2949</td>\n",
       "      <td>0.3204</td>\n",
       "      <td>0.3321</td>\n",
       "      <td>0.8168</td>\n",
       "    </tr>\n",
       "    <tr>\n",
       "      <th>AdaBoost</th>\n",
       "      <td>0.2960</td>\n",
       "      <td>0.2980</td>\n",
       "      <td>0.2774</td>\n",
       "      <td>0.8244</td>\n",
       "    </tr>\n",
       "    <tr>\n",
       "      <th>KNeighbors</th>\n",
       "      <td>0.2239</td>\n",
       "      <td>0.4429</td>\n",
       "      <td>0.1679</td>\n",
       "      <td>0.8702</td>\n",
       "    </tr>\n",
       "  </tbody>\n",
       "</table>\n",
       "</div>"
      ],
      "text/plain": [
       "                  f1 precision  recall accuracy\n",
       "RandomForest  0.3640    0.4637  0.2774   0.8702\n",
       "GaussianNB    0.4247    0.4637  0.3868   0.8626\n",
       "DecisionTree  0.2949    0.3204  0.3321   0.8168\n",
       "AdaBoost      0.2960    0.2980  0.2774   0.8244\n",
       "KNeighbors    0.2239    0.4429  0.1679   0.8702"
      ]
     },
     "execution_count": 131,
     "metadata": {},
     "output_type": "execute_result"
    }
   ],
   "source": [
    "o_all.gridSearchAndScoringAll(features, labels, l_ignore=[\"SVM\"])"
   ]
  },
  {
   "cell_type": "markdown",
   "metadata": {},
   "source": [
    "Looking solely to this table, it is difficult to say what was the best algorithm. Each scoring method showed a different option. As I still need to cross-validate each algorithm, I will choose the best one in the next section."
   ]
  },
  {
   "cell_type": "markdown",
   "metadata": {},
   "source": [
    "###Validate and Evaluate"
   ]
  },
  {
   "cell_type": "markdown",
   "metadata": {
    "collapsed": true
   },
   "source": [
    "#####Usage of Evaluation Metrics\n",
    "\n",
    "The core objective of a machine learning algorithm is to generalize correctly from its experience when facing new instances. In other words, what matters in any estimator is the ability of the model to generalize to new cases. \n",
    "\n",
    "Here is where validation strategy comes into play. If I use the same data used to train the model to evaluate it, for sure that it will perform well. The logic is circular. What I really need to do is measuring the algorithm performance in instances that it has not seen at training. \n",
    "\n",
    "As pointed out by the book \"Building Machine Learning Systems with Python\", measuring the performance also is the part where most mistakes are waiting for aspiring ML learner. There are easy ones, such testing your approach with the same data on which you have trained. But there are more difficult ones; for example, when you have imbalanced training data.\n",
    "\n",
    "To address the first case, I am going break up the data into two blocks: on one block, I will train the model, and on the other, what I held out of training, I will test it. Due to the small size of the dataset, I will shuffle the data and repeat this process 1,000 times. As I have explained before, each run will preserve the percentage of samples for each class in both blocks.\n",
    "\n",
    "#####Validation Strategy\n",
    "\n",
    "Due to the imbalance data, I will look at precision and recall instead of focus on accuracy. The point is what I am trying to achieve here. I don't need a classifier that is good in predicting POIs AND not POIs, what is measured by __accuracy__. \n",
    "\n",
    "I need a classifier with acceptable performance when predicting POIs. Also, it is OK if the classifier miss some POIs (__recall__) since I can trust when my algorithm blame someone of being POI (__precision__).\n",
    "\n",
    "Then, to summarizing my strategy so far:\n",
    "\n",
    "1. I excluded the points \"BELFER ROBERT\",\"BHATNAGAR SANJAY\" and \"TOTAL\" from the dataset.\n",
    "2. I filled the missing values with the zeros and exclude datapoints that presented just zeros in all features\n",
    "3. I did NOT scale the data in any way\n",
    "4. I selected features in the top 20% percentile: _['bonus', 'deferred_income', 'exercised_stock_options', 'salary']_\n",
    "6. I included PCA as the first step in my pipeline\n",
    "7. I tuned my classifiers using `GridSeachCV`, varying my scoring method\n",
    "8. I validated all steps using croos-validation with `StratifiedShuffleSplit`\n",
    "\n",
    "In the next section, I will use all these performance measurements to select one of the algorithms.\n",
    "\n",
    "#####Algorithm Performance\n",
    "\n",
    "Beyond the accuracy, I need explore in the precision/recall from each algorithm to evaluate them properly. Bellow, I am going to show how each classifier performed according to the validation startegy:"
   ]
  },
  {
   "cell_type": "code",
   "execution_count": 136,
   "metadata": {
    "collapsed": false
   },
   "outputs": [
    {
     "data": {
      "text/html": [
       "<div>\n",
       "<table border=\"1\" class=\"dataframe\">\n",
       "  <thead>\n",
       "    <tr style=\"text-align: right;\">\n",
       "      <th></th>\n",
       "      <th></th>\n",
       "      <th>accuracy</th>\n",
       "      <th>precision</th>\n",
       "      <th>recall</th>\n",
       "    </tr>\n",
       "    <tr>\n",
       "      <th>scoring</th>\n",
       "      <th>algo</th>\n",
       "      <th></th>\n",
       "      <th></th>\n",
       "      <th></th>\n",
       "    </tr>\n",
       "  </thead>\n",
       "  <tbody>\n",
       "    <tr>\n",
       "      <th rowspan=\"6\" valign=\"top\">accuracy</th>\n",
       "      <th>AdaBoost</th>\n",
       "      <td>0.8216</td>\n",
       "      <td>0.3613</td>\n",
       "      <td>0.3235</td>\n",
       "    </tr>\n",
       "    <tr>\n",
       "      <th>DecisionTree</th>\n",
       "      <td>0.8631</td>\n",
       "      <td>0.5374</td>\n",
       "      <td>0.2980</td>\n",
       "    </tr>\n",
       "    <tr>\n",
       "      <th>GaussianNB</th>\n",
       "      <td>0.8620</td>\n",
       "      <td>0.5328</td>\n",
       "      <td>0.2765</td>\n",
       "    </tr>\n",
       "    <tr>\n",
       "      <th>KNeighbors</th>\n",
       "      <td>0.8674</td>\n",
       "      <td>0.6427</td>\n",
       "      <td>0.1610</td>\n",
       "    </tr>\n",
       "    <tr>\n",
       "      <th>RandomForest</th>\n",
       "      <td>0.8674</td>\n",
       "      <td>0.5869</td>\n",
       "      <td>0.2415</td>\n",
       "    </tr>\n",
       "    <tr>\n",
       "      <th>SVM</th>\n",
       "      <td>NaN</td>\n",
       "      <td>NaN</td>\n",
       "      <td>NaN</td>\n",
       "    </tr>\n",
       "    <tr>\n",
       "      <th rowspan=\"6\" valign=\"top\">f1</th>\n",
       "      <th>AdaBoost</th>\n",
       "      <td>0.8221</td>\n",
       "      <td>0.3625</td>\n",
       "      <td>0.3235</td>\n",
       "    </tr>\n",
       "    <tr>\n",
       "      <th>DecisionTree</th>\n",
       "      <td>0.8123</td>\n",
       "      <td>0.3409</td>\n",
       "      <td>0.3365</td>\n",
       "    </tr>\n",
       "    <tr>\n",
       "      <th>GaussianNB</th>\n",
       "      <td>0.8616</td>\n",
       "      <td>0.5231</td>\n",
       "      <td>0.3515</td>\n",
       "    </tr>\n",
       "    <tr>\n",
       "      <th>KNeighbors</th>\n",
       "      <td>0.8812</td>\n",
       "      <td>0.6309</td>\n",
       "      <td>0.4060</td>\n",
       "    </tr>\n",
       "    <tr>\n",
       "      <th>RandomForest</th>\n",
       "      <td>0.8516</td>\n",
       "      <td>0.4727</td>\n",
       "      <td>0.3380</td>\n",
       "    </tr>\n",
       "    <tr>\n",
       "      <th>SVM</th>\n",
       "      <td>NaN</td>\n",
       "      <td>NaN</td>\n",
       "      <td>NaN</td>\n",
       "    </tr>\n",
       "    <tr>\n",
       "      <th rowspan=\"6\" valign=\"top\">precision</th>\n",
       "      <th>AdaBoost</th>\n",
       "      <td>0.8236</td>\n",
       "      <td>0.3674</td>\n",
       "      <td>0.3255</td>\n",
       "    </tr>\n",
       "    <tr>\n",
       "      <th>DecisionTree</th>\n",
       "      <td>0.8127</td>\n",
       "      <td>0.3429</td>\n",
       "      <td>0.3395</td>\n",
       "    </tr>\n",
       "    <tr>\n",
       "      <th>GaussianNB</th>\n",
       "      <td>0.8616</td>\n",
       "      <td>0.5231</td>\n",
       "      <td>0.3515</td>\n",
       "    </tr>\n",
       "    <tr>\n",
       "      <th>KNeighbors</th>\n",
       "      <td>0.8984</td>\n",
       "      <td>0.8384</td>\n",
       "      <td>0.3580</td>\n",
       "    </tr>\n",
       "    <tr>\n",
       "      <th>RandomForest</th>\n",
       "      <td>0.8515</td>\n",
       "      <td>0.4448</td>\n",
       "      <td>0.1590</td>\n",
       "    </tr>\n",
       "    <tr>\n",
       "      <th>SVM</th>\n",
       "      <td>NaN</td>\n",
       "      <td>NaN</td>\n",
       "      <td>NaN</td>\n",
       "    </tr>\n",
       "    <tr>\n",
       "      <th rowspan=\"6\" valign=\"top\">recall</th>\n",
       "      <th>AdaBoost</th>\n",
       "      <td>0.8231</td>\n",
       "      <td>0.3658</td>\n",
       "      <td>0.3245</td>\n",
       "    </tr>\n",
       "    <tr>\n",
       "      <th>DecisionTree</th>\n",
       "      <td>0.8123</td>\n",
       "      <td>0.3406</td>\n",
       "      <td>0.3355</td>\n",
       "    </tr>\n",
       "    <tr>\n",
       "      <th>GaussianNB</th>\n",
       "      <td>0.8616</td>\n",
       "      <td>0.5231</td>\n",
       "      <td>0.3515</td>\n",
       "    </tr>\n",
       "    <tr>\n",
       "      <th>KNeighbors</th>\n",
       "      <td>0.8759</td>\n",
       "      <td>0.5992</td>\n",
       "      <td>0.3955</td>\n",
       "    </tr>\n",
       "    <tr>\n",
       "      <th>RandomForest</th>\n",
       "      <td>0.8509</td>\n",
       "      <td>0.4698</td>\n",
       "      <td>0.3380</td>\n",
       "    </tr>\n",
       "    <tr>\n",
       "      <th>SVM</th>\n",
       "      <td>NaN</td>\n",
       "      <td>NaN</td>\n",
       "      <td>NaN</td>\n",
       "    </tr>\n",
       "  </tbody>\n",
       "</table>\n",
       "</div>"
      ],
      "text/plain": [
       "                       accuracy precision  recall\n",
       "scoring   algo                                   \n",
       "accuracy  AdaBoost       0.8216    0.3613  0.3235\n",
       "          DecisionTree   0.8631    0.5374  0.2980\n",
       "          GaussianNB     0.8620    0.5328  0.2765\n",
       "          KNeighbors     0.8674    0.6427  0.1610\n",
       "          RandomForest   0.8674    0.5869  0.2415\n",
       "          SVM               NaN       NaN     NaN\n",
       "f1        AdaBoost       0.8221    0.3625  0.3235\n",
       "          DecisionTree   0.8123    0.3409  0.3365\n",
       "          GaussianNB     0.8616    0.5231  0.3515\n",
       "          KNeighbors     0.8812    0.6309  0.4060\n",
       "          RandomForest   0.8516    0.4727  0.3380\n",
       "          SVM               NaN       NaN     NaN\n",
       "precision AdaBoost       0.8236    0.3674  0.3255\n",
       "          DecisionTree   0.8127    0.3429  0.3395\n",
       "          GaussianNB     0.8616    0.5231  0.3515\n",
       "          KNeighbors     0.8984    0.8384  0.3580\n",
       "          RandomForest   0.8515    0.4448  0.1590\n",
       "          SVM               NaN       NaN     NaN\n",
       "recall    AdaBoost       0.8231    0.3658  0.3245\n",
       "          DecisionTree   0.8123    0.3406  0.3355\n",
       "          GaussianNB     0.8616    0.5231  0.3515\n",
       "          KNeighbors     0.8759    0.5992  0.3955\n",
       "          RandomForest   0.8509    0.4698  0.3380\n",
       "          SVM               NaN       NaN     NaN"
      ]
     },
     "execution_count": 136,
     "metadata": {},
     "output_type": "execute_result"
    }
   ],
   "source": [
    "o_all.crossValidationAndScoringAll(features, labels, l_ignore=[\"SVM\"])"
   ]
  },
  {
   "cell_type": "markdown",
   "metadata": {
    "collapsed": true
   },
   "source": [
    "I believe that the best scoring method used, in this case, was by precision. I could hit the best combination between precision and recall here. Looking just to the accuracy, It seems that all classifiers did well ($accuracy>0.80$). `KNeighbors` and `GaussianNB`, for example, were correct in 90% and 86% respectively of all cases they predicted. But these numbers also are influenced by not-POIs examples. \n",
    "\n",
    "Looking at the precision and recall, that accounts the information I am interested in, the performance of the classifiers wasn't so good.\n",
    "\n",
    "All algorithms missed the most of the data points classified as POIs. The `GaussianNB` presented the best recall score, predicting 35% of all POIs in the dataset. When it was used to classify someone as being a POI, it was right just in 52% of the cases.\n",
    "\n",
    "Although KNeighbors didn't presented a great recall, labeling just 36% of all true cases, when it classified someone as being a POI, the estimator was right almost in 84% of the cases. In this way, given the size of this dataset, I believe that the __KNeighbors is the best classifier__ for this task. Here are the parameters tested and chosen for this method:"
   ]
  },
  {
   "cell_type": "code",
   "execution_count": 75,
   "metadata": {
    "collapsed": false
   },
   "outputs": [
    {
     "name": "stdout",
     "output_type": "stream",
     "text": [
      "Best Score: 0.4429\n",
      "\n",
      "PARAMETERS TESTED\n",
      "------------------\n",
      "{'KNeighbors__n_neighbors': [2, 3, 4, 10, 30],\n",
      " 'KNeighbors__p': [1, 2, 3],\n",
      " 'reduce_dim__n_components': [1, 2, 3]}\n",
      "\n",
      "BEST PARAMETER\n",
      "------------------\n",
      "{'KNeighbors__n_neighbors': 4,\n",
      " 'KNeighbors__p': 3,\n",
      " 'reduce_dim__n_components': 2}\n",
      "\n",
      "\n"
     ]
    }
   ],
   "source": [
    "o_all.getReport(\"GridSearch\", \"KNeighbors\")"
   ]
  },
  {
   "cell_type": "markdown",
   "metadata": {},
   "source": [
    "Bellow I am going to show the cross-validation report for this algorithm:"
   ]
  },
  {
   "cell_type": "code",
   "execution_count": 9,
   "metadata": {
    "collapsed": false
   },
   "outputs": [
    {
     "name": "stdout",
     "output_type": "stream",
     "text": [
      "!!!!ALREADY TUNED\n",
      "\n",
      "Classifier Used\n",
      "------------------\n",
      "Pipeline(steps=[('reduce_dim', PCA(copy=True, n_components=2, whiten=False)), ('KNeighbors', KNeighborsClassifier(algorithm='auto', leaf_size=30, metric='minkowski',\n",
      "           metric_params=None, n_neighbors=4, p=2, weights='uniform'))])\n",
      "\n",
      "Classification Report\n",
      "------------------\n",
      "Accuracy: 0.88154\tPrecision: 0.77711\tRecall: 0.32250\tF1: 0.45583\tF2: 0.36523\n",
      "\n",
      "Confusion Matrix\n",
      "------------------\n",
      "Total predictions: 13000\tTrue positives:  645\tFalse positives:  185\n",
      "\t\t\t\tFalse negatives: 1355\tTrue negatives: 10815\n",
      "\n"
     ]
    }
   ],
   "source": [
    "o_all.getReport(\"crossValidation\",\"KNeighbors\")"
   ]
  },
  {
   "cell_type": "markdown",
   "metadata": {},
   "source": [
    "###Reflection\n",
    "\n",
    "That was a tough ride, from cleaning this imbalanced and small dataset to made an informed decision about which algorithm to use for the task. I learned about cross-validation, what is behind the accuracy and the different steps to follow in a machine learning problem.\n",
    "\n",
    "Along the way, I also learned how to use some convenient tools from Scikit-learn. For example, I used `SelectPercentile` to help me select the best features based on the percentile of their scores. I used `Pipeline` to execute `PCA` before each algorithm tested and avoided modifying my dataset to use it in further experiments.  \n",
    "\n",
    "I used `GridSeachCV` to create a grid of different parameters and evaluate the classifiers according each configuration. I used `StratifiedShuffleSplit` to cross-validate such small and imbalanced dataset. As I wanted as many true positives as possible, I ended up selecting `KNeighborsClassifier` to the task due to its precision score.\n",
    "\n",
    "Finally, I also learned the importance of correctly modeling your data set. As I adapted many of the Udacity codes to run this project in this notebook, I made many mistakes when importing and cleaning the dataset, what leaded me to very different results that I was expecting initially."
   ]
  },
  {
   "cell_type": "markdown",
   "metadata": {
    "collapsed": true
   },
   "source": [
    "####TODO:"
   ]
  },
  {
   "cell_type": "markdown",
   "metadata": {},
   "source": [
    "\n",
    "<hr>\n",
    "<em><p>7/14/2015 - At least 2 different algorithms attempted, and their performance is compared with the more performant one used in the final analysis</p>\n",
    "<p>7/14/2015 - Precision and recall are used to evaluate algorithm performance</p>\n",
    "<p>7/12/2015 - How do I interpret the PCA components? what features is it been using?</p>\n",
    "<p>7/11/2015 - At least 2 different algorithms attempted, and their performance is compared with the more performant one used in the final analysis</p>\n",
    "<p>7/11/2015 - What algorithm did you end up using?</p>\n",
    "<p>7/6/2015 - If you used an algorithm like a decision tree, please also give the feature importances of the features that you use.</p>\n",
    "<p>7/13/2015 - [Precision Recall] ... student articulates what those metrics measure.</p>\n",
    "<p>7/13/2015 - Response addresses what validation is and why it is important.</p>\n",
    "<p>7/13/2015 - Explain an interpretation of your metrics that says something human-understandable about your algorithm’s performance</p>\n",
    "<p>7/13/2015 - How did you validate your analysis?</p>\n",
    "<p>7/13/2015 - What is validation, and what’s a classic mistake you can make if you do it wrong?</p>\n",
    "<p>7/12/2015 - the effect of features created on the final algorithm performance is tested.</p>\n",
    "<p>7/12/2015 - At least one important parameter tuned, with at least 3 settings investigated; or any of the following are true: GridCV used for parameter tuning; Several parameters tuned ; Parameter tuning incorporated into algorithm selection (i.e. parameters tuned for more than one algorithm, and best algorithm-tune combination selected for final analysis)</p>\n",
    "<p>7/12/2015 - How did you tune the parameters of your particular algorithm?  (Some algorithms don’t have parameters that you need to tune--if this is the case for the one you picked, identify and briefly explain how you would have done it if you used, say, a decision tree classifier).</p>\n",
    "<p>7/12/2015 - Give at least 2 evaluation metrics, and your average performance for each of them.</p>\n",
    "<p>7/12/2015 - What does it mean to tune the parameters of an algorithm, and what can happen if you don’t do this well?</p>\n",
    "<p>7/12/2015 - Response addresses what it means to perform parameter tuning and why it is important.</p>\n",
    "<p>7/10/2015 - What other one(s) did you try?</p>\n",
    "<p>7/10/2015 - The data is split into training and testing sets, with the testing data used for assessing overall analysis performance; or k-fold cross validation is deployed </p>\n",
    "<p>7/10/2015 - Create a table with all APR of the algos tested. Show the complete report just for the algo choose</p>\n",
    "<p>7/9/2015 - Insert time to run the ML algos</p>\n",
    "<p>6/27/2015 - Keep the statistic summary as attribute and include the features selected and the bigger p_value ratio as new columns. Use it to present the results, sorted by p_values. From stats, show just count and the mean to justify the scaling</p>\n",
    "<p>7/5/2015 - What features did you end up using in your POI identifier, and what selection process did you use to pick them?  </p>\n",
    "<p>7/4/2015 - Did you have to do any scaling? Why or why not?</p>\n",
    "<p>6/30/2015 - Add a ratio of exercise stock options and total stock options. Justify by the movie. Maybe show a chart to answer why try it</p>\n",
    "<p>7/3/2015 - As part of the assignment, you should attempt to engineer your own feature that doesn’t come ready-made in the dataset--explain what feature you tried to make, and the rationale behind it.  (You do not necessarily have to use it in the final analysis, only engineer and test it.) </p>\n",
    "<p>6/27/2015 - Compare the summation of Payment and Stocks Features to see if all if correctly filled</p>\n",
    "<p>6/26/2015 - probably is someone important....I could plot a heat map with all datapointsand from to_poi features, splitting it between POIs and non-POIS...in another section - will be not necessary</p>\n",
    "</em>"
   ]
  },
  {
   "cell_type": "markdown",
   "metadata": {},
   "source": [
    "<em>Custom CSS</em>"
   ]
  },
  {
   "cell_type": "code",
   "execution_count": 5,
   "metadata": {
    "collapsed": false
   },
   "outputs": [
    {
     "data": {
      "text/html": [
       "<style>\n",
       "\n",
       "html {\n",
       "  font-size: 62.5% !important; }\n",
       "body {\n",
       "  font-size: 1.5em !important; /* currently ems cause chrome bug misinterpreting rems on body element */\n",
       "  line-height: 1.6 !important;\n",
       "  font-weight: 400 !important;\n",
       "  font-family: \"Raleway\", \"HelveticaNeue\", \"Helvetica Neue\", Helvetica, Arial, sans-serif !important;\n",
       "  color: #222 !important; }\n",
       "\n",
       "div{ border-radius: 0px !important;  }\n",
       "div.CodeMirror-sizer{ background: rgb(244, 244, 248) !important; }\n",
       "div.input_area{ background: rgb(244, 244, 248) !important; }\n",
       "\n",
       "div.out_prompt_overlay:hover{ background: rgb(244, 244, 248) !important; }\n",
       "div.input_prompt:hover{ background: rgb(244, 244, 248) !important; }\n",
       "\n",
       "h1, h2, h3, h4, h5, h6 {\n",
       "  color: #333 !important;\n",
       "  margin-top: 0 !important;\n",
       "  margin-bottom: 2rem !important;\n",
       "  font-weight: 300 !important; }\n",
       "h1 { font-size: 4.0rem !important; line-height: 1.2 !important;  letter-spacing: -.1rem !important;}\n",
       "h2 { font-size: 3.6rem !important; line-height: 1.25 !important; letter-spacing: -.1rem !important; }\n",
       "h3 { font-size: 3.0rem !important; line-height: 1.3 !important;  letter-spacing: -.1rem !important; }\n",
       "h4 { font-size: 2.4rem !important; line-height: 1.35 !important; letter-spacing: -.08rem !important; }\n",
       "h5 { font-size: 1.8rem !important; line-height: 1.5 !important;  letter-spacing: -.05rem !important; }\n",
       "h6 { font-size: 1.5rem !important; line-height: 1.6 !important;  letter-spacing: 0 !important; }\n",
       "\n",
       "@media (min-width: 550px) {\n",
       "  h1 { font-size: 5.0rem !important; }\n",
       "  h2 { font-size: 4.2rem !important; }\n",
       "  h3 { font-size: 3.6rem !important; }\n",
       "  h4 { font-size: 3.0rem !important; }\n",
       "  h5 { font-size: 2.4rem !important; }\n",
       "  h6 { font-size: 1.5rem !important; }\n",
       "}\n",
       "\n",
       "p {\n",
       "  margin-top: 4px !important; }\n",
       "  \n",
       "a {\n",
       "  color: #1EAEDB !important; }\n",
       "a:hover {\n",
       "  color: #0FA0CE !important; }\n",
       "  \n",
       "code {\n",
       "  padding: .2rem .5rem !important;\n",
       "  margin: 0 .2rem !important;\n",
       "  font-size: 90% !important;\n",
       "  white-space: nowrap !important;\n",
       "  background: #F1F1F1 !important;\n",
       "  border: 1px solid #E1E1E1 !important;\n",
       "  border-radius: 4px !important; }\n",
       "pre > code {\n",
       "  display: block !important;\n",
       "  padding: 1rem 1.5rem !important;\n",
       "  white-space: pre !important; }\n",
       "  \n",
       "button{ border-radius: 0px !important; }\n",
       ".navbar-inner{ background-image: none !important;  }\n",
       "select, textarea{ border-radius: 0px !important; }\n",
       "\n",
       "</style>\n",
       "\n",
       "\n",
       "\n",
       "<style>\n",
       "table {\n",
       "    overflow:hidden;\n",
       "    font-family: \"Lucida Sans Unicode\", \"Lucida Grande\", Sans-Serif;\n",
       "    font-size: 12px;\n",
       "    margin: 10px;\n",
       "    width: 480px;\n",
       "    text-align: left;\n",
       "    border-collapse: collapse;\n",
       "    border: 1px solid #d3d3d3;\n",
       "    -moz-border-radius:5px; FF1+;\n",
       "    -webkit-border-radius:5px; Saf3-4;\n",
       "    border-radius:5px;\n",
       "    -moz-box-shadow: 0 0 4px rgba(0, 0, 0, 0.01);    \n",
       "}\n",
       "th\n",
       "{\n",
       "    padding: 12px 17px 12px 17px;\n",
       "    font-weight: normal;\n",
       "    font-size: 14px;\n",
       "    border-bottom: 1px dashed #69c;\n",
       "}\n",
       "\n",
       "td\n",
       "{\n",
       "    padding: 7px 17px 7px 17px;\n",
       "\n",
       "}\n",
       "\n",
       "tbody tr:hover th\n",
       "{\n",
       "\n",
       "    background:  #E9E9E9;\n",
       "}\n",
       "\n",
       "tbody tr:hover td\n",
       "{\n",
       "\n",
       "    background:  #E9E9E9;\n",
       "}\n",
       "\n",
       "</style>"
      ],
      "text/plain": [
       "<IPython.core.display.HTML object>"
      ]
     },
     "execution_count": 5,
     "metadata": {},
     "output_type": "execute_result"
    }
   ],
   "source": [
    "#loading style sheet\n",
    "from IPython.core.display import HTML\n",
    "HTML( open('ipython_style.css').read() )"
   ]
  },
  {
   "cell_type": "code",
   "execution_count": 6,
   "metadata": {
    "collapsed": false
   },
   "outputs": [],
   "source": [
    "#changing matplotlib defaults\n",
    "%matplotlib inline\n",
    "import seaborn as sns\n",
    "sns.set_palette(\"deep\", desat=.6)\n",
    "sns.set_context(rc={\"figure.figsize\": (8, 4)})\n",
    "sns.set_style(\"darkgrid\")"
   ]
  },
  {
   "cell_type": "code",
   "execution_count": 44,
   "metadata": {
    "collapsed": false
   },
   "outputs": [],
   "source": []
  }
 ],
 "metadata": {
  "kernelspec": {
   "display_name": "Python 2",
   "language": "python",
   "name": "python2"
  },
  "language_info": {
   "codemirror_mode": {
    "name": "ipython",
    "version": 2
   },
   "file_extension": ".py",
   "mimetype": "text/x-python",
   "name": "python",
   "nbconvert_exporter": "python",
   "pygments_lexer": "ipython2",
   "version": "2.7.10"
  }
 },
 "nbformat": 4,
 "nbformat_minor": 0
}
